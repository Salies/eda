{
 "cells": [
  {
   "attachments": {},
   "cell_type": "markdown",
   "metadata": {},
   "source": [
    "# Análise exploratória de dados - GamersClub CS:GO"
   ]
  },
  {
   "attachments": {},
   "cell_type": "markdown",
   "metadata": {},
   "source": [
    "## Introdução"
   ]
  },
  {
   "cell_type": "code",
   "execution_count": 88,
   "metadata": {},
   "outputs": [
    {
     "name": "stderr",
     "output_type": "stream",
     "text": [
      "/tmp/ipykernel_496762/1254313477.py:6: MatplotlibDeprecationWarning:\n",
      "\n",
      "The seaborn styles shipped by Matplotlib are deprecated since 3.6, as they no longer correspond to the styles shipped by seaborn. However, they will remain available as 'seaborn-v0_8-<style>'. Alternatively, directly use the seaborn API instead.\n",
      "\n"
     ]
    }
   ],
   "source": [
    "import pandas as pd\n",
    "import plotly.express as px\n",
    "import datetime as dt\n",
    "import seaborn as sns\n",
    "import matplotlib.pyplot as plt\n",
    "plt.style.use('seaborn')\n",
    "\n"
   ]
  },
  {
   "attachments": {},
   "cell_type": "markdown",
   "metadata": {},
   "source": [
    "O jogo Counter-Strike Global Offensive, mais conhecido como CSGO, é um jogo de tiro em primeira pessoa (First Person Shooter), em que partidas são realizadas entre equipes de 5 jogadores cada. O jogo acaba quando uma das equipes ganha 16 rodadas. No caso de empate (por um placar de 15x15), são jogadas prorrogações com 6 rodadas até que uma das equipes ganhe 4 de 6 rodadas. O jogo compõe parte importante do cenário de esporte eletrônico, sendo acompanhado diariamente por milhares de espectadores em todos os países do mundo, apresentando cada vez mais espectadores no Brasil e atraindo uma quantidade considerável de investimentos."
   ]
  },
  {
   "attachments": {},
   "cell_type": "markdown",
   "metadata": {},
   "source": [
    "A *GamersClub* é uma plataforma digital brasileira que tem como objetivo prover o serviço de criação de partidas para o CSGO, além de promover competições profissionais e aulas para aqueles que pagam pela assinatura do serviço."
   ]
  },
  {
   "attachments": {},
   "cell_type": "markdown",
   "metadata": {},
   "source": [
    "O *dataset* utilizado nesse trabalho foi disponibilizado pela própria plataforma da *GamersClub* a partir do site do *Kaggle*. Esse conjunto de dados apresenta as informações de partidas jogadas por membros da plataforma, contendo informações de mais de 150 mil partidas. O mesmo pode ser obtido a partir do seguinte [endereço](https://www.kaggle.com/datasets/gamersclub/brazilian-csgo-plataform-dataset-by-gamers-club)"
   ]
  },
  {
   "attachments": {},
   "cell_type": "markdown",
   "metadata": {},
   "source": [
    "## Parte 0: qualidade dos dados"
   ]
  },
  {
   "cell_type": "code",
   "execution_count": 89,
   "metadata": {},
   "outputs": [],
   "source": [
    "lobby_players = pd.read_csv('data/tb_lobby_stats_player.csv')"
   ]
  },
  {
   "cell_type": "code",
   "execution_count": 90,
   "metadata": {},
   "outputs": [
    {
     "data": {
      "text/html": [
       "<div>\n",
       "<style scoped>\n",
       "    .dataframe tbody tr th:only-of-type {\n",
       "        vertical-align: middle;\n",
       "    }\n",
       "\n",
       "    .dataframe tbody tr th {\n",
       "        vertical-align: top;\n",
       "    }\n",
       "\n",
       "    .dataframe thead th {\n",
       "        text-align: right;\n",
       "    }\n",
       "</style>\n",
       "<table border=\"1\" class=\"dataframe\">\n",
       "  <thead>\n",
       "    <tr style=\"text-align: right;\">\n",
       "      <th></th>\n",
       "      <th>idLobbyGame</th>\n",
       "      <th>idPlayer</th>\n",
       "      <th>idRoom</th>\n",
       "      <th>qtKill</th>\n",
       "      <th>qtAssist</th>\n",
       "      <th>qtDeath</th>\n",
       "      <th>qtHs</th>\n",
       "      <th>qtBombeDefuse</th>\n",
       "      <th>qtBombePlant</th>\n",
       "      <th>qtTk</th>\n",
       "      <th>...</th>\n",
       "      <th>qtFlashAssist</th>\n",
       "      <th>qtHitHeadshot</th>\n",
       "      <th>qtHitChest</th>\n",
       "      <th>qtHitStomach</th>\n",
       "      <th>qtHitLeftAtm</th>\n",
       "      <th>qtHitRightArm</th>\n",
       "      <th>qtHitLeftLeg</th>\n",
       "      <th>qtHitRightLeg</th>\n",
       "      <th>flWinner</th>\n",
       "      <th>dtCreatedAt</th>\n",
       "    </tr>\n",
       "  </thead>\n",
       "  <tbody>\n",
       "    <tr>\n",
       "      <th>0</th>\n",
       "      <td>1</td>\n",
       "      <td>1</td>\n",
       "      <td>1</td>\n",
       "      <td>5</td>\n",
       "      <td>1</td>\n",
       "      <td>16</td>\n",
       "      <td>2</td>\n",
       "      <td>0</td>\n",
       "      <td>0</td>\n",
       "      <td>0.0</td>\n",
       "      <td>...</td>\n",
       "      <td>0.0</td>\n",
       "      <td>3.0</td>\n",
       "      <td>13.0</td>\n",
       "      <td>4.0</td>\n",
       "      <td>2.0</td>\n",
       "      <td>2.0</td>\n",
       "      <td>1.0</td>\n",
       "      <td>0.0</td>\n",
       "      <td>0</td>\n",
       "      <td>2022-01-21 19:45:44</td>\n",
       "    </tr>\n",
       "    <tr>\n",
       "      <th>1</th>\n",
       "      <td>2</td>\n",
       "      <td>1</td>\n",
       "      <td>2</td>\n",
       "      <td>24</td>\n",
       "      <td>3</td>\n",
       "      <td>18</td>\n",
       "      <td>6</td>\n",
       "      <td>0</td>\n",
       "      <td>4</td>\n",
       "      <td>0.0</td>\n",
       "      <td>...</td>\n",
       "      <td>0.0</td>\n",
       "      <td>7.0</td>\n",
       "      <td>26.0</td>\n",
       "      <td>14.0</td>\n",
       "      <td>2.0</td>\n",
       "      <td>1.0</td>\n",
       "      <td>1.0</td>\n",
       "      <td>3.0</td>\n",
       "      <td>1</td>\n",
       "      <td>2022-02-04 02:09:47</td>\n",
       "    </tr>\n",
       "    <tr>\n",
       "      <th>2</th>\n",
       "      <td>3</td>\n",
       "      <td>2</td>\n",
       "      <td>3</td>\n",
       "      <td>6</td>\n",
       "      <td>4</td>\n",
       "      <td>23</td>\n",
       "      <td>2</td>\n",
       "      <td>0</td>\n",
       "      <td>1</td>\n",
       "      <td>0.0</td>\n",
       "      <td>...</td>\n",
       "      <td>0.0</td>\n",
       "      <td>3.0</td>\n",
       "      <td>15.0</td>\n",
       "      <td>8.0</td>\n",
       "      <td>1.0</td>\n",
       "      <td>2.0</td>\n",
       "      <td>0.0</td>\n",
       "      <td>2.0</td>\n",
       "      <td>0</td>\n",
       "      <td>2021-09-18 18:07:43</td>\n",
       "    </tr>\n",
       "    <tr>\n",
       "      <th>3</th>\n",
       "      <td>3</td>\n",
       "      <td>391</td>\n",
       "      <td>27508</td>\n",
       "      <td>10</td>\n",
       "      <td>5</td>\n",
       "      <td>20</td>\n",
       "      <td>4</td>\n",
       "      <td>1</td>\n",
       "      <td>0</td>\n",
       "      <td>0.0</td>\n",
       "      <td>...</td>\n",
       "      <td>0.0</td>\n",
       "      <td>6.0</td>\n",
       "      <td>27.0</td>\n",
       "      <td>10.0</td>\n",
       "      <td>1.0</td>\n",
       "      <td>7.0</td>\n",
       "      <td>6.0</td>\n",
       "      <td>6.0</td>\n",
       "      <td>1</td>\n",
       "      <td>2021-09-18 18:07:43</td>\n",
       "    </tr>\n",
       "    <tr>\n",
       "      <th>4</th>\n",
       "      <td>4</td>\n",
       "      <td>2</td>\n",
       "      <td>4</td>\n",
       "      <td>8</td>\n",
       "      <td>4</td>\n",
       "      <td>26</td>\n",
       "      <td>6</td>\n",
       "      <td>0</td>\n",
       "      <td>2</td>\n",
       "      <td>0.0</td>\n",
       "      <td>...</td>\n",
       "      <td>2.0</td>\n",
       "      <td>8.0</td>\n",
       "      <td>19.0</td>\n",
       "      <td>12.0</td>\n",
       "      <td>2.0</td>\n",
       "      <td>3.0</td>\n",
       "      <td>2.0</td>\n",
       "      <td>5.0</td>\n",
       "      <td>0</td>\n",
       "      <td>2021-09-27 00:17:45</td>\n",
       "    </tr>\n",
       "    <tr>\n",
       "      <th>5</th>\n",
       "      <td>5</td>\n",
       "      <td>2</td>\n",
       "      <td>5</td>\n",
       "      <td>10</td>\n",
       "      <td>1</td>\n",
       "      <td>11</td>\n",
       "      <td>5</td>\n",
       "      <td>0</td>\n",
       "      <td>3</td>\n",
       "      <td>0.0</td>\n",
       "      <td>...</td>\n",
       "      <td>1.0</td>\n",
       "      <td>5.0</td>\n",
       "      <td>6.0</td>\n",
       "      <td>8.0</td>\n",
       "      <td>0.0</td>\n",
       "      <td>0.0</td>\n",
       "      <td>3.0</td>\n",
       "      <td>0.0</td>\n",
       "      <td>1</td>\n",
       "      <td>2021-09-29 22:05:47</td>\n",
       "    </tr>\n",
       "    <tr>\n",
       "      <th>6</th>\n",
       "      <td>5</td>\n",
       "      <td>1068</td>\n",
       "      <td>69976</td>\n",
       "      <td>9</td>\n",
       "      <td>2</td>\n",
       "      <td>19</td>\n",
       "      <td>4</td>\n",
       "      <td>1</td>\n",
       "      <td>0</td>\n",
       "      <td>0.0</td>\n",
       "      <td>...</td>\n",
       "      <td>1.0</td>\n",
       "      <td>6.0</td>\n",
       "      <td>21.0</td>\n",
       "      <td>14.0</td>\n",
       "      <td>3.0</td>\n",
       "      <td>4.0</td>\n",
       "      <td>2.0</td>\n",
       "      <td>2.0</td>\n",
       "      <td>0</td>\n",
       "      <td>2021-09-29 22:05:47</td>\n",
       "    </tr>\n",
       "    <tr>\n",
       "      <th>7</th>\n",
       "      <td>6</td>\n",
       "      <td>2</td>\n",
       "      <td>6</td>\n",
       "      <td>16</td>\n",
       "      <td>1</td>\n",
       "      <td>23</td>\n",
       "      <td>9</td>\n",
       "      <td>0</td>\n",
       "      <td>1</td>\n",
       "      <td>0.0</td>\n",
       "      <td>...</td>\n",
       "      <td>1.0</td>\n",
       "      <td>9.0</td>\n",
       "      <td>21.0</td>\n",
       "      <td>19.0</td>\n",
       "      <td>3.0</td>\n",
       "      <td>4.0</td>\n",
       "      <td>2.0</td>\n",
       "      <td>3.0</td>\n",
       "      <td>0</td>\n",
       "      <td>2021-10-07 22:48:43</td>\n",
       "    </tr>\n",
       "    <tr>\n",
       "      <th>8</th>\n",
       "      <td>7</td>\n",
       "      <td>2</td>\n",
       "      <td>7</td>\n",
       "      <td>11</td>\n",
       "      <td>2</td>\n",
       "      <td>19</td>\n",
       "      <td>2</td>\n",
       "      <td>0</td>\n",
       "      <td>1</td>\n",
       "      <td>0.0</td>\n",
       "      <td>...</td>\n",
       "      <td>1.0</td>\n",
       "      <td>5.0</td>\n",
       "      <td>17.0</td>\n",
       "      <td>12.0</td>\n",
       "      <td>0.0</td>\n",
       "      <td>4.0</td>\n",
       "      <td>0.0</td>\n",
       "      <td>2.0</td>\n",
       "      <td>0</td>\n",
       "      <td>2021-10-08 23:29:57</td>\n",
       "    </tr>\n",
       "    <tr>\n",
       "      <th>9</th>\n",
       "      <td>8</td>\n",
       "      <td>2</td>\n",
       "      <td>8</td>\n",
       "      <td>8</td>\n",
       "      <td>6</td>\n",
       "      <td>13</td>\n",
       "      <td>2</td>\n",
       "      <td>0</td>\n",
       "      <td>0</td>\n",
       "      <td>0.0</td>\n",
       "      <td>...</td>\n",
       "      <td>0.0</td>\n",
       "      <td>3.0</td>\n",
       "      <td>9.0</td>\n",
       "      <td>17.0</td>\n",
       "      <td>2.0</td>\n",
       "      <td>5.0</td>\n",
       "      <td>7.0</td>\n",
       "      <td>8.0</td>\n",
       "      <td>0</td>\n",
       "      <td>2021-10-12 16:48:09</td>\n",
       "    </tr>\n",
       "  </tbody>\n",
       "</table>\n",
       "<p>10 rows × 38 columns</p>\n",
       "</div>"
      ],
      "text/plain": [
       "   idLobbyGame  idPlayer  idRoom  qtKill  qtAssist  qtDeath  qtHs  \\\n",
       "0            1         1       1       5         1       16     2   \n",
       "1            2         1       2      24         3       18     6   \n",
       "2            3         2       3       6         4       23     2   \n",
       "3            3       391   27508      10         5       20     4   \n",
       "4            4         2       4       8         4       26     6   \n",
       "5            5         2       5      10         1       11     5   \n",
       "6            5      1068   69976       9         2       19     4   \n",
       "7            6         2       6      16         1       23     9   \n",
       "8            7         2       7      11         2       19     2   \n",
       "9            8         2       8       8         6       13     2   \n",
       "\n",
       "   qtBombeDefuse  qtBombePlant  qtTk  ...  qtFlashAssist  qtHitHeadshot  \\\n",
       "0              0             0   0.0  ...            0.0            3.0   \n",
       "1              0             4   0.0  ...            0.0            7.0   \n",
       "2              0             1   0.0  ...            0.0            3.0   \n",
       "3              1             0   0.0  ...            0.0            6.0   \n",
       "4              0             2   0.0  ...            2.0            8.0   \n",
       "5              0             3   0.0  ...            1.0            5.0   \n",
       "6              1             0   0.0  ...            1.0            6.0   \n",
       "7              0             1   0.0  ...            1.0            9.0   \n",
       "8              0             1   0.0  ...            1.0            5.0   \n",
       "9              0             0   0.0  ...            0.0            3.0   \n",
       "\n",
       "   qtHitChest  qtHitStomach  qtHitLeftAtm  qtHitRightArm  qtHitLeftLeg  \\\n",
       "0        13.0           4.0           2.0            2.0           1.0   \n",
       "1        26.0          14.0           2.0            1.0           1.0   \n",
       "2        15.0           8.0           1.0            2.0           0.0   \n",
       "3        27.0          10.0           1.0            7.0           6.0   \n",
       "4        19.0          12.0           2.0            3.0           2.0   \n",
       "5         6.0           8.0           0.0            0.0           3.0   \n",
       "6        21.0          14.0           3.0            4.0           2.0   \n",
       "7        21.0          19.0           3.0            4.0           2.0   \n",
       "8        17.0          12.0           0.0            4.0           0.0   \n",
       "9         9.0          17.0           2.0            5.0           7.0   \n",
       "\n",
       "   qtHitRightLeg  flWinner          dtCreatedAt  \n",
       "0            0.0         0  2022-01-21 19:45:44  \n",
       "1            3.0         1  2022-02-04 02:09:47  \n",
       "2            2.0         0  2021-09-18 18:07:43  \n",
       "3            6.0         1  2021-09-18 18:07:43  \n",
       "4            5.0         0  2021-09-27 00:17:45  \n",
       "5            0.0         1  2021-09-29 22:05:47  \n",
       "6            2.0         0  2021-09-29 22:05:47  \n",
       "7            3.0         0  2021-10-07 22:48:43  \n",
       "8            2.0         0  2021-10-08 23:29:57  \n",
       "9            8.0         0  2021-10-12 16:48:09  \n",
       "\n",
       "[10 rows x 38 columns]"
      ]
     },
     "execution_count": 90,
     "metadata": {},
     "output_type": "execute_result"
    }
   ],
   "source": [
    "lobby_players.head(10)"
   ]
  },
  {
   "cell_type": "code",
   "execution_count": 91,
   "metadata": {},
   "outputs": [
    {
     "name": "stdout",
     "output_type": "stream",
     "text": [
      "Number of lines:  184152\n",
      "Number of unique (idLobbyGame, idPlayer) pairs:  184152\n",
      "Number of unique (idRoom, idPlayer) pairs:  184152\n"
     ]
    }
   ],
   "source": [
    "# count lines\n",
    "print('Number of lines: ', len(lobby_players))\n",
    "# check if all (idLobbyGame, idPlayer) are unique\n",
    "print('Number of unique (idLobbyGame, idPlayer) pairs: ', len(lobby_players.groupby(['idLobbyGame', 'idPlayer']).size()))\n",
    "# check if all (idRoom, idPlayer) are unique\n",
    "print('Number of unique (idRoom, idPlayer) pairs: ', len(lobby_players.groupby(['idRoom', 'idPlayer']).size()))\n",
    "# USAR APENAS O LOBBYGAME"
   ]
  },
  {
   "cell_type": "code",
   "execution_count": 92,
   "metadata": {},
   "outputs": [
    {
     "data": {
      "text/plain": [
       "idLobbyGame\n",
       "58891    5\n",
       "60420    4\n",
       "17782    4\n",
       "17622    4\n",
       "71305    4\n",
       "93223    4\n",
       "17777    4\n",
       "4508     4\n",
       "17644    3\n",
       "31686    3\n",
       "Name: count, dtype: int64"
      ]
     },
     "execution_count": 92,
     "metadata": {},
     "output_type": "execute_result"
    }
   ],
   "source": [
    "lobby_players['idLobbyGame'].value_counts().sort_values(ascending=False).head(10)"
   ]
  },
  {
   "cell_type": "code",
   "execution_count": 93,
   "metadata": {},
   "outputs": [
    {
     "data": {
      "text/plain": [
       "idRoom\n",
       "17861    3\n",
       "17801    3\n",
       "17818    3\n",
       "17817    3\n",
       "17858    3\n",
       "17876    3\n",
       "58765    3\n",
       "24323    3\n",
       "17887    3\n",
       "17889    3\n",
       "Name: count, dtype: int64"
      ]
     },
     "execution_count": 93,
     "metadata": {},
     "output_type": "execute_result"
    }
   ],
   "source": [
    "lobby_players['idRoom'].value_counts().sort_values(ascending=False).head(10)"
   ]
  },
  {
   "attachments": {},
   "cell_type": "markdown",
   "metadata": {},
   "source": [
    "Conforme os dados acima, nota-se que não será possível realizar uma análise por equipes, uma vez que que \n",
    "\n",
    "\n",
    "Não dá pra fazer com time. A análise terá que ser individual por player."
   ]
  },
  {
   "attachments": {},
   "cell_type": "markdown",
   "metadata": {},
   "source": [
    "## Parte 1: players"
   ]
  },
  {
   "cell_type": "code",
   "execution_count": 94,
   "metadata": {},
   "outputs": [],
   "source": [
    "players = pd.read_csv('data/tb_players.csv')"
   ]
  },
  {
   "cell_type": "code",
   "execution_count": 95,
   "metadata": {},
   "outputs": [
    {
     "name": "stdout",
     "output_type": "stream",
     "text": [
      "<class 'pandas.core.frame.DataFrame'>\n",
      "RangeIndex: 2716 entries, 0 to 2715\n",
      "Data columns (total 7 columns):\n",
      " #   Column          Non-Null Count  Dtype \n",
      "---  ------          --------------  ----- \n",
      " 0   idPlayer        2716 non-null   int64 \n",
      " 1   flFacebook      2716 non-null   int64 \n",
      " 2   flTwitter       2716 non-null   int64 \n",
      " 3   flTwitch        2716 non-null   int64 \n",
      " 4   descCountry     2716 non-null   object\n",
      " 5   dtBirth         2008 non-null   object\n",
      " 6   dtRegistration  2716 non-null   object\n",
      "dtypes: int64(4), object(3)\n",
      "memory usage: 148.7+ KB\n"
     ]
    }
   ],
   "source": [
    "players.info()"
   ]
  },
  {
   "cell_type": "code",
   "execution_count": 96,
   "metadata": {},
   "outputs": [
    {
     "data": {
      "text/html": [
       "<div>\n",
       "<style scoped>\n",
       "    .dataframe tbody tr th:only-of-type {\n",
       "        vertical-align: middle;\n",
       "    }\n",
       "\n",
       "    .dataframe tbody tr th {\n",
       "        vertical-align: top;\n",
       "    }\n",
       "\n",
       "    .dataframe thead th {\n",
       "        text-align: right;\n",
       "    }\n",
       "</style>\n",
       "<table border=\"1\" class=\"dataframe\">\n",
       "  <thead>\n",
       "    <tr style=\"text-align: right;\">\n",
       "      <th></th>\n",
       "      <th>idPlayer</th>\n",
       "      <th>flFacebook</th>\n",
       "      <th>flTwitter</th>\n",
       "      <th>flTwitch</th>\n",
       "      <th>descCountry</th>\n",
       "      <th>dtBirth</th>\n",
       "      <th>dtRegistration</th>\n",
       "    </tr>\n",
       "  </thead>\n",
       "  <tbody>\n",
       "    <tr>\n",
       "      <th>0</th>\n",
       "      <td>1</td>\n",
       "      <td>0</td>\n",
       "      <td>0</td>\n",
       "      <td>0</td>\n",
       "      <td>cl</td>\n",
       "      <td>NaN</td>\n",
       "      <td>2021-03-19 21:31:39</td>\n",
       "    </tr>\n",
       "    <tr>\n",
       "      <th>1</th>\n",
       "      <td>2</td>\n",
       "      <td>0</td>\n",
       "      <td>0</td>\n",
       "      <td>0</td>\n",
       "      <td>br</td>\n",
       "      <td>NaN</td>\n",
       "      <td>2020-05-06 19:28:29</td>\n",
       "    </tr>\n",
       "    <tr>\n",
       "      <th>2</th>\n",
       "      <td>3</td>\n",
       "      <td>0</td>\n",
       "      <td>0</td>\n",
       "      <td>0</td>\n",
       "      <td>br</td>\n",
       "      <td>NaN</td>\n",
       "      <td>2020-01-28 13:00:38</td>\n",
       "    </tr>\n",
       "    <tr>\n",
       "      <th>3</th>\n",
       "      <td>4</td>\n",
       "      <td>0</td>\n",
       "      <td>0</td>\n",
       "      <td>0</td>\n",
       "      <td>br</td>\n",
       "      <td>NaN</td>\n",
       "      <td>2017-05-31 16:13:51</td>\n",
       "    </tr>\n",
       "    <tr>\n",
       "      <th>4</th>\n",
       "      <td>5</td>\n",
       "      <td>0</td>\n",
       "      <td>0</td>\n",
       "      <td>0</td>\n",
       "      <td>ar</td>\n",
       "      <td>NaN</td>\n",
       "      <td>2021-02-08 11:57:21</td>\n",
       "    </tr>\n",
       "    <tr>\n",
       "      <th>5</th>\n",
       "      <td>6</td>\n",
       "      <td>0</td>\n",
       "      <td>0</td>\n",
       "      <td>0</td>\n",
       "      <td>br</td>\n",
       "      <td>2002-03-23 00:00:00</td>\n",
       "      <td>2019-01-09 19:24:27</td>\n",
       "    </tr>\n",
       "    <tr>\n",
       "      <th>6</th>\n",
       "      <td>7</td>\n",
       "      <td>0</td>\n",
       "      <td>0</td>\n",
       "      <td>0</td>\n",
       "      <td>br</td>\n",
       "      <td>NaN</td>\n",
       "      <td>2020-04-24 22:53:50</td>\n",
       "    </tr>\n",
       "    <tr>\n",
       "      <th>7</th>\n",
       "      <td>8</td>\n",
       "      <td>0</td>\n",
       "      <td>0</td>\n",
       "      <td>0</td>\n",
       "      <td>br</td>\n",
       "      <td>NaN</td>\n",
       "      <td>2021-06-26 14:47:57</td>\n",
       "    </tr>\n",
       "    <tr>\n",
       "      <th>8</th>\n",
       "      <td>9</td>\n",
       "      <td>0</td>\n",
       "      <td>0</td>\n",
       "      <td>0</td>\n",
       "      <td>ar</td>\n",
       "      <td>2000-05-03 00:00:00</td>\n",
       "      <td>2016-05-22 15:12:48</td>\n",
       "    </tr>\n",
       "    <tr>\n",
       "      <th>9</th>\n",
       "      <td>10</td>\n",
       "      <td>0</td>\n",
       "      <td>0</td>\n",
       "      <td>0</td>\n",
       "      <td>br</td>\n",
       "      <td>2005-04-15 00:00:00</td>\n",
       "      <td>2018-02-28 11:29:11</td>\n",
       "    </tr>\n",
       "  </tbody>\n",
       "</table>\n",
       "</div>"
      ],
      "text/plain": [
       "   idPlayer  flFacebook  flTwitter  flTwitch descCountry              dtBirth  \\\n",
       "0         1           0          0         0          cl                  NaN   \n",
       "1         2           0          0         0          br                  NaN   \n",
       "2         3           0          0         0          br                  NaN   \n",
       "3         4           0          0         0          br                  NaN   \n",
       "4         5           0          0         0          ar                  NaN   \n",
       "5         6           0          0         0          br  2002-03-23 00:00:00   \n",
       "6         7           0          0         0          br                  NaN   \n",
       "7         8           0          0         0          br                  NaN   \n",
       "8         9           0          0         0          ar  2000-05-03 00:00:00   \n",
       "9        10           0          0         0          br  2005-04-15 00:00:00   \n",
       "\n",
       "        dtRegistration  \n",
       "0  2021-03-19 21:31:39  \n",
       "1  2020-05-06 19:28:29  \n",
       "2  2020-01-28 13:00:38  \n",
       "3  2017-05-31 16:13:51  \n",
       "4  2021-02-08 11:57:21  \n",
       "5  2019-01-09 19:24:27  \n",
       "6  2020-04-24 22:53:50  \n",
       "7  2021-06-26 14:47:57  \n",
       "8  2016-05-22 15:12:48  \n",
       "9  2018-02-28 11:29:11  "
      ]
     },
     "execution_count": 96,
     "metadata": {},
     "output_type": "execute_result"
    }
   ],
   "source": [
    "players.head(10)"
   ]
  },
  {
   "cell_type": "code",
   "execution_count": 97,
   "metadata": {},
   "outputs": [
    {
     "name": "stdout",
     "output_type": "stream",
     "text": [
      "flFacebook\n",
      "0    2653\n",
      "1      63\n",
      "Name: count, dtype: int64\n",
      "flTwitter\n",
      "0    2672\n",
      "1      44\n",
      "Name: count, dtype: int64\n",
      "flTwitch\n",
      "0    2663\n",
      "1      53\n",
      "Name: count, dtype: int64\n"
     ]
    }
   ],
   "source": [
    "print(players['flFacebook'].value_counts())\n",
    "print(players['flTwitter'].value_counts())\n",
    "print(players['flTwitch'].value_counts())"
   ]
  },
  {
   "attachments": {},
   "cell_type": "markdown",
   "metadata": {},
   "source": [
    "Explicação das colunas:\n",
    "* ``idPlayer``: id do player\n",
    "* ``flFacebook``, ``flTwitter``, ``flTwitch``: se o jogador sincronizou (1) ou não (0) sua conta com cada uma das plataformas\n",
    "* ``descCountry``: sigla de dois dígitos indicando o país do jogador\n",
    "* ``dtRegistration``: data de ingresso do jogador na plataforma GamersClub"
   ]
  },
  {
   "cell_type": "code",
   "execution_count": 98,
   "metadata": {},
   "outputs": [
    {
     "data": {
      "text/plain": [
       "0"
      ]
     },
     "execution_count": 98,
     "metadata": {},
     "output_type": "execute_result"
    }
   ],
   "source": [
    "players['descCountry'].isna().sum()"
   ]
  },
  {
   "attachments": {},
   "cell_type": "markdown",
   "metadata": {},
   "source": [
    "Ou seja, todos os players tem um país."
   ]
  },
  {
   "cell_type": "code",
   "execution_count": null,
   "metadata": {},
   "outputs": [],
   "source": [
    "countries_count = players['descCountry'].value_counts()\n",
    "freq_countries = countries_count[countries_count > 100]\n",
    "freq_countries"
   ]
  },
  {
   "cell_type": "code",
   "execution_count": 100,
   "metadata": {},
   "outputs": [],
   "source": [
    "# Plot to donut chart\n",
    "# fig = px.pie(countries_count, values=countries_count.values, names=countries_count.index, title='Países')\n",
    "# fig.update_traces(textposition='inside', textinfo='percent+label')\n",
    "# # add hole\n",
    "# fig.update_traces(hole=.6, hoverinfo=\"label+percent+name\")\n",
    "# fig.show()\n"
   ]
  },
  {
   "cell_type": "code",
   "execution_count": 101,
   "metadata": {},
   "outputs": [],
   "source": [
    "# # Calculate the age of the players\n",
    "# players['age'] = (dt.datetime.now() - pd.to_datetime(players['dtBirth'])).astype('<m8[Y]')"
   ]
  },
  {
   "cell_type": "code",
   "execution_count": 102,
   "metadata": {},
   "outputs": [],
   "source": [
    "# # Plot to bar graph (cap between bars)\n",
    "# fig = px.histogram(players, x='age', title='Idade dos jogadores')\n",
    "# fig.update_layout(bargap=0.2)\n",
    "# fig.show()"
   ]
  },
  {
   "cell_type": "code",
   "execution_count": 103,
   "metadata": {},
   "outputs": [
    {
     "data": {
      "text/plain": [
       "162076    12.0\n",
       "22986      5.0\n",
       "65498      4.0\n",
       "70875      4.0\n",
       "18990      3.0\n",
       "27468      3.0\n",
       "49793      3.0\n",
       "47274      3.0\n",
       "161430     3.0\n",
       "38089      3.0\n",
       "Name: qtTk, dtype: float64"
      ]
     },
     "execution_count": 103,
     "metadata": {},
     "output_type": "execute_result"
    }
   ],
   "source": [
    "lobby_players['qtTk'].sort_values(ascending=False).head(10)"
   ]
  },
  {
   "attachments": {},
   "cell_type": "markdown",
   "metadata": {},
   "source": [
    "## Parte 2: resto das coisas"
   ]
  },
  {
   "cell_type": "code",
   "execution_count": 104,
   "metadata": {},
   "outputs": [
    {
     "data": {
      "image/png": "[encoded data removed]",
      "text/plain": [
       "<Figure size 800x550 with 1 Axes>"
      ]
     },
     "metadata": {},
     "output_type": "display_data"
    }
   ],
   "source": [
    "# Assuming your dataframe is called 'df'\n",
    "sns.boxplot(x=lobby_players['vlLevel'])\n",
    "\n",
    "# Add title and labels\n",
    "plt.title('Boxplot of the players level')\n",
    "#plt.xlabel('vlLevel')\n",
    "plt.ylabel('Value')\n",
    "\n",
    "# Show the plot\n",
    "plt.show()\n"
   ]
  },
  {
   "cell_type": "code",
   "execution_count": 105,
   "metadata": {},
   "outputs": [
    {
     "data": {
      "image/png": "[encoded data removed]",
      "text/plain": [
       "<Figure size 800x550 with 1 Axes>"
      ]
     },
     "metadata": {},
     "output_type": "display_data"
    }
   ],
   "source": [
    "sns.histplot(data=lobby_players, x='vlLevel', kde=True, hue = 'flWinner')\n",
    "\n",
    "#Add title and labels\n",
    "plt.title('Histogram of the players level')\n",
    "plt.xlabel('vlLevel')\n",
    "plt.ylabel('Frequency')\n",
    "\n",
    "#Show the plot\n",
    "plt.show()"
   ]
  },
  {
   "cell_type": "code",
   "execution_count": 106,
   "metadata": {},
   "outputs": [],
   "source": [
    "sample = lobby_players.sample(5000)\n",
    "\n",
    "sns.pairplot(sample)"
   ]
  }
 ],
 "metadata": {
  "kernelspec": {
   "display_name": "base",
   "language": "python",
   "name": "python3"
  },
  "language_info": {
   "codemirror_mode": {
    "name": "ipython",
    "version": 3
   },
   "file_extension": ".py",
   "mimetype": "text/x-python",
   "name": "python",
   "nbconvert_exporter": "python",
   "pygments_lexer": "ipython3",
   "version": "3.10.10"
  },
  "orig_nbformat": 4
 },
 "nbformat": 4,
 "nbformat_minor": 2
}
