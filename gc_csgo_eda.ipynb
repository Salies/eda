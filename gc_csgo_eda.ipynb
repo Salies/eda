{
 "cells": [
  {
   "attachments": {},
   "cell_type": "markdown",
   "metadata": {},
   "source": [
    "# Análise exploratória de dados - GamersClub CS:GO"
   ]
  },
  {
   "cell_type": "code",
   "execution_count": 16,
   "metadata": {},
   "outputs": [],
   "source": [
    "import pandas as pd\n",
    "import plotly.express as px\n",
    "import datetime as dt"
   ]
  },
  {
   "attachments": {},
   "cell_type": "markdown",
   "metadata": {},
   "source": [
    "## Parte 0: qualidade dos dados"
   ]
  },
  {
   "cell_type": "code",
   "execution_count": 27,
   "metadata": {},
   "outputs": [],
   "source": [
    "lobby_players = pd.read_csv('data/tb_lobby_stats_player.csv')"
   ]
  },
  {
   "cell_type": "code",
   "execution_count": 36,
   "metadata": {},
   "outputs": [
    {
     "name": "stdout",
     "output_type": "stream",
     "text": [
      "Number of lines:  184152\n"
     ]
    }
   ],
   "source": [
    "# count lines\n",
    "print('Number of lines: ', len(lobby_players))"
   ]
  },
  {
   "cell_type": "code",
   "execution_count": 37,
   "metadata": {},
   "outputs": [
    {
     "data": {
      "text/plain": [
       "58891    5\n",
       "60420    4\n",
       "17782    4\n",
       "17622    4\n",
       "71305    4\n",
       "93223    4\n",
       "17777    4\n",
       "4508     4\n",
       "17644    3\n",
       "31686    3\n",
       "Name: idLobbyGame, dtype: int64"
      ]
     },
     "execution_count": 37,
     "metadata": {},
     "output_type": "execute_result"
    }
   ],
   "source": [
    "lobby_players['idLobbyGame'].value_counts().sort_values(ascending=False).head(10)"
   ]
  },
  {
   "cell_type": "code",
   "execution_count": 38,
   "metadata": {},
   "outputs": [
    {
     "data": {
      "text/plain": [
       "17861    3\n",
       "17801    3\n",
       "17818    3\n",
       "17817    3\n",
       "17858    3\n",
       "17876    3\n",
       "58765    3\n",
       "24323    3\n",
       "17887    3\n",
       "17889    3\n",
       "Name: idRoom, dtype: int64"
      ]
     },
     "execution_count": 38,
     "metadata": {},
     "output_type": "execute_result"
    }
   ],
   "source": [
    "lobby_players['idRoom'].value_counts().sort_values(ascending=False).head(10)"
   ]
  },
  {
   "attachments": {},
   "cell_type": "markdown",
   "metadata": {},
   "source": [
    "## Parte 1: players"
   ]
  },
  {
   "cell_type": "code",
   "execution_count": 2,
   "metadata": {},
   "outputs": [],
   "source": [
    "players = pd.read_csv('data/tb_players.csv')"
   ]
  },
  {
   "cell_type": "code",
   "execution_count": 14,
   "metadata": {},
   "outputs": [
    {
     "name": "stdout",
     "output_type": "stream",
     "text": [
      "<class 'pandas.core.frame.DataFrame'>\n",
      "RangeIndex: 2716 entries, 0 to 2715\n",
      "Data columns (total 7 columns):\n",
      " #   Column          Non-Null Count  Dtype \n",
      "---  ------          --------------  ----- \n",
      " 0   idPlayer        2716 non-null   int64 \n",
      " 1   flFacebook      2716 non-null   int64 \n",
      " 2   flTwitter       2716 non-null   int64 \n",
      " 3   flTwitch        2716 non-null   int64 \n",
      " 4   descCountry     2716 non-null   object\n",
      " 5   dtBirth         2008 non-null   object\n",
      " 6   dtRegistration  2716 non-null   object\n",
      "dtypes: int64(4), object(3)\n",
      "memory usage: 148.7+ KB\n"
     ]
    }
   ],
   "source": [
    "players.info()"
   ]
  },
  {
   "cell_type": "code",
   "execution_count": 3,
   "metadata": {},
   "outputs": [
    {
     "data": {
      "text/html": [
       "<div>\n",
       "<style scoped>\n",
       "    .dataframe tbody tr th:only-of-type {\n",
       "        vertical-align: middle;\n",
       "    }\n",
       "\n",
       "    .dataframe tbody tr th {\n",
       "        vertical-align: top;\n",
       "    }\n",
       "\n",
       "    .dataframe thead th {\n",
       "        text-align: right;\n",
       "    }\n",
       "</style>\n",
       "<table border=\"1\" class=\"dataframe\">\n",
       "  <thead>\n",
       "    <tr style=\"text-align: right;\">\n",
       "      <th></th>\n",
       "      <th>idPlayer</th>\n",
       "      <th>flFacebook</th>\n",
       "      <th>flTwitter</th>\n",
       "      <th>flTwitch</th>\n",
       "      <th>descCountry</th>\n",
       "      <th>dtBirth</th>\n",
       "      <th>dtRegistration</th>\n",
       "    </tr>\n",
       "  </thead>\n",
       "  <tbody>\n",
       "    <tr>\n",
       "      <th>0</th>\n",
       "      <td>1</td>\n",
       "      <td>0</td>\n",
       "      <td>0</td>\n",
       "      <td>0</td>\n",
       "      <td>cl</td>\n",
       "      <td>NaN</td>\n",
       "      <td>2021-03-19 21:31:39</td>\n",
       "    </tr>\n",
       "    <tr>\n",
       "      <th>1</th>\n",
       "      <td>2</td>\n",
       "      <td>0</td>\n",
       "      <td>0</td>\n",
       "      <td>0</td>\n",
       "      <td>br</td>\n",
       "      <td>NaN</td>\n",
       "      <td>2020-05-06 19:28:29</td>\n",
       "    </tr>\n",
       "    <tr>\n",
       "      <th>2</th>\n",
       "      <td>3</td>\n",
       "      <td>0</td>\n",
       "      <td>0</td>\n",
       "      <td>0</td>\n",
       "      <td>br</td>\n",
       "      <td>NaN</td>\n",
       "      <td>2020-01-28 13:00:38</td>\n",
       "    </tr>\n",
       "    <tr>\n",
       "      <th>3</th>\n",
       "      <td>4</td>\n",
       "      <td>0</td>\n",
       "      <td>0</td>\n",
       "      <td>0</td>\n",
       "      <td>br</td>\n",
       "      <td>NaN</td>\n",
       "      <td>2017-05-31 16:13:51</td>\n",
       "    </tr>\n",
       "    <tr>\n",
       "      <th>4</th>\n",
       "      <td>5</td>\n",
       "      <td>0</td>\n",
       "      <td>0</td>\n",
       "      <td>0</td>\n",
       "      <td>ar</td>\n",
       "      <td>NaN</td>\n",
       "      <td>2021-02-08 11:57:21</td>\n",
       "    </tr>\n",
       "    <tr>\n",
       "      <th>5</th>\n",
       "      <td>6</td>\n",
       "      <td>0</td>\n",
       "      <td>0</td>\n",
       "      <td>0</td>\n",
       "      <td>br</td>\n",
       "      <td>2002-03-23 00:00:00</td>\n",
       "      <td>2019-01-09 19:24:27</td>\n",
       "    </tr>\n",
       "    <tr>\n",
       "      <th>6</th>\n",
       "      <td>7</td>\n",
       "      <td>0</td>\n",
       "      <td>0</td>\n",
       "      <td>0</td>\n",
       "      <td>br</td>\n",
       "      <td>NaN</td>\n",
       "      <td>2020-04-24 22:53:50</td>\n",
       "    </tr>\n",
       "    <tr>\n",
       "      <th>7</th>\n",
       "      <td>8</td>\n",
       "      <td>0</td>\n",
       "      <td>0</td>\n",
       "      <td>0</td>\n",
       "      <td>br</td>\n",
       "      <td>NaN</td>\n",
       "      <td>2021-06-26 14:47:57</td>\n",
       "    </tr>\n",
       "    <tr>\n",
       "      <th>8</th>\n",
       "      <td>9</td>\n",
       "      <td>0</td>\n",
       "      <td>0</td>\n",
       "      <td>0</td>\n",
       "      <td>ar</td>\n",
       "      <td>2000-05-03 00:00:00</td>\n",
       "      <td>2016-05-22 15:12:48</td>\n",
       "    </tr>\n",
       "    <tr>\n",
       "      <th>9</th>\n",
       "      <td>10</td>\n",
       "      <td>0</td>\n",
       "      <td>0</td>\n",
       "      <td>0</td>\n",
       "      <td>br</td>\n",
       "      <td>2005-04-15 00:00:00</td>\n",
       "      <td>2018-02-28 11:29:11</td>\n",
       "    </tr>\n",
       "  </tbody>\n",
       "</table>\n",
       "</div>"
      ],
      "text/plain": [
       "   idPlayer  flFacebook  flTwitter  flTwitch descCountry              dtBirth  \\\n",
       "0         1           0          0         0          cl                  NaN   \n",
       "1         2           0          0         0          br                  NaN   \n",
       "2         3           0          0         0          br                  NaN   \n",
       "3         4           0          0         0          br                  NaN   \n",
       "4         5           0          0         0          ar                  NaN   \n",
       "5         6           0          0         0          br  2002-03-23 00:00:00   \n",
       "6         7           0          0         0          br                  NaN   \n",
       "7         8           0          0         0          br                  NaN   \n",
       "8         9           0          0         0          ar  2000-05-03 00:00:00   \n",
       "9        10           0          0         0          br  2005-04-15 00:00:00   \n",
       "\n",
       "        dtRegistration  \n",
       "0  2021-03-19 21:31:39  \n",
       "1  2020-05-06 19:28:29  \n",
       "2  2020-01-28 13:00:38  \n",
       "3  2017-05-31 16:13:51  \n",
       "4  2021-02-08 11:57:21  \n",
       "5  2019-01-09 19:24:27  \n",
       "6  2020-04-24 22:53:50  \n",
       "7  2021-06-26 14:47:57  \n",
       "8  2016-05-22 15:12:48  \n",
       "9  2018-02-28 11:29:11  "
      ]
     },
     "execution_count": 3,
     "metadata": {},
     "output_type": "execute_result"
    }
   ],
   "source": [
    "players.head(10)"
   ]
  },
  {
   "cell_type": "code",
   "execution_count": 4,
   "metadata": {},
   "outputs": [
    {
     "name": "stdout",
     "output_type": "stream",
     "text": [
      "0    2653\n",
      "1      63\n",
      "Name: flFacebook, dtype: int64\n",
      "0    2672\n",
      "1      44\n",
      "Name: flTwitter, dtype: int64\n",
      "0    2663\n",
      "1      53\n",
      "Name: flTwitch, dtype: int64\n"
     ]
    }
   ],
   "source": [
    "print(players['flFacebook'].value_counts())\n",
    "print(players['flTwitter'].value_counts())\n",
    "print(players['flTwitch'].value_counts())"
   ]
  },
  {
   "attachments": {},
   "cell_type": "markdown",
   "metadata": {},
   "source": [
    "Explicação das colunas:\n",
    "* ``idPlayer``: id do player\n",
    "* ``flFacebook``, ``flTwitter``, ``flTwitch``: se o jogador sincronizou (1) ou não (0) sua conta com cada uma das plataformas\n",
    "* ``descCountry``: sigla de dois dígitos indicando o país do jogador\n",
    "* ``dtRegistration``: data de ingresso do jogador na plataforma GamersClub"
   ]
  },
  {
   "cell_type": "code",
   "execution_count": 5,
   "metadata": {},
   "outputs": [
    {
     "data": {
      "text/plain": [
       "0"
      ]
     },
     "execution_count": 5,
     "metadata": {},
     "output_type": "execute_result"
    }
   ],
   "source": [
    "players['descCountry'].isna().sum()"
   ]
  },
  {
   "attachments": {},
   "cell_type": "markdown",
   "metadata": {},
   "source": [
    "Ou seja, todos os players tem um país."
   ]
  },
  {
   "cell_type": "code",
   "execution_count": 6,
   "metadata": {},
   "outputs": [],
   "source": [
    "countries_count = players['descCountry'].value_counts()"
   ]
  },
  {
   "cell_type": "code",
   "execution_count": 13,
   "metadata": {},
   "outputs": [
    {
     "data": {
      "application/vnd.plotly.v1+json": {
       "config": {
        "plotlyServerURL": "https://plot.ly"
       },
       "data": [
        {
         "domain": {
          "x": [
           0,
           1
          ],
          "y": [
           0,
           1
          ]
         },
         "hole": 0.6,
         "hoverinfo": "label+percent+name",
         "hovertemplate": "index=%{label}<br>value=%{value}<extra></extra>",
         "labels": [
          "br",
          "ar",
          "cl",
          "uy",
          "pe",
          "us",
          "py",
          "bo",
          "ec",
          "ca",
          "pt",
          "sv",
          "cr"
         ],
         "legendgroup": "",
         "name": "",
         "showlegend": true,
         "textinfo": "percent+label",
         "textposition": "inside",
         "type": "pie",
         "values": [
          2071,
          491,
          92,
          21,
          17,
          10,
          5,
          3,
          2,
          1,
          1,
          1,
          1
         ]
        }
       ],
       "layout": {
        "legend": {
         "tracegroupgap": 0
        },
        "template": {
         "data": {
          "bar": [
           {
            "error_x": {
             "color": "#2a3f5f"
            },
            "error_y": {
             "color": "#2a3f5f"
            },
            "marker": {
             "line": {
              "color": "#E5ECF6",
              "width": 0.5
             },
             "pattern": {
              "fillmode": "overlay",
              "size": 10,
              "solidity": 0.2
             }
            },
            "type": "bar"
           }
          ],
          "barpolar": [
           {
            "marker": {
             "line": {
              "color": "#E5ECF6",
              "width": 0.5
             },
             "pattern": {
              "fillmode": "overlay",
              "size": 10,
              "solidity": 0.2
             }
            },
            "type": "barpolar"
           }
          ],
          "carpet": [
           {
            "aaxis": {
             "endlinecolor": "#2a3f5f",
             "gridcolor": "white",
             "linecolor": "white",
             "minorgridcolor": "white",
             "startlinecolor": "#2a3f5f"
            },
            "baxis": {
             "endlinecolor": "#2a3f5f",
             "gridcolor": "white",
             "linecolor": "white",
             "minorgridcolor": "white",
             "startlinecolor": "#2a3f5f"
            },
            "type": "carpet"
           }
          ],
          "choropleth": [
           {
            "colorbar": {
             "outlinewidth": 0,
             "ticks": ""
            },
            "type": "choropleth"
           }
          ],
          "contour": [
           {
            "colorbar": {
             "outlinewidth": 0,
             "ticks": ""
            },
            "colorscale": [
             [
              0,
              "#0d0887"
             ],
             [
              0.1111111111111111,
              "#46039f"
             ],
             [
              0.2222222222222222,
              "#7201a8"
             ],
             [
              0.3333333333333333,
              "#9c179e"
             ],
             [
              0.4444444444444444,
              "#bd3786"
             ],
             [
              0.5555555555555556,
              "#d8576b"
             ],
             [
              0.6666666666666666,
              "#ed7953"
             ],
             [
              0.7777777777777778,
              "#fb9f3a"
             ],
             [
              0.8888888888888888,
              "#fdca26"
             ],
             [
              1,
              "#f0f921"
             ]
            ],
            "type": "contour"
           }
          ],
          "contourcarpet": [
           {
            "colorbar": {
             "outlinewidth": 0,
             "ticks": ""
            },
            "type": "contourcarpet"
           }
          ],
          "heatmap": [
           {
            "colorbar": {
             "outlinewidth": 0,
             "ticks": ""
            },
            "colorscale": [
             [
              0,
              "#0d0887"
             ],
             [
              0.1111111111111111,
              "#46039f"
             ],
             [
              0.2222222222222222,
              "#7201a8"
             ],
             [
              0.3333333333333333,
              "#9c179e"
             ],
             [
              0.4444444444444444,
              "#bd3786"
             ],
             [
              0.5555555555555556,
              "#d8576b"
             ],
             [
              0.6666666666666666,
              "#ed7953"
             ],
             [
              0.7777777777777778,
              "#fb9f3a"
             ],
             [
              0.8888888888888888,
              "#fdca26"
             ],
             [
              1,
              "#f0f921"
             ]
            ],
            "type": "heatmap"
           }
          ],
          "heatmapgl": [
           {
            "colorbar": {
             "outlinewidth": 0,
             "ticks": ""
            },
            "colorscale": [
             [
              0,
              "#0d0887"
             ],
             [
              0.1111111111111111,
              "#46039f"
             ],
             [
              0.2222222222222222,
              "#7201a8"
             ],
             [
              0.3333333333333333,
              "#9c179e"
             ],
             [
              0.4444444444444444,
              "#bd3786"
             ],
             [
              0.5555555555555556,
              "#d8576b"
             ],
             [
              0.6666666666666666,
              "#ed7953"
             ],
             [
              0.7777777777777778,
              "#fb9f3a"
             ],
             [
              0.8888888888888888,
              "#fdca26"
             ],
             [
              1,
              "#f0f921"
             ]
            ],
            "type": "heatmapgl"
           }
          ],
          "histogram": [
           {
            "marker": {
             "pattern": {
              "fillmode": "overlay",
              "size": 10,
              "solidity": 0.2
             }
            },
            "type": "histogram"
           }
          ],
          "histogram2d": [
           {
            "colorbar": {
             "outlinewidth": 0,
             "ticks": ""
            },
            "colorscale": [
             [
              0,
              "#0d0887"
             ],
             [
              0.1111111111111111,
              "#46039f"
             ],
             [
              0.2222222222222222,
              "#7201a8"
             ],
             [
              0.3333333333333333,
              "#9c179e"
             ],
             [
              0.4444444444444444,
              "#bd3786"
             ],
             [
              0.5555555555555556,
              "#d8576b"
             ],
             [
              0.6666666666666666,
              "#ed7953"
             ],
             [
              0.7777777777777778,
              "#fb9f3a"
             ],
             [
              0.8888888888888888,
              "#fdca26"
             ],
             [
              1,
              "#f0f921"
             ]
            ],
            "type": "histogram2d"
           }
          ],
          "histogram2dcontour": [
           {
            "colorbar": {
             "outlinewidth": 0,
             "ticks": ""
            },
            "colorscale": [
             [
              0,
              "#0d0887"
             ],
             [
              0.1111111111111111,
              "#46039f"
             ],
             [
              0.2222222222222222,
              "#7201a8"
             ],
             [
              0.3333333333333333,
              "#9c179e"
             ],
             [
              0.4444444444444444,
              "#bd3786"
             ],
             [
              0.5555555555555556,
              "#d8576b"
             ],
             [
              0.6666666666666666,
              "#ed7953"
             ],
             [
              0.7777777777777778,
              "#fb9f3a"
             ],
             [
              0.8888888888888888,
              "#fdca26"
             ],
             [
              1,
              "#f0f921"
             ]
            ],
            "type": "histogram2dcontour"
           }
          ],
          "mesh3d": [
           {
            "colorbar": {
             "outlinewidth": 0,
             "ticks": ""
            },
            "type": "mesh3d"
           }
          ],
          "parcoords": [
           {
            "line": {
             "colorbar": {
              "outlinewidth": 0,
              "ticks": ""
             }
            },
            "type": "parcoords"
           }
          ],
          "pie": [
           {
            "automargin": true,
            "type": "pie"
           }
          ],
          "scatter": [
           {
            "fillpattern": {
             "fillmode": "overlay",
             "size": 10,
             "solidity": 0.2
            },
            "type": "scatter"
           }
          ],
          "scatter3d": [
           {
            "line": {
             "colorbar": {
              "outlinewidth": 0,
              "ticks": ""
             }
            },
            "marker": {
             "colorbar": {
              "outlinewidth": 0,
              "ticks": ""
             }
            },
            "type": "scatter3d"
           }
          ],
          "scattercarpet": [
           {
            "marker": {
             "colorbar": {
              "outlinewidth": 0,
              "ticks": ""
             }
            },
            "type": "scattercarpet"
           }
          ],
          "scattergeo": [
           {
            "marker": {
             "colorbar": {
              "outlinewidth": 0,
              "ticks": ""
             }
            },
            "type": "scattergeo"
           }
          ],
          "scattergl": [
           {
            "marker": {
             "colorbar": {
              "outlinewidth": 0,
              "ticks": ""
             }
            },
            "type": "scattergl"
           }
          ],
          "scattermapbox": [
           {
            "marker": {
             "colorbar": {
              "outlinewidth": 0,
              "ticks": ""
             }
            },
            "type": "scattermapbox"
           }
          ],
          "scatterpolar": [
           {
            "marker": {
             "colorbar": {
              "outlinewidth": 0,
              "ticks": ""
             }
            },
            "type": "scatterpolar"
           }
          ],
          "scatterpolargl": [
           {
            "marker": {
             "colorbar": {
              "outlinewidth": 0,
              "ticks": ""
             }
            },
            "type": "scatterpolargl"
           }
          ],
          "scatterternary": [
           {
            "marker": {
             "colorbar": {
              "outlinewidth": 0,
              "ticks": ""
             }
            },
            "type": "scatterternary"
           }
          ],
          "surface": [
           {
            "colorbar": {
             "outlinewidth": 0,
             "ticks": ""
            },
            "colorscale": [
             [
              0,
              "#0d0887"
             ],
             [
              0.1111111111111111,
              "#46039f"
             ],
             [
              0.2222222222222222,
              "#7201a8"
             ],
             [
              0.3333333333333333,
              "#9c179e"
             ],
             [
              0.4444444444444444,
              "#bd3786"
             ],
             [
              0.5555555555555556,
              "#d8576b"
             ],
             [
              0.6666666666666666,
              "#ed7953"
             ],
             [
              0.7777777777777778,
              "#fb9f3a"
             ],
             [
              0.8888888888888888,
              "#fdca26"
             ],
             [
              1,
              "#f0f921"
             ]
            ],
            "type": "surface"
           }
          ],
          "table": [
           {
            "cells": {
             "fill": {
              "color": "#EBF0F8"
             },
             "line": {
              "color": "white"
             }
            },
            "header": {
             "fill": {
              "color": "#C8D4E3"
             },
             "line": {
              "color": "white"
             }
            },
            "type": "table"
           }
          ]
         },
         "layout": {
          "annotationdefaults": {
           "arrowcolor": "#2a3f5f",
           "arrowhead": 0,
           "arrowwidth": 1
          },
          "autotypenumbers": "strict",
          "coloraxis": {
           "colorbar": {
            "outlinewidth": 0,
            "ticks": ""
           }
          },
          "colorscale": {
           "diverging": [
            [
             0,
             "#8e0152"
            ],
            [
             0.1,
             "#c51b7d"
            ],
            [
             0.2,
             "#de77ae"
            ],
            [
             0.3,
             "#f1b6da"
            ],
            [
             0.4,
             "#fde0ef"
            ],
            [
             0.5,
             "#f7f7f7"
            ],
            [
             0.6,
             "#e6f5d0"
            ],
            [
             0.7,
             "#b8e186"
            ],
            [
             0.8,
             "#7fbc41"
            ],
            [
             0.9,
             "#4d9221"
            ],
            [
             1,
             "#276419"
            ]
           ],
           "sequential": [
            [
             0,
             "#0d0887"
            ],
            [
             0.1111111111111111,
             "#46039f"
            ],
            [
             0.2222222222222222,
             "#7201a8"
            ],
            [
             0.3333333333333333,
             "#9c179e"
            ],
            [
             0.4444444444444444,
             "#bd3786"
            ],
            [
             0.5555555555555556,
             "#d8576b"
            ],
            [
             0.6666666666666666,
             "#ed7953"
            ],
            [
             0.7777777777777778,
             "#fb9f3a"
            ],
            [
             0.8888888888888888,
             "#fdca26"
            ],
            [
             1,
             "#f0f921"
            ]
           ],
           "sequentialminus": [
            [
             0,
             "#0d0887"
            ],
            [
             0.1111111111111111,
             "#46039f"
            ],
            [
             0.2222222222222222,
             "#7201a8"
            ],
            [
             0.3333333333333333,
             "#9c179e"
            ],
            [
             0.4444444444444444,
             "#bd3786"
            ],
            [
             0.5555555555555556,
             "#d8576b"
            ],
            [
             0.6666666666666666,
             "#ed7953"
            ],
            [
             0.7777777777777778,
             "#fb9f3a"
            ],
            [
             0.8888888888888888,
             "#fdca26"
            ],
            [
             1,
             "#f0f921"
            ]
           ]
          },
          "colorway": [
           "#636efa",
           "#EF553B",
           "#00cc96",
           "#ab63fa",
           "#FFA15A",
           "#19d3f3",
           "#FF6692",
           "#B6E880",
           "#FF97FF",
           "#FECB52"
          ],
          "font": {
           "color": "#2a3f5f"
          },
          "geo": {
           "bgcolor": "white",
           "lakecolor": "white",
           "landcolor": "#E5ECF6",
           "showlakes": true,
           "showland": true,
           "subunitcolor": "white"
          },
          "hoverlabel": {
           "align": "left"
          },
          "hovermode": "closest",
          "mapbox": {
           "style": "light"
          },
          "paper_bgcolor": "white",
          "plot_bgcolor": "#E5ECF6",
          "polar": {
           "angularaxis": {
            "gridcolor": "white",
            "linecolor": "white",
            "ticks": ""
           },
           "bgcolor": "#E5ECF6",
           "radialaxis": {
            "gridcolor": "white",
            "linecolor": "white",
            "ticks": ""
           }
          },
          "scene": {
           "xaxis": {
            "backgroundcolor": "#E5ECF6",
            "gridcolor": "white",
            "gridwidth": 2,
            "linecolor": "white",
            "showbackground": true,
            "ticks": "",
            "zerolinecolor": "white"
           },
           "yaxis": {
            "backgroundcolor": "#E5ECF6",
            "gridcolor": "white",
            "gridwidth": 2,
            "linecolor": "white",
            "showbackground": true,
            "ticks": "",
            "zerolinecolor": "white"
           },
           "zaxis": {
            "backgroundcolor": "#E5ECF6",
            "gridcolor": "white",
            "gridwidth": 2,
            "linecolor": "white",
            "showbackground": true,
            "ticks": "",
            "zerolinecolor": "white"
           }
          },
          "shapedefaults": {
           "line": {
            "color": "#2a3f5f"
           }
          },
          "ternary": {
           "aaxis": {
            "gridcolor": "white",
            "linecolor": "white",
            "ticks": ""
           },
           "baxis": {
            "gridcolor": "white",
            "linecolor": "white",
            "ticks": ""
           },
           "bgcolor": "#E5ECF6",
           "caxis": {
            "gridcolor": "white",
            "linecolor": "white",
            "ticks": ""
           }
          },
          "title": {
           "x": 0.05
          },
          "xaxis": {
           "automargin": true,
           "gridcolor": "white",
           "linecolor": "white",
           "ticks": "",
           "title": {
            "standoff": 15
           },
           "zerolinecolor": "white",
           "zerolinewidth": 2
          },
          "yaxis": {
           "automargin": true,
           "gridcolor": "white",
           "linecolor": "white",
           "ticks": "",
           "title": {
            "standoff": 15
           },
           "zerolinecolor": "white",
           "zerolinewidth": 2
          }
         }
        },
        "title": {
         "text": "Países"
        }
       }
      }
     },
     "metadata": {},
     "output_type": "display_data"
    }
   ],
   "source": [
    "# Plot to donut chart\n",
    "fig = px.pie(countries_count, values=countries_count.values, names=countries_count.index, title='Países')\n",
    "fig.update_traces(textposition='inside', textinfo='percent+label')\n",
    "# add hole\n",
    "fig.update_traces(hole=.6, hoverinfo=\"label+percent+name\")\n",
    "fig.show()\n"
   ]
  },
  {
   "cell_type": "code",
   "execution_count": 17,
   "metadata": {},
   "outputs": [],
   "source": [
    "# Calculate the age of the players\n",
    "players['age'] = (dt.datetime.now() - pd.to_datetime(players['dtBirth'])).astype('<m8[Y]')"
   ]
  },
  {
   "cell_type": "code",
   "execution_count": 23,
   "metadata": {},
   "outputs": [
    {
     "data": {
      "application/vnd.plotly.v1+json": {
       "config": {
        "plotlyServerURL": "https://plot.ly"
       },
       "data": [
        {
         "alignmentgroup": "True",
         "bingroup": "x",
         "hovertemplate": "age=%{x}<br>count=%{y}<extra></extra>",
         "legendgroup": "",
         "marker": {
          "color": "#636efa",
          "pattern": {
           "shape": ""
          }
         },
         "name": "",
         "offsetgroup": "",
         "orientation": "v",
         "showlegend": false,
         "type": "histogram",
         "x": [
          null,
          null,
          null,
          null,
          null,
          21,
          null,
          null,
          23,
          18,
          28,
          null,
          23,
          18,
          21,
          null,
          17,
          null,
          19,
          25,
          23,
          null,
          19,
          null,
          null,
          19,
          28,
          24,
          22,
          20,
          23,
          26,
          24,
          28,
          30,
          null,
          29,
          27,
          26,
          null,
          21,
          32,
          37,
          21,
          26,
          25,
          24,
          20,
          33,
          23,
          20,
          25,
          23,
          null,
          20,
          16,
          22,
          20,
          null,
          16,
          null,
          27,
          25,
          17,
          33,
          21,
          null,
          32,
          20,
          30,
          null,
          25,
          20,
          24,
          25,
          null,
          22,
          null,
          21,
          23,
          null,
          23,
          32,
          21,
          21,
          31,
          20,
          23,
          31,
          26,
          21,
          22,
          33,
          null,
          19,
          21,
          null,
          23,
          22,
          18,
          null,
          18,
          32,
          26,
          28,
          22,
          25,
          25,
          22,
          null,
          null,
          23,
          18,
          33,
          null,
          26,
          24,
          null,
          26,
          24,
          17,
          null,
          23,
          25,
          null,
          null,
          21,
          21,
          null,
          26,
          29,
          19,
          29,
          26,
          24,
          22,
          null,
          31,
          23,
          null,
          null,
          19,
          21,
          23,
          null,
          26,
          32,
          18,
          23,
          null,
          46,
          null,
          24,
          26,
          21,
          29,
          null,
          30,
          28,
          22,
          24,
          null,
          null,
          22,
          null,
          23,
          null,
          30,
          19,
          null,
          25,
          19,
          24,
          23,
          24,
          18,
          null,
          null,
          26,
          20,
          22,
          21,
          20,
          null,
          25,
          22,
          30,
          27,
          null,
          22,
          23,
          32,
          18,
          31,
          33,
          null,
          49,
          17,
          22,
          20,
          22,
          39,
          null,
          23,
          30,
          23,
          25,
          null,
          30,
          24,
          null,
          31,
          null,
          null,
          18,
          28,
          24,
          null,
          null,
          null,
          23,
          26,
          29,
          22,
          24,
          25,
          30,
          23,
          null,
          28,
          27,
          20,
          20,
          null,
          null,
          null,
          null,
          21,
          23,
          null,
          null,
          18,
          null,
          19,
          21,
          37,
          null,
          27,
          null,
          null,
          29,
          null,
          null,
          26,
          null,
          null,
          31,
          19,
          22,
          null,
          38,
          19,
          25,
          22,
          25,
          24,
          null,
          null,
          24,
          24,
          null,
          32,
          null,
          23,
          null,
          null,
          null,
          19,
          20,
          20,
          22,
          33,
          20,
          null,
          null,
          23,
          null,
          19,
          29,
          null,
          null,
          17,
          24,
          20,
          21,
          null,
          null,
          28,
          29,
          21,
          27,
          null,
          23,
          null,
          25,
          22,
          24,
          null,
          23,
          null,
          23,
          22,
          22,
          null,
          28,
          32,
          null,
          null,
          23,
          17,
          36,
          22,
          null,
          21,
          null,
          18,
          null,
          29,
          24,
          21,
          24,
          26,
          22,
          34,
          19,
          24,
          null,
          23,
          null,
          19,
          25,
          24,
          26,
          23,
          23,
          24,
          22,
          28,
          27,
          14,
          null,
          null,
          null,
          27,
          null,
          24,
          20,
          24,
          null,
          28,
          22,
          23,
          23,
          23,
          24,
          22,
          null,
          20,
          25,
          22,
          21,
          20,
          null,
          24,
          19,
          null,
          25,
          19,
          27,
          null,
          21,
          26,
          25,
          19,
          null,
          18,
          22,
          17,
          26,
          28,
          25,
          25,
          23,
          26,
          17,
          24,
          21,
          null,
          33,
          null,
          18,
          28,
          27,
          null,
          37,
          null,
          21,
          20,
          22,
          26,
          null,
          null,
          null,
          null,
          23,
          22,
          30,
          26,
          20,
          22,
          21,
          24,
          28,
          21,
          null,
          25,
          16,
          29,
          25,
          23,
          null,
          26,
          21,
          27,
          33,
          24,
          24,
          19,
          26,
          21,
          null,
          null,
          23,
          21,
          null,
          null,
          20,
          23,
          null,
          24,
          26,
          22,
          34,
          21,
          null,
          22,
          18,
          18,
          38,
          19,
          19,
          29,
          null,
          23,
          22,
          null,
          61,
          null,
          23,
          null,
          28,
          43,
          20,
          null,
          null,
          29,
          20,
          null,
          30,
          22,
          26,
          null,
          null,
          19,
          28,
          null,
          22,
          22,
          21,
          24,
          null,
          null,
          27,
          null,
          null,
          25,
          null,
          20,
          21,
          null,
          null,
          26,
          35,
          23,
          32,
          null,
          27,
          null,
          27,
          35,
          25,
          25,
          null,
          20,
          26,
          null,
          20,
          null,
          22,
          29,
          31,
          20,
          null,
          19,
          27,
          25,
          32,
          24,
          null,
          25,
          34,
          null,
          18,
          21,
          23,
          26,
          null,
          23,
          29,
          25,
          21,
          30,
          21,
          18,
          null,
          27,
          null,
          null,
          null,
          23,
          null,
          23,
          30,
          26,
          null,
          25,
          null,
          25,
          23,
          22,
          34,
          null,
          21,
          30,
          null,
          20,
          21,
          30,
          null,
          28,
          17,
          29,
          23,
          20,
          24,
          null,
          24,
          null,
          47,
          null,
          23,
          22,
          23,
          18,
          34,
          28,
          null,
          24,
          null,
          23,
          27,
          31,
          null,
          30,
          22,
          20,
          null,
          18,
          18,
          31,
          26,
          21,
          null,
          null,
          25,
          26,
          31,
          26,
          22,
          23,
          25,
          26,
          20,
          30,
          32,
          29,
          27,
          18,
          22,
          null,
          23,
          null,
          20,
          25,
          null,
          26,
          29,
          23,
          null,
          26,
          22,
          23,
          33,
          22,
          22,
          null,
          null,
          26,
          null,
          33,
          25,
          27,
          30,
          24,
          null,
          null,
          null,
          26,
          33,
          25,
          15,
          23,
          31,
          null,
          null,
          null,
          20,
          32,
          22,
          21,
          26,
          null,
          20,
          30,
          30,
          33,
          20,
          36,
          null,
          23,
          27,
          null,
          25,
          40,
          19,
          26,
          22,
          null,
          27,
          22,
          44,
          null,
          22,
          null,
          31,
          19,
          null,
          null,
          29,
          null,
          21,
          25,
          21,
          23,
          null,
          null,
          null,
          19,
          19,
          27,
          23,
          21,
          23,
          22,
          18,
          25,
          19,
          28,
          34,
          20,
          29,
          25,
          29,
          29,
          null,
          24,
          23,
          18,
          null,
          null,
          14,
          31,
          24,
          33,
          27,
          19,
          18,
          31,
          26,
          18,
          32,
          20,
          17,
          36,
          31,
          24,
          25,
          null,
          20,
          25,
          27,
          27,
          30,
          23,
          26,
          25,
          null,
          31,
          20,
          24,
          25,
          21,
          null,
          27,
          null,
          null,
          33,
          22,
          19,
          25,
          18,
          18,
          20,
          23,
          30,
          20,
          29,
          22,
          17,
          16,
          22,
          17,
          30,
          32,
          25,
          28,
          null,
          21,
          23,
          27,
          null,
          20,
          null,
          null,
          20,
          23,
          22,
          null,
          33,
          34,
          31,
          23,
          17,
          23,
          19,
          31,
          32,
          24,
          42,
          19,
          21,
          20,
          null,
          30,
          18,
          37,
          28,
          26,
          null,
          26,
          18,
          23,
          23,
          21,
          18,
          21,
          18,
          null,
          null,
          null,
          20,
          27,
          28,
          24,
          24,
          27,
          null,
          23,
          31,
          null,
          null,
          null,
          null,
          null,
          24,
          31,
          28,
          28,
          21,
          27,
          23,
          30,
          22,
          29,
          null,
          31,
          22,
          20,
          19,
          19,
          21,
          24,
          null,
          30,
          22,
          22,
          23,
          null,
          26,
          20,
          null,
          26,
          18,
          18,
          null,
          32,
          25,
          20,
          null,
          37,
          20,
          30,
          27,
          27,
          null,
          null,
          null,
          33,
          null,
          null,
          28,
          22,
          18,
          23,
          24,
          21,
          36,
          27,
          null,
          null,
          33,
          null,
          22,
          20,
          23,
          null,
          23,
          21,
          null,
          32,
          29,
          18,
          16,
          null,
          18,
          null,
          24,
          31,
          36,
          23,
          21,
          32,
          26,
          null,
          27,
          25,
          25,
          null,
          null,
          16,
          23,
          29,
          20,
          24,
          34,
          null,
          28,
          22,
          26,
          null,
          16,
          33,
          22,
          null,
          null,
          21,
          16,
          null,
          21,
          24,
          null,
          35,
          19,
          18,
          22,
          32,
          24,
          22,
          23,
          34,
          27,
          22,
          30,
          22,
          26,
          27,
          28,
          20,
          24,
          31,
          null,
          null,
          19,
          27,
          null,
          24,
          19,
          28,
          null,
          null,
          33,
          24,
          null,
          28,
          null,
          28,
          23,
          21,
          null,
          78,
          null,
          39,
          20,
          25,
          null,
          null,
          20,
          20,
          29,
          20,
          null,
          32,
          22,
          23,
          30,
          null,
          null,
          22,
          18,
          23,
          20,
          null,
          null,
          26,
          28,
          null,
          33,
          25,
          18,
          27,
          null,
          17,
          35,
          null,
          38,
          21,
          null,
          null,
          null,
          17,
          23,
          23,
          23,
          29,
          22,
          null,
          23,
          23,
          24,
          21,
          28,
          26,
          null,
          34,
          29,
          null,
          null,
          32,
          26,
          25,
          null,
          24,
          28,
          23,
          null,
          17,
          null,
          null,
          20,
          32,
          26,
          25,
          28,
          17,
          20,
          21,
          21,
          19,
          20,
          25,
          21,
          19,
          19,
          21,
          29,
          25,
          null,
          20,
          21,
          26,
          31,
          null,
          18,
          null,
          24,
          22,
          35,
          21,
          null,
          null,
          null,
          19,
          34,
          22,
          22,
          20,
          null,
          22,
          null,
          19,
          null,
          null,
          22,
          38,
          22,
          20,
          22,
          28,
          18,
          18,
          19,
          23,
          34,
          null,
          23,
          22,
          null,
          27,
          26,
          29,
          null,
          18,
          null,
          19,
          17,
          null,
          34,
          null,
          25,
          20,
          25,
          26,
          31,
          null,
          null,
          null,
          null,
          25,
          19,
          29,
          null,
          20,
          29,
          26,
          23,
          null,
          26,
          18,
          25,
          19,
          22,
          21,
          26,
          19,
          null,
          null,
          19,
          19,
          27,
          25,
          null,
          23,
          null,
          25,
          41,
          21,
          24,
          48,
          22,
          19,
          31,
          17,
          33,
          20,
          22,
          null,
          null,
          25,
          25,
          20,
          25,
          22,
          null,
          20,
          23,
          20,
          23,
          21,
          28,
          null,
          27,
          null,
          28,
          35,
          16,
          null,
          24,
          26,
          22,
          23,
          21,
          23,
          29,
          null,
          null,
          28,
          23,
          27,
          null,
          23,
          28,
          34,
          null,
          null,
          42,
          22,
          30,
          null,
          22,
          null,
          16,
          23,
          20,
          null,
          24,
          22,
          26,
          19,
          19,
          23,
          26,
          22,
          null,
          null,
          29,
          25,
          28,
          26,
          36,
          30,
          null,
          33,
          17,
          37,
          29,
          null,
          29,
          20,
          21,
          27,
          22,
          null,
          25,
          null,
          null,
          21,
          25,
          30,
          null,
          18,
          23,
          28,
          null,
          null,
          24,
          null,
          17,
          24,
          null,
          38,
          22,
          19,
          21,
          null,
          25,
          23,
          21,
          23,
          20,
          null,
          22,
          23,
          21,
          null,
          null,
          22,
          23,
          null,
          null,
          null,
          28,
          23,
          22,
          22,
          22,
          24,
          null,
          null,
          24,
          22,
          null,
          19,
          23,
          30,
          28,
          25,
          null,
          26,
          25,
          17,
          21,
          19,
          28,
          31,
          23,
          null,
          23,
          18,
          23,
          null,
          29,
          19,
          null,
          14,
          19,
          23,
          18,
          26,
          null,
          21,
          22,
          23,
          19,
          32,
          23,
          22,
          28,
          33,
          21,
          20,
          null,
          21,
          23,
          null,
          22,
          31,
          32,
          21,
          21,
          24,
          26,
          27,
          23,
          21,
          null,
          18,
          20,
          15,
          23,
          25,
          27,
          28,
          25,
          20,
          25,
          38,
          28,
          null,
          29,
          25,
          23,
          22,
          null,
          26,
          20,
          28,
          null,
          43,
          33,
          19,
          27,
          null,
          26,
          23,
          33,
          null,
          33,
          22,
          22,
          21,
          19,
          30,
          21,
          null,
          38,
          29,
          null,
          35,
          35,
          null,
          23,
          19,
          18,
          28,
          23,
          21,
          28,
          16,
          null,
          25,
          22,
          22,
          null,
          23,
          29,
          26,
          null,
          26,
          20,
          21,
          null,
          null,
          22,
          25,
          24,
          24,
          null,
          28,
          22,
          36,
          null,
          23,
          19,
          null,
          28,
          23,
          null,
          21,
          45,
          20,
          22,
          22,
          null,
          null,
          null,
          25,
          27,
          23,
          null,
          32,
          22,
          null,
          null,
          26,
          33,
          22,
          null,
          null,
          null,
          22,
          24,
          19,
          22,
          21,
          23,
          null,
          null,
          32,
          21,
          35,
          null,
          19,
          33,
          null,
          21,
          25,
          39,
          null,
          null,
          19,
          36,
          28,
          27,
          24,
          23,
          21,
          null,
          23,
          22,
          25,
          30,
          25,
          19,
          null,
          21,
          23,
          null,
          28,
          null,
          22,
          23,
          23,
          24,
          null,
          21,
          null,
          28,
          34,
          21,
          30,
          null,
          31,
          20,
          23,
          24,
          33,
          null,
          22,
          37,
          null,
          32,
          null,
          null,
          null,
          26,
          32,
          null,
          22,
          null,
          17,
          null,
          35,
          21,
          null,
          24,
          18,
          null,
          null,
          26,
          31,
          28,
          null,
          null,
          26,
          25,
          21,
          null,
          null,
          21,
          null,
          22,
          null,
          30,
          23,
          null,
          23,
          32,
          38,
          null,
          31,
          22,
          31,
          null,
          34,
          19,
          22,
          31,
          20,
          32,
          26,
          null,
          28,
          33,
          null,
          23,
          null,
          28,
          38,
          18,
          null,
          28,
          null,
          21,
          33,
          29,
          23,
          null,
          35,
          16,
          null,
          null,
          27,
          null,
          20,
          22,
          25,
          19,
          22,
          22,
          18,
          27,
          null,
          19,
          31,
          24,
          23,
          22,
          29,
          22,
          20,
          null,
          32,
          16,
          null,
          null,
          23,
          null,
          27,
          25,
          25,
          16,
          null,
          28,
          21,
          19,
          19,
          null,
          23,
          null,
          26,
          23,
          22,
          null,
          null,
          26,
          30,
          null,
          null,
          null,
          21,
          null,
          32,
          24,
          24,
          18,
          null,
          null,
          27,
          25,
          36,
          20,
          23,
          27,
          22,
          29,
          23,
          24,
          null,
          null,
          null,
          16,
          null,
          28,
          null,
          26,
          27,
          30,
          21,
          null,
          17,
          28,
          24,
          23,
          22,
          null,
          null,
          null,
          30,
          null,
          25,
          null,
          27,
          25,
          30,
          23,
          null,
          22,
          25,
          null,
          27,
          null,
          null,
          35,
          21,
          23,
          32,
          null,
          15,
          40,
          23,
          22,
          28,
          23,
          23,
          21,
          null,
          23,
          22,
          20,
          25,
          null,
          20,
          null,
          19,
          25,
          20,
          22,
          32,
          22,
          null,
          null,
          23,
          23,
          null,
          null,
          null,
          30,
          20,
          36,
          26,
          26,
          24,
          null,
          24,
          21,
          null,
          22,
          33,
          null,
          null,
          null,
          33,
          null,
          23,
          19,
          27,
          18,
          20,
          null,
          25,
          32,
          19,
          null,
          24,
          25,
          null,
          null,
          21,
          22,
          35,
          19,
          38,
          null,
          42,
          null,
          33,
          23,
          19,
          null,
          null,
          26,
          null,
          18,
          null,
          null,
          32,
          27,
          23,
          29,
          null,
          29,
          25,
          38,
          21,
          17,
          null,
          30,
          25,
          20,
          28,
          20,
          22,
          23,
          null,
          25,
          null,
          null,
          22,
          32,
          null,
          22,
          19,
          37,
          null,
          19,
          21,
          26,
          20,
          31,
          20,
          null,
          21,
          21,
          19,
          34,
          26,
          null,
          24,
          null,
          25,
          17,
          23,
          32,
          null,
          30,
          28,
          30,
          24,
          22,
          27,
          19,
          22,
          21,
          28,
          null,
          21,
          null,
          26,
          null,
          22,
          20,
          18,
          29,
          null,
          null,
          29,
          22,
          null,
          20,
          28,
          24,
          23,
          28,
          null,
          30,
          33,
          22,
          20,
          19,
          null,
          25,
          25,
          23,
          20,
          null,
          21,
          null,
          25,
          28,
          31,
          24,
          32,
          23,
          19,
          null,
          21,
          null,
          23,
          34,
          21,
          21,
          28,
          30,
          37,
          26,
          null,
          null,
          null,
          null,
          20,
          31,
          null,
          23,
          32,
          19,
          21,
          18,
          null,
          24,
          null,
          23,
          27,
          28,
          27,
          26,
          29,
          25,
          16,
          26,
          30,
          31,
          null,
          22,
          null,
          null,
          22,
          32,
          null,
          17,
          35,
          37,
          23,
          27,
          32,
          null,
          23,
          19,
          null,
          20,
          23,
          38,
          27,
          23,
          25,
          null,
          28,
          null,
          24,
          null,
          23,
          null,
          28,
          23,
          22,
          19,
          21,
          27,
          null,
          24,
          29,
          37,
          30,
          null,
          23,
          34,
          29,
          25,
          32,
          35,
          null,
          28,
          26,
          20,
          31,
          25,
          26,
          null,
          19,
          24,
          null,
          30,
          23,
          24,
          18,
          37,
          24,
          null,
          22,
          null,
          21,
          20,
          null,
          27,
          20,
          18,
          17,
          25,
          null,
          null,
          28,
          19,
          35,
          29,
          20,
          27,
          null,
          null,
          19,
          28,
          22,
          32,
          23,
          21,
          33,
          20,
          null,
          22,
          null,
          24,
          18,
          22,
          20,
          36,
          29,
          23,
          21,
          23,
          null,
          20,
          19,
          null,
          26,
          29,
          24,
          21,
          19,
          19,
          25,
          31,
          27,
          28,
          25,
          null,
          17,
          35,
          21,
          22,
          23,
          null,
          33,
          25,
          null,
          23,
          29,
          null,
          22,
          18,
          24,
          null,
          32,
          null,
          25,
          23,
          null,
          25,
          29,
          22,
          19,
          22,
          23,
          29,
          null,
          23,
          null,
          21,
          24,
          null,
          23,
          22,
          20,
          23,
          20,
          17,
          27,
          28,
          27,
          30,
          27,
          26,
          28,
          null,
          33,
          19,
          27,
          35,
          23,
          27,
          25,
          23,
          null,
          32,
          19,
          20,
          17,
          null,
          22,
          31,
          null,
          28,
          43,
          null,
          null,
          24,
          28,
          null,
          17,
          23,
          21,
          null,
          17,
          null,
          23,
          19,
          28,
          null,
          20,
          20,
          19,
          24,
          24,
          null,
          22,
          34,
          null,
          19,
          22,
          25,
          null,
          22,
          32,
          24,
          null,
          null,
          20,
          21,
          20,
          null,
          29,
          null,
          31,
          null,
          22,
          21,
          null,
          23,
          20,
          null,
          17,
          24,
          36,
          29,
          25,
          22,
          null,
          18,
          23,
          25,
          null,
          26,
          null,
          29,
          null,
          34,
          29,
          null,
          26,
          17,
          24,
          18,
          null,
          31,
          25,
          24,
          23,
          null,
          21,
          null,
          56,
          32,
          null,
          34,
          18,
          28,
          37,
          null,
          23,
          24,
          22,
          null,
          28,
          34,
          null,
          25,
          32,
          null,
          20,
          26,
          25,
          null,
          21,
          33,
          26,
          null,
          20,
          29,
          null,
          25,
          21,
          26,
          22,
          21,
          24,
          24,
          26,
          18,
          24,
          24,
          21,
          24,
          26,
          20,
          44,
          21,
          20,
          24,
          null,
          33,
          23,
          20,
          20,
          18,
          null,
          21,
          32,
          23,
          null,
          21,
          37,
          null,
          20,
          19,
          25,
          19,
          24,
          18,
          32,
          27,
          21,
          null,
          22,
          null,
          22,
          17,
          24,
          null,
          21,
          null,
          21,
          null,
          33,
          21,
          26,
          33,
          null,
          30,
          22,
          24,
          null,
          null,
          33,
          27,
          null,
          23,
          36,
          28,
          28,
          null,
          null,
          null,
          36,
          null,
          19,
          20,
          null,
          35,
          20,
          17,
          22,
          null,
          20,
          null,
          33,
          29,
          null,
          27,
          22,
          23,
          29,
          21,
          20,
          31,
          23,
          null,
          20,
          27,
          17,
          null,
          null,
          21,
          null,
          null,
          23,
          22,
          34,
          19,
          null,
          26,
          32,
          22,
          25,
          null,
          37,
          22,
          28,
          null,
          28,
          34,
          null,
          null,
          21,
          16,
          null,
          22,
          28,
          20,
          29,
          33,
          25,
          null,
          27,
          23,
          32,
          27,
          28,
          26,
          null,
          21,
          35,
          null,
          26,
          null,
          30,
          32,
          23,
          19,
          null,
          null,
          null,
          21,
          null,
          null,
          28,
          24,
          20,
          27,
          17,
          18,
          22,
          20,
          24,
          22,
          23,
          null,
          null,
          19,
          33,
          28,
          19,
          28,
          25,
          24,
          null,
          24,
          27,
          18,
          24,
          null,
          23,
          23,
          null,
          18,
          29,
          22,
          39,
          34,
          null,
          26,
          30,
          22,
          null,
          28,
          32,
          24,
          23,
          22,
          24,
          25,
          26,
          37,
          28,
          26,
          null,
          31,
          26,
          null,
          null,
          21,
          22,
          null,
          19,
          22,
          null,
          null,
          null,
          19,
          22,
          16,
          22,
          28,
          31,
          null,
          35,
          19,
          null,
          20,
          null,
          19,
          17,
          null,
          null,
          21,
          22,
          25,
          21,
          23,
          24,
          15,
          17,
          27,
          null,
          19,
          null,
          25,
          31,
          23,
          null,
          null,
          null,
          32,
          24,
          null,
          28,
          26,
          17,
          null,
          35,
          20,
          null,
          24,
          21,
          29,
          null,
          31,
          null,
          50,
          22,
          null,
          23,
          null,
          null,
          null,
          null,
          32,
          17,
          26,
          null,
          null,
          28,
          22,
          null,
          null,
          32,
          21,
          22,
          18,
          17,
          34,
          27,
          29,
          22,
          21,
          null,
          40,
          27,
          null,
          22,
          null,
          null,
          19,
          24,
          23,
          20,
          23,
          19,
          24,
          43,
          null,
          19,
          32,
          null,
          23,
          22,
          28,
          38,
          34,
          null,
          31,
          21,
          32,
          null,
          20,
          null,
          22,
          null,
          21,
          23,
          null,
          27,
          23,
          null,
          28,
          21,
          23,
          23,
          21,
          16,
          null,
          22,
          20,
          null,
          null,
          29,
          null,
          27,
          20,
          22,
          21,
          17,
          23,
          43,
          24,
          23,
          24,
          23,
          18,
          22,
          26,
          17,
          22,
          30,
          null,
          23,
          31,
          23,
          22,
          20,
          25,
          null,
          18,
          null,
          25,
          23,
          29,
          23,
          37,
          22,
          22,
          null,
          20,
          17,
          19,
          null,
          20,
          29,
          null,
          25,
          28,
          25,
          null,
          25,
          26,
          21,
          18,
          32,
          null,
          41,
          23,
          35,
          23,
          23,
          26,
          24,
          null,
          22,
          null,
          20,
          null,
          null,
          21,
          27,
          23,
          17,
          27,
          31,
          null,
          null,
          null,
          19,
          30,
          null,
          23,
          18,
          null,
          25,
          67,
          19,
          22,
          17,
          20,
          22,
          19,
          20,
          20,
          21,
          23,
          18,
          19,
          22,
          22,
          20,
          null,
          32,
          23,
          33,
          22,
          null,
          32,
          null,
          null,
          null,
          null,
          49,
          31,
          23,
          24,
          null,
          21,
          null,
          32,
          25,
          21,
          null,
          null,
          null,
          null,
          33,
          25,
          21,
          27,
          23,
          null,
          25,
          27,
          20,
          null,
          20,
          20,
          28,
          null,
          21,
          28,
          22,
          20,
          null,
          17,
          29,
          null,
          27,
          18,
          22,
          21,
          30,
          25,
          19,
          28,
          17,
          25,
          22,
          28,
          29,
          23,
          null,
          null,
          36,
          23,
          null,
          24,
          16,
          28,
          22,
          31,
          23,
          null,
          22,
          22,
          23
         ],
         "xaxis": "x",
         "yaxis": "y"
        }
       ],
       "layout": {
        "bargap": 0.2,
        "barmode": "relative",
        "legend": {
         "tracegroupgap": 0
        },
        "template": {
         "data": {
          "bar": [
           {
            "error_x": {
             "color": "#2a3f5f"
            },
            "error_y": {
             "color": "#2a3f5f"
            },
            "marker": {
             "line": {
              "color": "#E5ECF6",
              "width": 0.5
             },
             "pattern": {
              "fillmode": "overlay",
              "size": 10,
              "solidity": 0.2
             }
            },
            "type": "bar"
           }
          ],
          "barpolar": [
           {
            "marker": {
             "line": {
              "color": "#E5ECF6",
              "width": 0.5
             },
             "pattern": {
              "fillmode": "overlay",
              "size": 10,
              "solidity": 0.2
             }
            },
            "type": "barpolar"
           }
          ],
          "carpet": [
           {
            "aaxis": {
             "endlinecolor": "#2a3f5f",
             "gridcolor": "white",
             "linecolor": "white",
             "minorgridcolor": "white",
             "startlinecolor": "#2a3f5f"
            },
            "baxis": {
             "endlinecolor": "#2a3f5f",
             "gridcolor": "white",
             "linecolor": "white",
             "minorgridcolor": "white",
             "startlinecolor": "#2a3f5f"
            },
            "type": "carpet"
           }
          ],
          "choropleth": [
           {
            "colorbar": {
             "outlinewidth": 0,
             "ticks": ""
            },
            "type": "choropleth"
           }
          ],
          "contour": [
           {
            "colorbar": {
             "outlinewidth": 0,
             "ticks": ""
            },
            "colorscale": [
             [
              0,
              "#0d0887"
             ],
             [
              0.1111111111111111,
              "#46039f"
             ],
             [
              0.2222222222222222,
              "#7201a8"
             ],
             [
              0.3333333333333333,
              "#9c179e"
             ],
             [
              0.4444444444444444,
              "#bd3786"
             ],
             [
              0.5555555555555556,
              "#d8576b"
             ],
             [
              0.6666666666666666,
              "#ed7953"
             ],
             [
              0.7777777777777778,
              "#fb9f3a"
             ],
             [
              0.8888888888888888,
              "#fdca26"
             ],
             [
              1,
              "#f0f921"
             ]
            ],
            "type": "contour"
           }
          ],
          "contourcarpet": [
           {
            "colorbar": {
             "outlinewidth": 0,
             "ticks": ""
            },
            "type": "contourcarpet"
           }
          ],
          "heatmap": [
           {
            "colorbar": {
             "outlinewidth": 0,
             "ticks": ""
            },
            "colorscale": [
             [
              0,
              "#0d0887"
             ],
             [
              0.1111111111111111,
              "#46039f"
             ],
             [
              0.2222222222222222,
              "#7201a8"
             ],
             [
              0.3333333333333333,
              "#9c179e"
             ],
             [
              0.4444444444444444,
              "#bd3786"
             ],
             [
              0.5555555555555556,
              "#d8576b"
             ],
             [
              0.6666666666666666,
              "#ed7953"
             ],
             [
              0.7777777777777778,
              "#fb9f3a"
             ],
             [
              0.8888888888888888,
              "#fdca26"
             ],
             [
              1,
              "#f0f921"
             ]
            ],
            "type": "heatmap"
           }
          ],
          "heatmapgl": [
           {
            "colorbar": {
             "outlinewidth": 0,
             "ticks": ""
            },
            "colorscale": [
             [
              0,
              "#0d0887"
             ],
             [
              0.1111111111111111,
              "#46039f"
             ],
             [
              0.2222222222222222,
              "#7201a8"
             ],
             [
              0.3333333333333333,
              "#9c179e"
             ],
             [
              0.4444444444444444,
              "#bd3786"
             ],
             [
              0.5555555555555556,
              "#d8576b"
             ],
             [
              0.6666666666666666,
              "#ed7953"
             ],
             [
              0.7777777777777778,
              "#fb9f3a"
             ],
             [
              0.8888888888888888,
              "#fdca26"
             ],
             [
              1,
              "#f0f921"
             ]
            ],
            "type": "heatmapgl"
           }
          ],
          "histogram": [
           {
            "marker": {
             "pattern": {
              "fillmode": "overlay",
              "size": 10,
              "solidity": 0.2
             }
            },
            "type": "histogram"
           }
          ],
          "histogram2d": [
           {
            "colorbar": {
             "outlinewidth": 0,
             "ticks": ""
            },
            "colorscale": [
             [
              0,
              "#0d0887"
             ],
             [
              0.1111111111111111,
              "#46039f"
             ],
             [
              0.2222222222222222,
              "#7201a8"
             ],
             [
              0.3333333333333333,
              "#9c179e"
             ],
             [
              0.4444444444444444,
              "#bd3786"
             ],
             [
              0.5555555555555556,
              "#d8576b"
             ],
             [
              0.6666666666666666,
              "#ed7953"
             ],
             [
              0.7777777777777778,
              "#fb9f3a"
             ],
             [
              0.8888888888888888,
              "#fdca26"
             ],
             [
              1,
              "#f0f921"
             ]
            ],
            "type": "histogram2d"
           }
          ],
          "histogram2dcontour": [
           {
            "colorbar": {
             "outlinewidth": 0,
             "ticks": ""
            },
            "colorscale": [
             [
              0,
              "#0d0887"
             ],
             [
              0.1111111111111111,
              "#46039f"
             ],
             [
              0.2222222222222222,
              "#7201a8"
             ],
             [
              0.3333333333333333,
              "#9c179e"
             ],
             [
              0.4444444444444444,
              "#bd3786"
             ],
             [
              0.5555555555555556,
              "#d8576b"
             ],
             [
              0.6666666666666666,
              "#ed7953"
             ],
             [
              0.7777777777777778,
              "#fb9f3a"
             ],
             [
              0.8888888888888888,
              "#fdca26"
             ],
             [
              1,
              "#f0f921"
             ]
            ],
            "type": "histogram2dcontour"
           }
          ],
          "mesh3d": [
           {
            "colorbar": {
             "outlinewidth": 0,
             "ticks": ""
            },
            "type": "mesh3d"
           }
          ],
          "parcoords": [
           {
            "line": {
             "colorbar": {
              "outlinewidth": 0,
              "ticks": ""
             }
            },
            "type": "parcoords"
           }
          ],
          "pie": [
           {
            "automargin": true,
            "type": "pie"
           }
          ],
          "scatter": [
           {
            "fillpattern": {
             "fillmode": "overlay",
             "size": 10,
             "solidity": 0.2
            },
            "type": "scatter"
           }
          ],
          "scatter3d": [
           {
            "line": {
             "colorbar": {
              "outlinewidth": 0,
              "ticks": ""
             }
            },
            "marker": {
             "colorbar": {
              "outlinewidth": 0,
              "ticks": ""
             }
            },
            "type": "scatter3d"
           }
          ],
          "scattercarpet": [
           {
            "marker": {
             "colorbar": {
              "outlinewidth": 0,
              "ticks": ""
             }
            },
            "type": "scattercarpet"
           }
          ],
          "scattergeo": [
           {
            "marker": {
             "colorbar": {
              "outlinewidth": 0,
              "ticks": ""
             }
            },
            "type": "scattergeo"
           }
          ],
          "scattergl": [
           {
            "marker": {
             "colorbar": {
              "outlinewidth": 0,
              "ticks": ""
             }
            },
            "type": "scattergl"
           }
          ],
          "scattermapbox": [
           {
            "marker": {
             "colorbar": {
              "outlinewidth": 0,
              "ticks": ""
             }
            },
            "type": "scattermapbox"
           }
          ],
          "scatterpolar": [
           {
            "marker": {
             "colorbar": {
              "outlinewidth": 0,
              "ticks": ""
             }
            },
            "type": "scatterpolar"
           }
          ],
          "scatterpolargl": [
           {
            "marker": {
             "colorbar": {
              "outlinewidth": 0,
              "ticks": ""
             }
            },
            "type": "scatterpolargl"
           }
          ],
          "scatterternary": [
           {
            "marker": {
             "colorbar": {
              "outlinewidth": 0,
              "ticks": ""
             }
            },
            "type": "scatterternary"
           }
          ],
          "surface": [
           {
            "colorbar": {
             "outlinewidth": 0,
             "ticks": ""
            },
            "colorscale": [
             [
              0,
              "#0d0887"
             ],
             [
              0.1111111111111111,
              "#46039f"
             ],
             [
              0.2222222222222222,
              "#7201a8"
             ],
             [
              0.3333333333333333,
              "#9c179e"
             ],
             [
              0.4444444444444444,
              "#bd3786"
             ],
             [
              0.5555555555555556,
              "#d8576b"
             ],
             [
              0.6666666666666666,
              "#ed7953"
             ],
             [
              0.7777777777777778,
              "#fb9f3a"
             ],
             [
              0.8888888888888888,
              "#fdca26"
             ],
             [
              1,
              "#f0f921"
             ]
            ],
            "type": "surface"
           }
          ],
          "table": [
           {
            "cells": {
             "fill": {
              "color": "#EBF0F8"
             },
             "line": {
              "color": "white"
             }
            },
            "header": {
             "fill": {
              "color": "#C8D4E3"
             },
             "line": {
              "color": "white"
             }
            },
            "type": "table"
           }
          ]
         },
         "layout": {
          "annotationdefaults": {
           "arrowcolor": "#2a3f5f",
           "arrowhead": 0,
           "arrowwidth": 1
          },
          "autotypenumbers": "strict",
          "coloraxis": {
           "colorbar": {
            "outlinewidth": 0,
            "ticks": ""
           }
          },
          "colorscale": {
           "diverging": [
            [
             0,
             "#8e0152"
            ],
            [
             0.1,
             "#c51b7d"
            ],
            [
             0.2,
             "#de77ae"
            ],
            [
             0.3,
             "#f1b6da"
            ],
            [
             0.4,
             "#fde0ef"
            ],
            [
             0.5,
             "#f7f7f7"
            ],
            [
             0.6,
             "#e6f5d0"
            ],
            [
             0.7,
             "#b8e186"
            ],
            [
             0.8,
             "#7fbc41"
            ],
            [
             0.9,
             "#4d9221"
            ],
            [
             1,
             "#276419"
            ]
           ],
           "sequential": [
            [
             0,
             "#0d0887"
            ],
            [
             0.1111111111111111,
             "#46039f"
            ],
            [
             0.2222222222222222,
             "#7201a8"
            ],
            [
             0.3333333333333333,
             "#9c179e"
            ],
            [
             0.4444444444444444,
             "#bd3786"
            ],
            [
             0.5555555555555556,
             "#d8576b"
            ],
            [
             0.6666666666666666,
             "#ed7953"
            ],
            [
             0.7777777777777778,
             "#fb9f3a"
            ],
            [
             0.8888888888888888,
             "#fdca26"
            ],
            [
             1,
             "#f0f921"
            ]
           ],
           "sequentialminus": [
            [
             0,
             "#0d0887"
            ],
            [
             0.1111111111111111,
             "#46039f"
            ],
            [
             0.2222222222222222,
             "#7201a8"
            ],
            [
             0.3333333333333333,
             "#9c179e"
            ],
            [
             0.4444444444444444,
             "#bd3786"
            ],
            [
             0.5555555555555556,
             "#d8576b"
            ],
            [
             0.6666666666666666,
             "#ed7953"
            ],
            [
             0.7777777777777778,
             "#fb9f3a"
            ],
            [
             0.8888888888888888,
             "#fdca26"
            ],
            [
             1,
             "#f0f921"
            ]
           ]
          },
          "colorway": [
           "#636efa",
           "#EF553B",
           "#00cc96",
           "#ab63fa",
           "#FFA15A",
           "#19d3f3",
           "#FF6692",
           "#B6E880",
           "#FF97FF",
           "#FECB52"
          ],
          "font": {
           "color": "#2a3f5f"
          },
          "geo": {
           "bgcolor": "white",
           "lakecolor": "white",
           "landcolor": "#E5ECF6",
           "showlakes": true,
           "showland": true,
           "subunitcolor": "white"
          },
          "hoverlabel": {
           "align": "left"
          },
          "hovermode": "closest",
          "mapbox": {
           "style": "light"
          },
          "paper_bgcolor": "white",
          "plot_bgcolor": "#E5ECF6",
          "polar": {
           "angularaxis": {
            "gridcolor": "white",
            "linecolor": "white",
            "ticks": ""
           },
           "bgcolor": "#E5ECF6",
           "radialaxis": {
            "gridcolor": "white",
            "linecolor": "white",
            "ticks": ""
           }
          },
          "scene": {
           "xaxis": {
            "backgroundcolor": "#E5ECF6",
            "gridcolor": "white",
            "gridwidth": 2,
            "linecolor": "white",
            "showbackground": true,
            "ticks": "",
            "zerolinecolor": "white"
           },
           "yaxis": {
            "backgroundcolor": "#E5ECF6",
            "gridcolor": "white",
            "gridwidth": 2,
            "linecolor": "white",
            "showbackground": true,
            "ticks": "",
            "zerolinecolor": "white"
           },
           "zaxis": {
            "backgroundcolor": "#E5ECF6",
            "gridcolor": "white",
            "gridwidth": 2,
            "linecolor": "white",
            "showbackground": true,
            "ticks": "",
            "zerolinecolor": "white"
           }
          },
          "shapedefaults": {
           "line": {
            "color": "#2a3f5f"
           }
          },
          "ternary": {
           "aaxis": {
            "gridcolor": "white",
            "linecolor": "white",
            "ticks": ""
           },
           "baxis": {
            "gridcolor": "white",
            "linecolor": "white",
            "ticks": ""
           },
           "bgcolor": "#E5ECF6",
           "caxis": {
            "gridcolor": "white",
            "linecolor": "white",
            "ticks": ""
           }
          },
          "title": {
           "x": 0.05
          },
          "xaxis": {
           "automargin": true,
           "gridcolor": "white",
           "linecolor": "white",
           "ticks": "",
           "title": {
            "standoff": 15
           },
           "zerolinecolor": "white",
           "zerolinewidth": 2
          },
          "yaxis": {
           "automargin": true,
           "gridcolor": "white",
           "linecolor": "white",
           "ticks": "",
           "title": {
            "standoff": 15
           },
           "zerolinecolor": "white",
           "zerolinewidth": 2
          }
         }
        },
        "title": {
         "text": "Idade dos jogadores"
        },
        "xaxis": {
         "anchor": "y",
         "domain": [
          0,
          1
         ],
         "title": {
          "text": "age"
         }
        },
        "yaxis": {
         "anchor": "x",
         "domain": [
          0,
          1
         ],
         "title": {
          "text": "count"
         }
        }
       }
      }
     },
     "metadata": {},
     "output_type": "display_data"
    }
   ],
   "source": [
    "# Plot to bar graph (cap between bars)\n",
    "fig = px.histogram(players, x='age', title='Idade dos jogadores')\n",
    "fig.update_layout(bargap=0.2)\n",
    "fig.show()"
   ]
  },
  {
   "attachments": {},
   "cell_type": "markdown",
   "metadata": {},
   "source": [
    "## Ideias"
   ]
  },
  {
   "attachments": {},
   "cell_type": "markdown",
   "metadata": {},
   "source": [
    "* Roubar [desse cara](https://www.kaggle.com/code/gustavolatorresilva/eda-gc)\n",
    "\n",
    "---\n",
    "\n",
    "* Win rate - nível / mapa\n",
    "* ou ainda, relação: quais mapas são mais jogados por nível\n",
    "* kda por nível -> interessante ver distribuição\n",
    "* survived por nível -> ver se níveis mais altos tendem a guardar mais\n",
    "* flash assist por nível\n",
    "* granada em geral por nível\n",
    "* granada por mapa -> quais mapas são táticos\n",
    "* hs por nível\n",
    "* tiros por nível\n",
    "* qtd. rounds por nível (ver se level mais baixo tende a ter mais stomp) - tentar ver se partidas de nível mais alto tendem a ser mais equilibradas\n",
    "\n",
    "---\n",
    "\n",
    "* distribuição de rating 2.0 (tem que calcular - pegar fórmula)\n",
    "* ADR por player -- vitória ou derrota por exemplo\n",
    "\n",
    "---\n",
    "* cruzar stats com derrota a vitória: ADR e rating acho que são bons\n",
    "\n",
    "---\n",
    "\n",
    "* fazer algumas descritivas: mapas, país de player, idade...\n",
    "* dá pra tirar umas medidas de idade também (média, mediana, desvio, distribuição, etc.)"
   ]
  },
  {
   "attachments": {},
   "cell_type": "markdown",
   "metadata": {},
   "source": [
    "O que dá pra fazer com isso?\n",
    "\n",
    "* distribuição / assimetria\n",
    "* medidas que ele ensinou (a porra toda, igual o Voltera fez) -- a porra toda, mas n precisa ser de tudo. Ou seja, fazemos as relações primeiro, depois tiramos as medidas do que for mais importante, de preferência já agrupadas por players. Ex.: média de kill por player.\n",
    "* regressão com o que fizer sentido\n",
    "* correlação com o que puder\n",
    "* enfim, fazer as coisas que ele ensinou + algo a mais só pra humilhar a estatística (ex.: algum fit/regressão pica)"
   ]
  },
  {
   "cell_type": "code",
   "execution_count": 45,
   "metadata": {},
   "outputs": [
    {
     "data": {
      "text/plain": [
       "162076    12.0\n",
       "22986      5.0\n",
       "65498      4.0\n",
       "70875      4.0\n",
       "18990      3.0\n",
       "27468      3.0\n",
       "49793      3.0\n",
       "47274      3.0\n",
       "161430     3.0\n",
       "38089      3.0\n",
       "Name: qtTk, dtype: float64"
      ]
     },
     "execution_count": 45,
     "metadata": {},
     "output_type": "execute_result"
    }
   ],
   "source": [
    "lobby_players['qtTk'].sort_values(ascending=False).head(10)"
   ]
  }
 ],
 "metadata": {
  "kernelspec": {
   "display_name": "base",
   "language": "python",
   "name": "python3"
  },
  "language_info": {
   "codemirror_mode": {
    "name": "ipython",
    "version": 3
   },
   "file_extension": ".py",
   "mimetype": "text/x-python",
   "name": "python",
   "nbconvert_exporter": "python",
   "pygments_lexer": "ipython3",
   "version": "3.10.10"
  },
  "orig_nbformat": 4
 },
 "nbformat": 4,
 "nbformat_minor": 2
}
