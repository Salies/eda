{
 "cells": [
  {
   "attachments": {},
   "cell_type": "markdown",
   "metadata": {},
   "source": [
    "# Análise exploratória de dados - GamersClub CS:GO"
   ]
  },
  {
   "cell_type": "code",
   "execution_count": 33,
   "metadata": {},
   "outputs": [
    {
     "name": "stderr",
     "output_type": "stream",
     "text": [
      "C:\\Users\\Daniel\\AppData\\Local\\Temp\\ipykernel_88216\\34928153.py:8: MatplotlibDeprecationWarning:\n",
      "\n",
      "The seaborn styles shipped by Matplotlib are deprecated since 3.6, as they no longer correspond to the styles shipped by seaborn. However, they will remain available as 'seaborn-v0_8-<style>'. Alternatively, directly use the seaborn API instead.\n",
      "\n"
     ]
    }
   ],
   "source": [
    "import numpy as np\n",
    "import pandas as pd\n",
    "import plotly.express as px\n",
    "import plotly.figure_factory as ff\n",
    "import datetime as dt\n",
    "import seaborn as sns\n",
    "import matplotlib.pyplot as plt\n",
    "plt.style.use('seaborn')\n"
   ]
  },
  {
   "attachments": {},
   "cell_type": "markdown",
   "metadata": {},
   "source": [
    "## Introdução"
   ]
  },
  {
   "attachments": {},
   "cell_type": "markdown",
   "metadata": {},
   "source": [
    "O jogo Counter-Strike Global Offensive, mais conhecido como CSGO, é um jogo de tiro em primeira pessoa (First Person Shooter), em que partidas são realizadas entre equipes de 5 jogadores cada. O jogo acaba quando uma das equipes ganha 16 rodadas. No caso de empate (por um placar de 15x15), são jogadas prorrogações com 6 rodadas até que uma das equipes ganhe 4 de 6 rodadas. O jogo compõe parte importante do cenário de esporte eletrônico, sendo acompanhado diariamente por milhares de espectadores em todos os países do mundo, apresentando cada vez mais espectadores no Brasil e atraindo uma quantidade considerável de investimentos."
   ]
  },
  {
   "attachments": {},
   "cell_type": "markdown",
   "metadata": {},
   "source": [
    "A *GamersClub* é uma plataforma digital brasileira que tem como objetivo prover o serviço de criação de partidas para o CSGO, além de promover competições profissionais e aulas para aqueles que pagam pela assinatura do serviço."
   ]
  },
  {
   "attachments": {},
   "cell_type": "markdown",
   "metadata": {},
   "source": [
    "O *dataset* utilizado nesse trabalho foi disponibilizado pela própria plataforma da *GamersClub* a partir do site do *Kaggle*. Esse conjunto de dados apresenta as informações de partidas jogadas por membros da plataforma, contendo informações de mais de 150 mil partidas. O mesmo pode ser obtido a partir do seguinte [endereço](https://www.kaggle.com/datasets/gamersclub/brazilian-csgo-plataform-dataset-by-gamers-club)"
   ]
  },
  {
   "attachments": {},
   "cell_type": "markdown",
   "metadata": {},
   "source": [
    "Os dados são apresentados de forma que cada linha represente uma partida de um determinado jogador. Dessa forma, todas as análises são feitas a nível individual, ou seja, não são analisados os dados de equipes, mas de jogadores. O conjunto de dados em si representa uma amostragem aleatória da plataforma. Nesse caso, a população analisada é o conjunto de **todos** os jogadores que participam da plataforma."
   ]
  },
  {
   "attachments": {},
   "cell_type": "markdown",
   "metadata": {},
   "source": [
    "### Glossário"
   ]
  },
  {
   "attachments": {},
   "cell_type": "markdown",
   "metadata": {},
   "source": [
    "Utilitárias: elementos táticos do jogo, como:\n",
    "- Granadas de fumaça, utilizadas para impedir a visão do time adversário\n",
    "- Granada de fragmentação, utilizada para causar dano direto ao adversário através de explosão, sendo esse dano inversamente proporcional à distância da explosão para o jogador\n",
    "- Granada incendiária, utilizada para impedir que jogadores adversários avancem sobre uma determinada região do mapa"
   ]
  },
  {
   "attachments": {},
   "cell_type": "markdown",
   "metadata": {},
   "source": [
    "ADR (*Average Damage per Round*): dano médio por rodada. Isto é, quanto um determinado jogador causou de dano na equipe inimiga a cada rodada, em média. Um jogador pode causar dano em um adversário a partir do uso de armas ou utilitárias (granadas)."
   ]
  },
  {
   "attachments": {},
   "cell_type": "markdown",
   "metadata": {},
   "source": [
    "HS (*Headshot*): um tiro que atinge a cabeça de um adversário. Estatística importante, pois é uma das maneiras mais eficientes de causar dano no adversário. À depender do armamento utilizado, causa uma eliminação instantânea."
   ]
  },
  {
   "attachments": {},
   "cell_type": "markdown",
   "metadata": {},
   "source": [
    "## Parte 0: qualidade dos dados"
   ]
  },
  {
   "cell_type": "code",
   "execution_count": 2,
   "metadata": {},
   "outputs": [],
   "source": [
    "lobby_players = pd.read_csv('data/tb_lobby_stats_player.csv')"
   ]
  },
  {
   "cell_type": "code",
   "execution_count": 3,
   "metadata": {},
   "outputs": [
    {
     "data": {
      "text/html": [
       "<div>\n",
       "<style scoped>\n",
       "    .dataframe tbody tr th:only-of-type {\n",
       "        vertical-align: middle;\n",
       "    }\n",
       "\n",
       "    .dataframe tbody tr th {\n",
       "        vertical-align: top;\n",
       "    }\n",
       "\n",
       "    .dataframe thead th {\n",
       "        text-align: right;\n",
       "    }\n",
       "</style>\n",
       "<table border=\"1\" class=\"dataframe\">\n",
       "  <thead>\n",
       "    <tr style=\"text-align: right;\">\n",
       "      <th></th>\n",
       "      <th>idLobbyGame</th>\n",
       "      <th>idPlayer</th>\n",
       "      <th>idRoom</th>\n",
       "      <th>qtKill</th>\n",
       "      <th>qtAssist</th>\n",
       "      <th>qtDeath</th>\n",
       "      <th>qtHs</th>\n",
       "      <th>qtBombeDefuse</th>\n",
       "      <th>qtBombePlant</th>\n",
       "      <th>qtTk</th>\n",
       "      <th>...</th>\n",
       "      <th>qtFlashAssist</th>\n",
       "      <th>qtHitHeadshot</th>\n",
       "      <th>qtHitChest</th>\n",
       "      <th>qtHitStomach</th>\n",
       "      <th>qtHitLeftAtm</th>\n",
       "      <th>qtHitRightArm</th>\n",
       "      <th>qtHitLeftLeg</th>\n",
       "      <th>qtHitRightLeg</th>\n",
       "      <th>flWinner</th>\n",
       "      <th>dtCreatedAt</th>\n",
       "    </tr>\n",
       "  </thead>\n",
       "  <tbody>\n",
       "    <tr>\n",
       "      <th>0</th>\n",
       "      <td>1</td>\n",
       "      <td>1</td>\n",
       "      <td>1</td>\n",
       "      <td>5</td>\n",
       "      <td>1</td>\n",
       "      <td>16</td>\n",
       "      <td>2</td>\n",
       "      <td>0</td>\n",
       "      <td>0</td>\n",
       "      <td>0.0</td>\n",
       "      <td>...</td>\n",
       "      <td>0.0</td>\n",
       "      <td>3.0</td>\n",
       "      <td>13.0</td>\n",
       "      <td>4.0</td>\n",
       "      <td>2.0</td>\n",
       "      <td>2.0</td>\n",
       "      <td>1.0</td>\n",
       "      <td>0.0</td>\n",
       "      <td>0</td>\n",
       "      <td>2022-01-21 19:45:44</td>\n",
       "    </tr>\n",
       "    <tr>\n",
       "      <th>1</th>\n",
       "      <td>2</td>\n",
       "      <td>1</td>\n",
       "      <td>2</td>\n",
       "      <td>24</td>\n",
       "      <td>3</td>\n",
       "      <td>18</td>\n",
       "      <td>6</td>\n",
       "      <td>0</td>\n",
       "      <td>4</td>\n",
       "      <td>0.0</td>\n",
       "      <td>...</td>\n",
       "      <td>0.0</td>\n",
       "      <td>7.0</td>\n",
       "      <td>26.0</td>\n",
       "      <td>14.0</td>\n",
       "      <td>2.0</td>\n",
       "      <td>1.0</td>\n",
       "      <td>1.0</td>\n",
       "      <td>3.0</td>\n",
       "      <td>1</td>\n",
       "      <td>2022-02-04 02:09:47</td>\n",
       "    </tr>\n",
       "    <tr>\n",
       "      <th>2</th>\n",
       "      <td>3</td>\n",
       "      <td>2</td>\n",
       "      <td>3</td>\n",
       "      <td>6</td>\n",
       "      <td>4</td>\n",
       "      <td>23</td>\n",
       "      <td>2</td>\n",
       "      <td>0</td>\n",
       "      <td>1</td>\n",
       "      <td>0.0</td>\n",
       "      <td>...</td>\n",
       "      <td>0.0</td>\n",
       "      <td>3.0</td>\n",
       "      <td>15.0</td>\n",
       "      <td>8.0</td>\n",
       "      <td>1.0</td>\n",
       "      <td>2.0</td>\n",
       "      <td>0.0</td>\n",
       "      <td>2.0</td>\n",
       "      <td>0</td>\n",
       "      <td>2021-09-18 18:07:43</td>\n",
       "    </tr>\n",
       "    <tr>\n",
       "      <th>3</th>\n",
       "      <td>3</td>\n",
       "      <td>391</td>\n",
       "      <td>27508</td>\n",
       "      <td>10</td>\n",
       "      <td>5</td>\n",
       "      <td>20</td>\n",
       "      <td>4</td>\n",
       "      <td>1</td>\n",
       "      <td>0</td>\n",
       "      <td>0.0</td>\n",
       "      <td>...</td>\n",
       "      <td>0.0</td>\n",
       "      <td>6.0</td>\n",
       "      <td>27.0</td>\n",
       "      <td>10.0</td>\n",
       "      <td>1.0</td>\n",
       "      <td>7.0</td>\n",
       "      <td>6.0</td>\n",
       "      <td>6.0</td>\n",
       "      <td>1</td>\n",
       "      <td>2021-09-18 18:07:43</td>\n",
       "    </tr>\n",
       "    <tr>\n",
       "      <th>4</th>\n",
       "      <td>4</td>\n",
       "      <td>2</td>\n",
       "      <td>4</td>\n",
       "      <td>8</td>\n",
       "      <td>4</td>\n",
       "      <td>26</td>\n",
       "      <td>6</td>\n",
       "      <td>0</td>\n",
       "      <td>2</td>\n",
       "      <td>0.0</td>\n",
       "      <td>...</td>\n",
       "      <td>2.0</td>\n",
       "      <td>8.0</td>\n",
       "      <td>19.0</td>\n",
       "      <td>12.0</td>\n",
       "      <td>2.0</td>\n",
       "      <td>3.0</td>\n",
       "      <td>2.0</td>\n",
       "      <td>5.0</td>\n",
       "      <td>0</td>\n",
       "      <td>2021-09-27 00:17:45</td>\n",
       "    </tr>\n",
       "    <tr>\n",
       "      <th>5</th>\n",
       "      <td>5</td>\n",
       "      <td>2</td>\n",
       "      <td>5</td>\n",
       "      <td>10</td>\n",
       "      <td>1</td>\n",
       "      <td>11</td>\n",
       "      <td>5</td>\n",
       "      <td>0</td>\n",
       "      <td>3</td>\n",
       "      <td>0.0</td>\n",
       "      <td>...</td>\n",
       "      <td>1.0</td>\n",
       "      <td>5.0</td>\n",
       "      <td>6.0</td>\n",
       "      <td>8.0</td>\n",
       "      <td>0.0</td>\n",
       "      <td>0.0</td>\n",
       "      <td>3.0</td>\n",
       "      <td>0.0</td>\n",
       "      <td>1</td>\n",
       "      <td>2021-09-29 22:05:47</td>\n",
       "    </tr>\n",
       "    <tr>\n",
       "      <th>6</th>\n",
       "      <td>5</td>\n",
       "      <td>1068</td>\n",
       "      <td>69976</td>\n",
       "      <td>9</td>\n",
       "      <td>2</td>\n",
       "      <td>19</td>\n",
       "      <td>4</td>\n",
       "      <td>1</td>\n",
       "      <td>0</td>\n",
       "      <td>0.0</td>\n",
       "      <td>...</td>\n",
       "      <td>1.0</td>\n",
       "      <td>6.0</td>\n",
       "      <td>21.0</td>\n",
       "      <td>14.0</td>\n",
       "      <td>3.0</td>\n",
       "      <td>4.0</td>\n",
       "      <td>2.0</td>\n",
       "      <td>2.0</td>\n",
       "      <td>0</td>\n",
       "      <td>2021-09-29 22:05:47</td>\n",
       "    </tr>\n",
       "    <tr>\n",
       "      <th>7</th>\n",
       "      <td>6</td>\n",
       "      <td>2</td>\n",
       "      <td>6</td>\n",
       "      <td>16</td>\n",
       "      <td>1</td>\n",
       "      <td>23</td>\n",
       "      <td>9</td>\n",
       "      <td>0</td>\n",
       "      <td>1</td>\n",
       "      <td>0.0</td>\n",
       "      <td>...</td>\n",
       "      <td>1.0</td>\n",
       "      <td>9.0</td>\n",
       "      <td>21.0</td>\n",
       "      <td>19.0</td>\n",
       "      <td>3.0</td>\n",
       "      <td>4.0</td>\n",
       "      <td>2.0</td>\n",
       "      <td>3.0</td>\n",
       "      <td>0</td>\n",
       "      <td>2021-10-07 22:48:43</td>\n",
       "    </tr>\n",
       "    <tr>\n",
       "      <th>8</th>\n",
       "      <td>7</td>\n",
       "      <td>2</td>\n",
       "      <td>7</td>\n",
       "      <td>11</td>\n",
       "      <td>2</td>\n",
       "      <td>19</td>\n",
       "      <td>2</td>\n",
       "      <td>0</td>\n",
       "      <td>1</td>\n",
       "      <td>0.0</td>\n",
       "      <td>...</td>\n",
       "      <td>1.0</td>\n",
       "      <td>5.0</td>\n",
       "      <td>17.0</td>\n",
       "      <td>12.0</td>\n",
       "      <td>0.0</td>\n",
       "      <td>4.0</td>\n",
       "      <td>0.0</td>\n",
       "      <td>2.0</td>\n",
       "      <td>0</td>\n",
       "      <td>2021-10-08 23:29:57</td>\n",
       "    </tr>\n",
       "    <tr>\n",
       "      <th>9</th>\n",
       "      <td>8</td>\n",
       "      <td>2</td>\n",
       "      <td>8</td>\n",
       "      <td>8</td>\n",
       "      <td>6</td>\n",
       "      <td>13</td>\n",
       "      <td>2</td>\n",
       "      <td>0</td>\n",
       "      <td>0</td>\n",
       "      <td>0.0</td>\n",
       "      <td>...</td>\n",
       "      <td>0.0</td>\n",
       "      <td>3.0</td>\n",
       "      <td>9.0</td>\n",
       "      <td>17.0</td>\n",
       "      <td>2.0</td>\n",
       "      <td>5.0</td>\n",
       "      <td>7.0</td>\n",
       "      <td>8.0</td>\n",
       "      <td>0</td>\n",
       "      <td>2021-10-12 16:48:09</td>\n",
       "    </tr>\n",
       "  </tbody>\n",
       "</table>\n",
       "<p>10 rows × 38 columns</p>\n",
       "</div>"
      ],
      "text/plain": [
       "   idLobbyGame  idPlayer  idRoom  qtKill  qtAssist  qtDeath  qtHs  \\\n",
       "0            1         1       1       5         1       16     2   \n",
       "1            2         1       2      24         3       18     6   \n",
       "2            3         2       3       6         4       23     2   \n",
       "3            3       391   27508      10         5       20     4   \n",
       "4            4         2       4       8         4       26     6   \n",
       "5            5         2       5      10         1       11     5   \n",
       "6            5      1068   69976       9         2       19     4   \n",
       "7            6         2       6      16         1       23     9   \n",
       "8            7         2       7      11         2       19     2   \n",
       "9            8         2       8       8         6       13     2   \n",
       "\n",
       "   qtBombeDefuse  qtBombePlant  qtTk  ...  qtFlashAssist  qtHitHeadshot  \\\n",
       "0              0             0   0.0  ...            0.0            3.0   \n",
       "1              0             4   0.0  ...            0.0            7.0   \n",
       "2              0             1   0.0  ...            0.0            3.0   \n",
       "3              1             0   0.0  ...            0.0            6.0   \n",
       "4              0             2   0.0  ...            2.0            8.0   \n",
       "5              0             3   0.0  ...            1.0            5.0   \n",
       "6              1             0   0.0  ...            1.0            6.0   \n",
       "7              0             1   0.0  ...            1.0            9.0   \n",
       "8              0             1   0.0  ...            1.0            5.0   \n",
       "9              0             0   0.0  ...            0.0            3.0   \n",
       "\n",
       "   qtHitChest  qtHitStomach  qtHitLeftAtm  qtHitRightArm  qtHitLeftLeg  \\\n",
       "0        13.0           4.0           2.0            2.0           1.0   \n",
       "1        26.0          14.0           2.0            1.0           1.0   \n",
       "2        15.0           8.0           1.0            2.0           0.0   \n",
       "3        27.0          10.0           1.0            7.0           6.0   \n",
       "4        19.0          12.0           2.0            3.0           2.0   \n",
       "5         6.0           8.0           0.0            0.0           3.0   \n",
       "6        21.0          14.0           3.0            4.0           2.0   \n",
       "7        21.0          19.0           3.0            4.0           2.0   \n",
       "8        17.0          12.0           0.0            4.0           0.0   \n",
       "9         9.0          17.0           2.0            5.0           7.0   \n",
       "\n",
       "   qtHitRightLeg  flWinner          dtCreatedAt  \n",
       "0            0.0         0  2022-01-21 19:45:44  \n",
       "1            3.0         1  2022-02-04 02:09:47  \n",
       "2            2.0         0  2021-09-18 18:07:43  \n",
       "3            6.0         1  2021-09-18 18:07:43  \n",
       "4            5.0         0  2021-09-27 00:17:45  \n",
       "5            0.0         1  2021-09-29 22:05:47  \n",
       "6            2.0         0  2021-09-29 22:05:47  \n",
       "7            3.0         0  2021-10-07 22:48:43  \n",
       "8            2.0         0  2021-10-08 23:29:57  \n",
       "9            8.0         0  2021-10-12 16:48:09  \n",
       "\n",
       "[10 rows x 38 columns]"
      ]
     },
     "execution_count": 3,
     "metadata": {},
     "output_type": "execute_result"
    }
   ],
   "source": [
    "lobby_players.head(10)"
   ]
  },
  {
   "cell_type": "code",
   "execution_count": 4,
   "metadata": {},
   "outputs": [
    {
     "name": "stdout",
     "output_type": "stream",
     "text": [
      "Number of lines:  184152\n",
      "Number of unique (idLobbyGame, idPlayer) pairs:  184152\n",
      "Number of unique (idRoom, idPlayer) pairs:  184152\n"
     ]
    }
   ],
   "source": [
    "# count lines\n",
    "print('Number of lines: ', len(lobby_players))\n",
    "# check if all (idLobbyGame, idPlayer) are unique\n",
    "print('Number of unique (idLobbyGame, idPlayer) pairs: ', len(lobby_players.groupby(['idLobbyGame', 'idPlayer']).size()))\n",
    "# check if all (idRoom, idPlayer) are unique\n",
    "print('Number of unique (idRoom, idPlayer) pairs: ', len(lobby_players.groupby(['idRoom', 'idPlayer']).size()))\n",
    "# USAR APENAS O LOBBYGAME"
   ]
  },
  {
   "cell_type": "code",
   "execution_count": 5,
   "metadata": {},
   "outputs": [
    {
     "data": {
      "text/plain": [
       "58891    5\n",
       "60420    4\n",
       "17782    4\n",
       "17622    4\n",
       "71305    4\n",
       "93223    4\n",
       "17777    4\n",
       "4508     4\n",
       "17644    3\n",
       "31686    3\n",
       "Name: idLobbyGame, dtype: int64"
      ]
     },
     "execution_count": 5,
     "metadata": {},
     "output_type": "execute_result"
    }
   ],
   "source": [
    "lobby_players['idLobbyGame'].value_counts().sort_values(ascending=False).head(10)"
   ]
  },
  {
   "cell_type": "code",
   "execution_count": 6,
   "metadata": {},
   "outputs": [
    {
     "data": {
      "text/plain": [
       "17861    3\n",
       "17801    3\n",
       "17818    3\n",
       "17817    3\n",
       "17858    3\n",
       "17876    3\n",
       "58765    3\n",
       "24323    3\n",
       "17887    3\n",
       "17889    3\n",
       "Name: idRoom, dtype: int64"
      ]
     },
     "execution_count": 6,
     "metadata": {},
     "output_type": "execute_result"
    }
   ],
   "source": [
    "lobby_players['idRoom'].value_counts().sort_values(ascending=False).head(10)"
   ]
  },
  {
   "attachments": {},
   "cell_type": "markdown",
   "metadata": {},
   "source": [
    "Conforme os dados acima, nota-se que não será possível realizar uma análise por equipes, uma vez que partidas com múltiplos jogadores simultâneas são escassas. Desta forma, a análise proposta tem como alvo principal o jogador individualmente, explorando informações como mapas, nível na GC, quantidade de eliminações, mortes e assistências, entre outras."
   ]
  },
  {
   "attachments": {},
   "cell_type": "markdown",
   "metadata": {},
   "source": [
    "## Parte 1: players"
   ]
  },
  {
   "cell_type": "code",
   "execution_count": 7,
   "metadata": {},
   "outputs": [],
   "source": [
    "players = pd.read_csv('data/tb_players.csv')"
   ]
  },
  {
   "cell_type": "code",
   "execution_count": 8,
   "metadata": {},
   "outputs": [
    {
     "name": "stdout",
     "output_type": "stream",
     "text": [
      "<class 'pandas.core.frame.DataFrame'>\n",
      "RangeIndex: 2716 entries, 0 to 2715\n",
      "Data columns (total 7 columns):\n",
      " #   Column          Non-Null Count  Dtype \n",
      "---  ------          --------------  ----- \n",
      " 0   idPlayer        2716 non-null   int64 \n",
      " 1   flFacebook      2716 non-null   int64 \n",
      " 2   flTwitter       2716 non-null   int64 \n",
      " 3   flTwitch        2716 non-null   int64 \n",
      " 4   descCountry     2716 non-null   object\n",
      " 5   dtBirth         2008 non-null   object\n",
      " 6   dtRegistration  2716 non-null   object\n",
      "dtypes: int64(4), object(3)\n",
      "memory usage: 148.7+ KB\n"
     ]
    }
   ],
   "source": [
    "players.info()"
   ]
  },
  {
   "cell_type": "code",
   "execution_count": 9,
   "metadata": {},
   "outputs": [
    {
     "data": {
      "text/html": [
       "<div>\n",
       "<style scoped>\n",
       "    .dataframe tbody tr th:only-of-type {\n",
       "        vertical-align: middle;\n",
       "    }\n",
       "\n",
       "    .dataframe tbody tr th {\n",
       "        vertical-align: top;\n",
       "    }\n",
       "\n",
       "    .dataframe thead th {\n",
       "        text-align: right;\n",
       "    }\n",
       "</style>\n",
       "<table border=\"1\" class=\"dataframe\">\n",
       "  <thead>\n",
       "    <tr style=\"text-align: right;\">\n",
       "      <th></th>\n",
       "      <th>idPlayer</th>\n",
       "      <th>flFacebook</th>\n",
       "      <th>flTwitter</th>\n",
       "      <th>flTwitch</th>\n",
       "      <th>descCountry</th>\n",
       "      <th>dtBirth</th>\n",
       "      <th>dtRegistration</th>\n",
       "    </tr>\n",
       "  </thead>\n",
       "  <tbody>\n",
       "    <tr>\n",
       "      <th>0</th>\n",
       "      <td>1</td>\n",
       "      <td>0</td>\n",
       "      <td>0</td>\n",
       "      <td>0</td>\n",
       "      <td>cl</td>\n",
       "      <td>NaN</td>\n",
       "      <td>2021-03-19 21:31:39</td>\n",
       "    </tr>\n",
       "    <tr>\n",
       "      <th>1</th>\n",
       "      <td>2</td>\n",
       "      <td>0</td>\n",
       "      <td>0</td>\n",
       "      <td>0</td>\n",
       "      <td>br</td>\n",
       "      <td>NaN</td>\n",
       "      <td>2020-05-06 19:28:29</td>\n",
       "    </tr>\n",
       "    <tr>\n",
       "      <th>2</th>\n",
       "      <td>3</td>\n",
       "      <td>0</td>\n",
       "      <td>0</td>\n",
       "      <td>0</td>\n",
       "      <td>br</td>\n",
       "      <td>NaN</td>\n",
       "      <td>2020-01-28 13:00:38</td>\n",
       "    </tr>\n",
       "    <tr>\n",
       "      <th>3</th>\n",
       "      <td>4</td>\n",
       "      <td>0</td>\n",
       "      <td>0</td>\n",
       "      <td>0</td>\n",
       "      <td>br</td>\n",
       "      <td>NaN</td>\n",
       "      <td>2017-05-31 16:13:51</td>\n",
       "    </tr>\n",
       "    <tr>\n",
       "      <th>4</th>\n",
       "      <td>5</td>\n",
       "      <td>0</td>\n",
       "      <td>0</td>\n",
       "      <td>0</td>\n",
       "      <td>ar</td>\n",
       "      <td>NaN</td>\n",
       "      <td>2021-02-08 11:57:21</td>\n",
       "    </tr>\n",
       "    <tr>\n",
       "      <th>5</th>\n",
       "      <td>6</td>\n",
       "      <td>0</td>\n",
       "      <td>0</td>\n",
       "      <td>0</td>\n",
       "      <td>br</td>\n",
       "      <td>2002-03-23 00:00:00</td>\n",
       "      <td>2019-01-09 19:24:27</td>\n",
       "    </tr>\n",
       "    <tr>\n",
       "      <th>6</th>\n",
       "      <td>7</td>\n",
       "      <td>0</td>\n",
       "      <td>0</td>\n",
       "      <td>0</td>\n",
       "      <td>br</td>\n",
       "      <td>NaN</td>\n",
       "      <td>2020-04-24 22:53:50</td>\n",
       "    </tr>\n",
       "    <tr>\n",
       "      <th>7</th>\n",
       "      <td>8</td>\n",
       "      <td>0</td>\n",
       "      <td>0</td>\n",
       "      <td>0</td>\n",
       "      <td>br</td>\n",
       "      <td>NaN</td>\n",
       "      <td>2021-06-26 14:47:57</td>\n",
       "    </tr>\n",
       "    <tr>\n",
       "      <th>8</th>\n",
       "      <td>9</td>\n",
       "      <td>0</td>\n",
       "      <td>0</td>\n",
       "      <td>0</td>\n",
       "      <td>ar</td>\n",
       "      <td>2000-05-03 00:00:00</td>\n",
       "      <td>2016-05-22 15:12:48</td>\n",
       "    </tr>\n",
       "    <tr>\n",
       "      <th>9</th>\n",
       "      <td>10</td>\n",
       "      <td>0</td>\n",
       "      <td>0</td>\n",
       "      <td>0</td>\n",
       "      <td>br</td>\n",
       "      <td>2005-04-15 00:00:00</td>\n",
       "      <td>2018-02-28 11:29:11</td>\n",
       "    </tr>\n",
       "  </tbody>\n",
       "</table>\n",
       "</div>"
      ],
      "text/plain": [
       "   idPlayer  flFacebook  flTwitter  flTwitch descCountry              dtBirth  \\\n",
       "0         1           0          0         0          cl                  NaN   \n",
       "1         2           0          0         0          br                  NaN   \n",
       "2         3           0          0         0          br                  NaN   \n",
       "3         4           0          0         0          br                  NaN   \n",
       "4         5           0          0         0          ar                  NaN   \n",
       "5         6           0          0         0          br  2002-03-23 00:00:00   \n",
       "6         7           0          0         0          br                  NaN   \n",
       "7         8           0          0         0          br                  NaN   \n",
       "8         9           0          0         0          ar  2000-05-03 00:00:00   \n",
       "9        10           0          0         0          br  2005-04-15 00:00:00   \n",
       "\n",
       "        dtRegistration  \n",
       "0  2021-03-19 21:31:39  \n",
       "1  2020-05-06 19:28:29  \n",
       "2  2020-01-28 13:00:38  \n",
       "3  2017-05-31 16:13:51  \n",
       "4  2021-02-08 11:57:21  \n",
       "5  2019-01-09 19:24:27  \n",
       "6  2020-04-24 22:53:50  \n",
       "7  2021-06-26 14:47:57  \n",
       "8  2016-05-22 15:12:48  \n",
       "9  2018-02-28 11:29:11  "
      ]
     },
     "execution_count": 9,
     "metadata": {},
     "output_type": "execute_result"
    }
   ],
   "source": [
    "players.head(10)"
   ]
  },
  {
   "cell_type": "code",
   "execution_count": 10,
   "metadata": {},
   "outputs": [
    {
     "name": "stdout",
     "output_type": "stream",
     "text": [
      "0    2653\n",
      "1      63\n",
      "Name: flFacebook, dtype: int64\n",
      "0    2672\n",
      "1      44\n",
      "Name: flTwitter, dtype: int64\n",
      "0    2663\n",
      "1      53\n",
      "Name: flTwitch, dtype: int64\n"
     ]
    }
   ],
   "source": [
    "print(players['flFacebook'].value_counts())\n",
    "print(players['flTwitter'].value_counts())\n",
    "print(players['flTwitch'].value_counts())"
   ]
  },
  {
   "attachments": {},
   "cell_type": "markdown",
   "metadata": {},
   "source": [
    "Explicação das colunas:\n",
    "* ``idPlayer``: id do player\n",
    "* ``flFacebook``, ``flTwitter``, ``flTwitch``: se o jogador sincronizou (1) ou não (0) sua conta com cada uma das plataformas\n",
    "* ``descCountry``: sigla de dois dígitos indicando o país do jogador\n",
    "* ``dtRegistration``: data de ingresso do jogador na plataforma GamersClub"
   ]
  },
  {
   "cell_type": "code",
   "execution_count": 11,
   "metadata": {},
   "outputs": [
    {
     "data": {
      "text/plain": [
       "0"
      ]
     },
     "execution_count": 11,
     "metadata": {},
     "output_type": "execute_result"
    }
   ],
   "source": [
    "players['descCountry'].isna().sum()"
   ]
  },
  {
   "attachments": {},
   "cell_type": "markdown",
   "metadata": {},
   "source": [
    "Ou seja, todos os players tem um país."
   ]
  },
  {
   "cell_type": "code",
   "execution_count": 12,
   "metadata": {},
   "outputs": [
    {
     "data": {
      "text/plain": [
       "br    2071\n",
       "ar     491\n",
       "Name: descCountry, dtype: int64"
      ]
     },
     "execution_count": 12,
     "metadata": {},
     "output_type": "execute_result"
    }
   ],
   "source": [
    "countries_count = players['descCountry'].value_counts()\n",
    "freq_countries = countries_count[countries_count > 100]\n",
    "freq_countries"
   ]
  },
  {
   "cell_type": "code",
   "execution_count": 13,
   "metadata": {},
   "outputs": [
    {
     "data": {
      "application/vnd.plotly.v1+json": {
       "config": {
        "plotlyServerURL": "https://plot.ly"
       },
       "data": [
        {
         "domain": {
          "x": [
           0,
           1
          ],
          "y": [
           0,
           1
          ]
         },
         "hole": 0.6,
         "hoverinfo": "label+percent+name",
         "hovertemplate": "index=%{label}<br>value=%{value}<extra></extra>",
         "labels": [
          "br",
          "ar",
          "cl",
          "uy",
          "pe",
          "us",
          "py",
          "bo",
          "ec",
          "ca",
          "pt",
          "sv",
          "cr"
         ],
         "legendgroup": "",
         "name": "",
         "showlegend": true,
         "textinfo": "percent+label",
         "textposition": "inside",
         "type": "pie",
         "values": [
          2071,
          491,
          92,
          21,
          17,
          10,
          5,
          3,
          2,
          1,
          1,
          1,
          1
         ]
        }
       ],
       "layout": {
        "legend": {
         "tracegroupgap": 0
        },
        "template": {
         "data": {
          "bar": [
           {
            "error_x": {
             "color": "#2a3f5f"
            },
            "error_y": {
             "color": "#2a3f5f"
            },
            "marker": {
             "line": {
              "color": "#E5ECF6",
              "width": 0.5
             },
             "pattern": {
              "fillmode": "overlay",
              "size": 10,
              "solidity": 0.2
             }
            },
            "type": "bar"
           }
          ],
          "barpolar": [
           {
            "marker": {
             "line": {
              "color": "#E5ECF6",
              "width": 0.5
             },
             "pattern": {
              "fillmode": "overlay",
              "size": 10,
              "solidity": 0.2
             }
            },
            "type": "barpolar"
           }
          ],
          "carpet": [
           {
            "aaxis": {
             "endlinecolor": "#2a3f5f",
             "gridcolor": "white",
             "linecolor": "white",
             "minorgridcolor": "white",
             "startlinecolor": "#2a3f5f"
            },
            "baxis": {
             "endlinecolor": "#2a3f5f",
             "gridcolor": "white",
             "linecolor": "white",
             "minorgridcolor": "white",
             "startlinecolor": "#2a3f5f"
            },
            "type": "carpet"
           }
          ],
          "choropleth": [
           {
            "colorbar": {
             "outlinewidth": 0,
             "ticks": ""
            },
            "type": "choropleth"
           }
          ],
          "contour": [
           {
            "colorbar": {
             "outlinewidth": 0,
             "ticks": ""
            },
            "colorscale": [
             [
              0,
              "#0d0887"
             ],
             [
              0.1111111111111111,
              "#46039f"
             ],
             [
              0.2222222222222222,
              "#7201a8"
             ],
             [
              0.3333333333333333,
              "#9c179e"
             ],
             [
              0.4444444444444444,
              "#bd3786"
             ],
             [
              0.5555555555555556,
              "#d8576b"
             ],
             [
              0.6666666666666666,
              "#ed7953"
             ],
             [
              0.7777777777777778,
              "#fb9f3a"
             ],
             [
              0.8888888888888888,
              "#fdca26"
             ],
             [
              1,
              "#f0f921"
             ]
            ],
            "type": "contour"
           }
          ],
          "contourcarpet": [
           {
            "colorbar": {
             "outlinewidth": 0,
             "ticks": ""
            },
            "type": "contourcarpet"
           }
          ],
          "heatmap": [
           {
            "colorbar": {
             "outlinewidth": 0,
             "ticks": ""
            },
            "colorscale": [
             [
              0,
              "#0d0887"
             ],
             [
              0.1111111111111111,
              "#46039f"
             ],
             [
              0.2222222222222222,
              "#7201a8"
             ],
             [
              0.3333333333333333,
              "#9c179e"
             ],
             [
              0.4444444444444444,
              "#bd3786"
             ],
             [
              0.5555555555555556,
              "#d8576b"
             ],
             [
              0.6666666666666666,
              "#ed7953"
             ],
             [
              0.7777777777777778,
              "#fb9f3a"
             ],
             [
              0.8888888888888888,
              "#fdca26"
             ],
             [
              1,
              "#f0f921"
             ]
            ],
            "type": "heatmap"
           }
          ],
          "heatmapgl": [
           {
            "colorbar": {
             "outlinewidth": 0,
             "ticks": ""
            },
            "colorscale": [
             [
              0,
              "#0d0887"
             ],
             [
              0.1111111111111111,
              "#46039f"
             ],
             [
              0.2222222222222222,
              "#7201a8"
             ],
             [
              0.3333333333333333,
              "#9c179e"
             ],
             [
              0.4444444444444444,
              "#bd3786"
             ],
             [
              0.5555555555555556,
              "#d8576b"
             ],
             [
              0.6666666666666666,
              "#ed7953"
             ],
             [
              0.7777777777777778,
              "#fb9f3a"
             ],
             [
              0.8888888888888888,
              "#fdca26"
             ],
             [
              1,
              "#f0f921"
             ]
            ],
            "type": "heatmapgl"
           }
          ],
          "histogram": [
           {
            "marker": {
             "pattern": {
              "fillmode": "overlay",
              "size": 10,
              "solidity": 0.2
             }
            },
            "type": "histogram"
           }
          ],
          "histogram2d": [
           {
            "colorbar": {
             "outlinewidth": 0,
             "ticks": ""
            },
            "colorscale": [
             [
              0,
              "#0d0887"
             ],
             [
              0.1111111111111111,
              "#46039f"
             ],
             [
              0.2222222222222222,
              "#7201a8"
             ],
             [
              0.3333333333333333,
              "#9c179e"
             ],
             [
              0.4444444444444444,
              "#bd3786"
             ],
             [
              0.5555555555555556,
              "#d8576b"
             ],
             [
              0.6666666666666666,
              "#ed7953"
             ],
             [
              0.7777777777777778,
              "#fb9f3a"
             ],
             [
              0.8888888888888888,
              "#fdca26"
             ],
             [
              1,
              "#f0f921"
             ]
            ],
            "type": "histogram2d"
           }
          ],
          "histogram2dcontour": [
           {
            "colorbar": {
             "outlinewidth": 0,
             "ticks": ""
            },
            "colorscale": [
             [
              0,
              "#0d0887"
             ],
             [
              0.1111111111111111,
              "#46039f"
             ],
             [
              0.2222222222222222,
              "#7201a8"
             ],
             [
              0.3333333333333333,
              "#9c179e"
             ],
             [
              0.4444444444444444,
              "#bd3786"
             ],
             [
              0.5555555555555556,
              "#d8576b"
             ],
             [
              0.6666666666666666,
              "#ed7953"
             ],
             [
              0.7777777777777778,
              "#fb9f3a"
             ],
             [
              0.8888888888888888,
              "#fdca26"
             ],
             [
              1,
              "#f0f921"
             ]
            ],
            "type": "histogram2dcontour"
           }
          ],
          "mesh3d": [
           {
            "colorbar": {
             "outlinewidth": 0,
             "ticks": ""
            },
            "type": "mesh3d"
           }
          ],
          "parcoords": [
           {
            "line": {
             "colorbar": {
              "outlinewidth": 0,
              "ticks": ""
             }
            },
            "type": "parcoords"
           }
          ],
          "pie": [
           {
            "automargin": true,
            "type": "pie"
           }
          ],
          "scatter": [
           {
            "fillpattern": {
             "fillmode": "overlay",
             "size": 10,
             "solidity": 0.2
            },
            "type": "scatter"
           }
          ],
          "scatter3d": [
           {
            "line": {
             "colorbar": {
              "outlinewidth": 0,
              "ticks": ""
             }
            },
            "marker": {
             "colorbar": {
              "outlinewidth": 0,
              "ticks": ""
             }
            },
            "type": "scatter3d"
           }
          ],
          "scattercarpet": [
           {
            "marker": {
             "colorbar": {
              "outlinewidth": 0,
              "ticks": ""
             }
            },
            "type": "scattercarpet"
           }
          ],
          "scattergeo": [
           {
            "marker": {
             "colorbar": {
              "outlinewidth": 0,
              "ticks": ""
             }
            },
            "type": "scattergeo"
           }
          ],
          "scattergl": [
           {
            "marker": {
             "colorbar": {
              "outlinewidth": 0,
              "ticks": ""
             }
            },
            "type": "scattergl"
           }
          ],
          "scattermapbox": [
           {
            "marker": {
             "colorbar": {
              "outlinewidth": 0,
              "ticks": ""
             }
            },
            "type": "scattermapbox"
           }
          ],
          "scatterpolar": [
           {
            "marker": {
             "colorbar": {
              "outlinewidth": 0,
              "ticks": ""
             }
            },
            "type": "scatterpolar"
           }
          ],
          "scatterpolargl": [
           {
            "marker": {
             "colorbar": {
              "outlinewidth": 0,
              "ticks": ""
             }
            },
            "type": "scatterpolargl"
           }
          ],
          "scatterternary": [
           {
            "marker": {
             "colorbar": {
              "outlinewidth": 0,
              "ticks": ""
             }
            },
            "type": "scatterternary"
           }
          ],
          "surface": [
           {
            "colorbar": {
             "outlinewidth": 0,
             "ticks": ""
            },
            "colorscale": [
             [
              0,
              "#0d0887"
             ],
             [
              0.1111111111111111,
              "#46039f"
             ],
             [
              0.2222222222222222,
              "#7201a8"
             ],
             [
              0.3333333333333333,
              "#9c179e"
             ],
             [
              0.4444444444444444,
              "#bd3786"
             ],
             [
              0.5555555555555556,
              "#d8576b"
             ],
             [
              0.6666666666666666,
              "#ed7953"
             ],
             [
              0.7777777777777778,
              "#fb9f3a"
             ],
             [
              0.8888888888888888,
              "#fdca26"
             ],
             [
              1,
              "#f0f921"
             ]
            ],
            "type": "surface"
           }
          ],
          "table": [
           {
            "cells": {
             "fill": {
              "color": "#EBF0F8"
             },
             "line": {
              "color": "white"
             }
            },
            "header": {
             "fill": {
              "color": "#C8D4E3"
             },
             "line": {
              "color": "white"
             }
            },
            "type": "table"
           }
          ]
         },
         "layout": {
          "annotationdefaults": {
           "arrowcolor": "#2a3f5f",
           "arrowhead": 0,
           "arrowwidth": 1
          },
          "autotypenumbers": "strict",
          "coloraxis": {
           "colorbar": {
            "outlinewidth": 0,
            "ticks": ""
           }
          },
          "colorscale": {
           "diverging": [
            [
             0,
             "#8e0152"
            ],
            [
             0.1,
             "#c51b7d"
            ],
            [
             0.2,
             "#de77ae"
            ],
            [
             0.3,
             "#f1b6da"
            ],
            [
             0.4,
             "#fde0ef"
            ],
            [
             0.5,
             "#f7f7f7"
            ],
            [
             0.6,
             "#e6f5d0"
            ],
            [
             0.7,
             "#b8e186"
            ],
            [
             0.8,
             "#7fbc41"
            ],
            [
             0.9,
             "#4d9221"
            ],
            [
             1,
             "#276419"
            ]
           ],
           "sequential": [
            [
             0,
             "#0d0887"
            ],
            [
             0.1111111111111111,
             "#46039f"
            ],
            [
             0.2222222222222222,
             "#7201a8"
            ],
            [
             0.3333333333333333,
             "#9c179e"
            ],
            [
             0.4444444444444444,
             "#bd3786"
            ],
            [
             0.5555555555555556,
             "#d8576b"
            ],
            [
             0.6666666666666666,
             "#ed7953"
            ],
            [
             0.7777777777777778,
             "#fb9f3a"
            ],
            [
             0.8888888888888888,
             "#fdca26"
            ],
            [
             1,
             "#f0f921"
            ]
           ],
           "sequentialminus": [
            [
             0,
             "#0d0887"
            ],
            [
             0.1111111111111111,
             "#46039f"
            ],
            [
             0.2222222222222222,
             "#7201a8"
            ],
            [
             0.3333333333333333,
             "#9c179e"
            ],
            [
             0.4444444444444444,
             "#bd3786"
            ],
            [
             0.5555555555555556,
             "#d8576b"
            ],
            [
             0.6666666666666666,
             "#ed7953"
            ],
            [
             0.7777777777777778,
             "#fb9f3a"
            ],
            [
             0.8888888888888888,
             "#fdca26"
            ],
            [
             1,
             "#f0f921"
            ]
           ]
          },
          "colorway": [
           "#636efa",
           "#EF553B",
           "#00cc96",
           "#ab63fa",
           "#FFA15A",
           "#19d3f3",
           "#FF6692",
           "#B6E880",
           "#FF97FF",
           "#FECB52"
          ],
          "font": {
           "color": "#2a3f5f"
          },
          "geo": {
           "bgcolor": "white",
           "lakecolor": "white",
           "landcolor": "#E5ECF6",
           "showlakes": true,
           "showland": true,
           "subunitcolor": "white"
          },
          "hoverlabel": {
           "align": "left"
          },
          "hovermode": "closest",
          "mapbox": {
           "style": "light"
          },
          "paper_bgcolor": "white",
          "plot_bgcolor": "#E5ECF6",
          "polar": {
           "angularaxis": {
            "gridcolor": "white",
            "linecolor": "white",
            "ticks": ""
           },
           "bgcolor": "#E5ECF6",
           "radialaxis": {
            "gridcolor": "white",
            "linecolor": "white",
            "ticks": ""
           }
          },
          "scene": {
           "xaxis": {
            "backgroundcolor": "#E5ECF6",
            "gridcolor": "white",
            "gridwidth": 2,
            "linecolor": "white",
            "showbackground": true,
            "ticks": "",
            "zerolinecolor": "white"
           },
           "yaxis": {
            "backgroundcolor": "#E5ECF6",
            "gridcolor": "white",
            "gridwidth": 2,
            "linecolor": "white",
            "showbackground": true,
            "ticks": "",
            "zerolinecolor": "white"
           },
           "zaxis": {
            "backgroundcolor": "#E5ECF6",
            "gridcolor": "white",
            "gridwidth": 2,
            "linecolor": "white",
            "showbackground": true,
            "ticks": "",
            "zerolinecolor": "white"
           }
          },
          "shapedefaults": {
           "line": {
            "color": "#2a3f5f"
           }
          },
          "ternary": {
           "aaxis": {
            "gridcolor": "white",
            "linecolor": "white",
            "ticks": ""
           },
           "baxis": {
            "gridcolor": "white",
            "linecolor": "white",
            "ticks": ""
           },
           "bgcolor": "#E5ECF6",
           "caxis": {
            "gridcolor": "white",
            "linecolor": "white",
            "ticks": ""
           }
          },
          "title": {
           "x": 0.05
          },
          "xaxis": {
           "automargin": true,
           "gridcolor": "white",
           "linecolor": "white",
           "ticks": "",
           "title": {
            "standoff": 15
           },
           "zerolinecolor": "white",
           "zerolinewidth": 2
          },
          "yaxis": {
           "automargin": true,
           "gridcolor": "white",
           "linecolor": "white",
           "ticks": "",
           "title": {
            "standoff": 15
           },
           "zerolinecolor": "white",
           "zerolinewidth": 2
          }
         }
        },
        "title": {
         "text": "Países"
        }
       }
      }
     },
     "metadata": {},
     "output_type": "display_data"
    }
   ],
   "source": [
    "# Plot to donut chart\n",
    "fig = px.pie(countries_count, values=countries_count.values, names=countries_count.index, title='Países')\n",
    "fig.update_traces(textposition='inside', textinfo='percent+label')\n",
    "# # add hole\n",
    "fig.update_traces(hole=.6, hoverinfo=\"label+percent+name\")\n",
    "fig.show()\n"
   ]
  },
  {
   "cell_type": "code",
   "execution_count": 20,
   "metadata": {},
   "outputs": [],
   "source": [
    "# # Calculate the age of the players\n",
    "players['age'] = (dt.datetime.now() - pd.to_datetime(players['dtBirth'])).astype('<m8[Y]')"
   ]
  },
  {
   "cell_type": "code",
   "execution_count": 76,
   "metadata": {},
   "outputs": [
    {
     "data": {
      "application/vnd.plotly.v1+json": {
       "config": {
        "plotlyServerURL": "https://plot.ly"
       },
       "data": [
        {
         "autobinx": false,
         "histnorm": "probability",
         "legendgroup": "Idade dos jogadores",
         "marker": {
          "color": "orange"
         },
         "name": "Idade dos jogadores",
         "opacity": 0.7,
         "type": "histogram",
         "x": [
          21,
          23,
          18,
          28,
          23,
          18,
          21,
          17,
          19,
          25,
          23,
          19,
          19,
          28,
          24,
          22,
          20,
          23,
          26,
          24,
          28,
          30,
          29,
          27,
          26,
          21,
          32,
          37,
          21,
          26,
          25,
          24,
          20,
          33,
          23,
          20,
          25,
          23,
          20,
          16,
          22,
          20,
          16,
          27,
          25,
          17,
          33,
          21,
          32,
          20,
          30,
          25,
          20,
          24,
          25,
          22,
          21,
          23,
          23,
          32,
          21,
          21,
          31,
          20,
          23,
          31,
          26,
          21,
          22,
          33,
          19,
          21,
          23,
          22,
          18,
          18,
          32,
          26,
          28,
          22,
          25,
          25,
          22,
          23,
          18,
          33,
          26,
          24,
          26,
          24,
          17,
          23,
          25,
          21,
          21,
          26,
          29,
          19,
          29,
          26,
          24,
          22,
          31,
          23,
          19,
          21,
          23,
          26,
          32,
          18,
          23,
          46,
          24,
          26,
          21,
          30,
          31,
          28,
          22,
          24,
          22,
          23,
          30,
          19,
          25,
          19,
          24,
          23,
          24,
          18,
          27,
          20,
          22,
          21,
          20,
          25,
          22,
          30,
          27,
          22,
          23,
          32,
          18,
          31,
          33,
          17,
          22,
          20,
          22,
          39,
          23,
          30,
          23,
          25,
          30,
          24,
          31,
          18,
          28,
          24,
          23,
          26,
          29,
          22,
          24,
          25,
          30,
          23,
          28,
          27,
          20,
          20,
          21,
          23,
          18,
          19,
          21,
          37,
          27,
          29,
          26,
          31,
          19,
          22,
          38,
          19,
          25,
          22,
          25,
          24,
          24,
          24,
          32,
          23,
          19,
          20,
          20,
          22,
          33,
          20,
          23,
          20,
          29,
          17,
          24,
          20,
          21,
          28,
          29,
          21,
          27,
          23,
          25,
          22,
          24,
          23,
          23,
          22,
          22,
          28,
          32,
          23,
          17,
          36,
          22,
          21,
          18,
          29,
          24,
          21,
          24,
          26,
          22,
          34,
          19,
          24,
          23,
          19,
          25,
          24,
          26,
          23,
          23,
          24,
          22,
          28,
          27,
          14,
          27,
          24,
          20,
          24,
          28,
          22,
          23,
          23,
          23,
          24,
          22,
          20,
          25,
          23,
          21,
          20,
          24,
          19,
          25,
          19,
          27,
          21,
          26,
          25,
          19,
          18,
          22,
          17,
          26,
          28,
          25,
          25,
          23,
          26,
          17,
          24,
          21,
          33,
          18,
          28,
          27,
          37,
          21,
          20,
          22,
          26,
          23,
          22,
          30,
          26,
          20,
          22,
          21,
          24,
          28,
          21,
          25,
          16,
          29,
          25,
          23,
          26,
          21,
          27,
          33,
          24,
          24,
          19,
          26,
          21,
          23,
          21,
          20,
          23,
          24,
          26,
          22,
          34,
          21,
          22,
          18,
          18,
          38,
          19,
          19,
          29,
          23,
          22,
          23,
          28,
          43,
          20,
          29,
          20,
          30,
          22,
          26,
          19,
          28,
          22,
          22,
          22,
          24,
          27,
          25,
          20,
          21,
          26,
          35,
          23,
          32,
          28,
          27,
          35,
          25,
          25,
          20,
          26,
          20,
          22,
          29,
          31,
          20,
          19,
          27,
          25,
          32,
          24,
          25,
          34,
          18,
          21,
          23,
          26,
          23,
          29,
          25,
          21,
          30,
          21,
          18,
          27,
          23,
          23,
          30,
          26,
          25,
          25,
          23,
          22,
          34,
          21,
          30,
          20,
          21,
          30,
          28,
          17,
          29,
          23,
          20,
          24,
          24,
          23,
          23,
          23,
          18,
          34,
          28,
          24,
          23,
          27,
          31,
          30,
          23,
          20,
          18,
          18,
          31,
          26,
          21,
          26,
          26,
          31,
          26,
          22,
          23,
          25,
          26,
          20,
          30,
          32,
          29,
          27,
          18,
          22,
          23,
          20,
          25,
          26,
          29,
          23,
          26,
          22,
          23,
          33,
          22,
          22,
          26,
          33,
          25,
          27,
          30,
          24,
          26,
          33,
          25,
          15,
          23,
          31,
          20,
          32,
          22,
          21,
          26,
          20,
          30,
          30,
          33,
          20,
          36,
          23,
          27,
          25,
          40,
          19,
          26,
          22,
          27,
          22,
          44,
          22,
          31,
          19,
          29,
          21,
          25,
          21,
          23,
          19,
          19,
          27,
          23,
          21,
          23,
          22,
          18,
          25,
          19,
          28,
          34,
          20,
          29,
          25,
          29,
          29,
          24,
          23,
          18,
          14,
          31,
          24,
          33,
          27,
          19,
          18,
          31,
          26,
          18,
          32,
          20,
          17,
          36,
          31,
          24,
          25,
          20,
          25,
          27,
          27,
          30,
          23,
          26,
          25,
          31,
          20,
          24,
          25,
          21,
          27,
          33,
          22,
          19,
          25,
          18,
          18,
          20,
          23,
          30,
          20,
          29,
          22,
          17,
          16,
          22,
          17,
          30,
          32,
          25,
          28,
          22,
          23,
          27,
          21,
          20,
          23,
          22,
          33,
          34,
          31,
          23,
          17,
          23,
          19,
          31,
          32,
          24,
          42,
          19,
          21,
          20,
          30,
          18,
          37,
          28,
          26,
          26,
          18,
          23,
          23,
          22,
          18,
          21,
          18,
          20,
          27,
          28,
          24,
          24,
          28,
          23,
          31,
          24,
          31,
          28,
          28,
          22,
          27,
          23,
          30,
          22,
          29,
          31,
          22,
          20,
          19,
          19,
          21,
          24,
          30,
          22,
          22,
          23,
          26,
          20,
          26,
          18,
          18,
          32,
          25,
          20,
          37,
          20,
          30,
          27,
          27,
          33,
          28,
          22,
          18,
          23,
          24,
          21,
          36,
          27,
          33,
          22,
          20,
          23,
          23,
          21,
          32,
          29,
          18,
          16,
          18,
          24,
          31,
          36,
          23,
          21,
          32,
          26,
          27,
          25,
          25,
          16,
          23,
          29,
          20,
          24,
          34,
          28,
          22,
          26,
          16,
          33,
          22,
          21,
          16,
          21,
          24,
          35,
          19,
          18,
          22,
          32,
          24,
          22,
          23,
          34,
          27,
          23,
          30,
          22,
          26,
          27,
          28,
          20,
          24,
          31,
          19,
          27,
          24,
          19,
          28,
          33,
          24,
          28,
          28,
          23,
          21,
          39,
          20,
          25,
          20,
          20,
          29,
          20,
          32,
          22,
          23,
          30,
          22,
          18,
          23,
          20,
          26,
          28,
          33,
          25,
          19,
          27,
          17,
          35,
          38,
          21,
          17,
          23,
          23,
          24,
          29,
          22,
          23,
          23,
          24,
          21,
          28,
          26,
          34,
          29,
          32,
          26,
          25,
          25,
          28,
          23,
          17,
          20,
          32,
          26,
          25,
          28,
          17,
          21,
          21,
          21,
          19,
          20,
          25,
          21,
          20,
          19,
          21,
          29,
          25,
          20,
          21,
          26,
          31,
          18,
          24,
          22,
          35,
          21,
          19,
          34,
          22,
          22,
          20,
          22,
          19,
          22,
          38,
          22,
          20,
          22,
          28,
          18,
          18,
          19,
          23,
          34,
          23,
          22,
          27,
          26,
          29,
          18,
          19,
          17,
          34,
          25,
          20,
          25,
          26,
          31,
          25,
          19,
          29,
          20,
          29,
          26,
          23,
          26,
          18,
          25,
          19,
          22,
          21,
          26,
          19,
          19,
          19,
          27,
          25,
          23,
          25,
          41,
          21,
          24,
          22,
          19,
          31,
          17,
          33,
          20,
          22,
          25,
          25,
          20,
          25,
          22,
          20,
          23,
          20,
          23,
          22,
          28,
          27,
          28,
          35,
          16,
          24,
          26,
          22,
          23,
          22,
          23,
          29,
          28,
          23,
          27,
          23,
          28,
          34,
          42,
          22,
          30,
          22,
          16,
          23,
          20,
          24,
          22,
          26,
          19,
          19,
          23,
          26,
          23,
          29,
          25,
          28,
          26,
          36,
          31,
          33,
          17,
          37,
          29,
          29,
          20,
          21,
          27,
          22,
          25,
          21,
          25,
          30,
          18,
          23,
          28,
          24,
          17,
          24,
          38,
          22,
          19,
          21,
          25,
          23,
          21,
          23,
          20,
          22,
          23,
          21,
          22,
          23,
          28,
          23,
          23,
          22,
          22,
          24,
          24,
          22,
          19,
          23,
          30,
          28,
          25,
          26,
          25,
          17,
          21,
          19,
          28,
          31,
          23,
          23,
          18,
          23,
          29,
          20,
          14,
          19,
          23,
          18,
          26,
          21,
          22,
          23,
          19,
          32,
          23,
          22,
          28,
          33,
          21,
          20,
          21,
          23,
          22,
          32,
          32,
          21,
          21,
          24,
          26,
          27,
          23,
          21,
          18,
          20,
          15,
          23,
          25,
          27,
          28,
          25,
          20,
          25,
          38,
          28,
          29,
          25,
          23,
          22,
          26,
          20,
          28,
          43,
          33,
          19,
          27,
          26,
          23,
          33,
          33,
          22,
          22,
          21,
          19,
          30,
          21,
          38,
          29,
          35,
          35,
          23,
          19,
          18,
          28,
          23,
          22,
          28,
          16,
          25,
          22,
          22,
          23,
          29,
          26,
          26,
          20,
          21,
          22,
          25,
          24,
          24,
          28,
          22,
          36,
          23,
          19,
          28,
          23,
          21,
          45,
          20,
          22,
          22,
          25,
          27,
          23,
          32,
          22,
          26,
          33,
          22,
          22,
          24,
          19,
          22,
          21,
          23,
          32,
          21,
          35,
          19,
          33,
          21,
          25,
          39,
          19,
          36,
          28,
          27,
          24,
          23,
          21,
          23,
          22,
          25,
          30,
          25,
          19,
          21,
          23,
          28,
          22,
          23,
          23,
          24,
          21,
          28,
          34,
          21,
          30,
          31,
          20,
          23,
          24,
          33,
          22,
          37,
          32,
          26,
          32,
          22,
          17,
          35,
          21,
          24,
          18,
          26,
          31,
          28,
          26,
          25,
          21,
          21,
          22,
          31,
          23,
          23,
          32,
          38,
          32,
          22,
          31,
          34,
          19,
          22,
          31,
          20,
          32,
          26,
          28,
          33,
          23,
          28,
          38,
          18,
          28,
          21,
          33,
          29,
          23,
          35,
          16,
          27,
          20,
          22,
          25,
          19,
          22,
          22,
          18,
          27,
          19,
          31,
          24,
          23,
          22,
          29,
          22,
          20,
          32,
          16,
          23,
          27,
          25,
          25,
          16,
          28,
          21,
          19,
          19,
          23,
          26,
          23,
          22,
          26,
          30,
          21,
          32,
          24,
          24,
          18,
          27,
          25,
          36,
          20,
          23,
          27,
          22,
          29,
          23,
          24,
          16,
          28,
          26,
          27,
          30,
          21,
          17,
          28,
          24,
          23,
          22,
          30,
          25,
          27,
          25,
          30,
          23,
          22,
          25,
          27,
          35,
          21,
          23,
          32,
          15,
          40,
          23,
          22,
          28,
          23,
          23,
          21,
          23,
          22,
          20,
          25,
          20,
          19,
          25,
          20,
          22,
          32,
          22,
          23,
          23,
          30,
          20,
          36,
          26,
          26,
          24,
          24,
          21,
          22,
          33,
          33,
          23,
          19,
          27,
          18,
          20,
          25,
          32,
          19,
          24,
          25,
          21,
          22,
          35,
          19,
          38,
          42,
          33,
          23,
          19,
          26,
          18,
          32,
          27,
          23,
          29,
          29,
          25,
          38,
          21,
          17,
          30,
          25,
          20,
          28,
          20,
          22,
          23,
          25,
          22,
          32,
          22,
          19,
          37,
          19,
          21,
          26,
          20,
          31,
          20,
          21,
          21,
          19,
          34,
          26,
          24,
          25,
          17,
          23,
          32,
          30,
          28,
          30,
          24,
          22,
          27,
          19,
          22,
          21,
          28,
          21,
          26,
          22,
          20,
          18,
          29,
          29,
          22,
          20,
          28,
          24,
          23,
          28,
          30,
          33,
          22,
          20,
          19,
          25,
          25,
          23,
          20,
          21,
          25,
          28,
          31,
          24,
          32,
          23,
          19,
          21,
          23,
          34,
          21,
          21,
          28,
          30,
          37,
          26,
          20,
          31,
          23,
          32,
          19,
          21,
          18,
          24,
          23,
          27,
          28,
          27,
          26,
          29,
          25,
          16,
          26,
          30,
          31,
          22,
          22,
          32,
          17,
          35,
          37,
          23,
          27,
          32,
          23,
          19,
          20,
          23,
          38,
          27,
          23,
          25,
          28,
          24,
          23,
          28,
          23,
          22,
          19,
          21,
          27,
          24,
          29,
          37,
          31,
          23,
          34,
          29,
          25,
          32,
          35,
          28,
          26,
          20,
          31,
          25,
          26,
          19,
          24,
          30,
          23,
          24,
          18,
          37,
          24,
          22,
          21,
          20,
          27,
          20,
          18,
          17,
          25,
          28,
          19,
          35,
          29,
          20,
          27,
          19,
          28,
          22,
          32,
          23,
          22,
          33,
          20,
          22,
          24,
          18,
          22,
          20,
          36,
          29,
          23,
          21,
          23,
          20,
          19,
          26,
          29,
          24,
          21,
          19,
          19,
          25,
          31,
          27,
          28,
          25,
          17,
          35,
          21,
          22,
          23,
          33,
          25,
          23,
          29,
          22,
          18,
          24,
          32,
          25,
          23,
          25,
          29,
          22,
          19,
          22,
          23,
          29,
          23,
          21,
          24,
          23,
          22,
          20,
          23,
          21,
          17,
          27,
          28,
          27,
          30,
          27,
          26,
          28,
          33,
          19,
          27,
          35,
          23,
          27,
          25,
          23,
          32,
          19,
          21,
          17,
          22,
          31,
          28,
          43,
          24,
          28,
          17,
          23,
          21,
          17,
          23,
          19,
          28,
          20,
          20,
          19,
          24,
          24,
          22,
          34,
          19,
          22,
          25,
          22,
          32,
          24,
          20,
          21,
          20,
          29,
          31,
          22,
          21,
          23,
          20,
          17,
          24,
          36,
          29,
          26,
          22,
          18,
          23,
          25,
          26,
          29,
          34,
          29,
          26,
          17,
          24,
          18,
          31,
          25,
          24,
          23,
          21,
          32,
          34,
          18,
          28,
          38,
          23,
          24,
          22,
          28,
          34,
          25,
          32,
          20,
          26,
          25,
          21,
          34,
          26,
          20,
          29,
          25,
          21,
          26,
          22,
          21,
          24,
          24,
          26,
          18,
          24,
          24,
          22,
          24,
          26,
          20,
          44,
          21,
          20,
          24,
          33,
          23,
          20,
          20,
          18,
          21,
          32,
          23,
          21,
          38,
          20,
          19,
          25,
          19,
          24,
          18,
          32,
          27,
          21,
          22,
          22,
          17,
          24,
          21,
          21,
          33,
          21,
          26,
          33,
          31,
          22,
          24,
          33,
          27,
          23,
          36,
          28,
          28,
          36,
          19,
          21,
          35,
          20,
          17,
          22,
          20,
          33,
          29,
          27,
          22,
          24,
          29,
          21,
          20,
          31,
          23,
          20,
          27,
          17,
          21,
          23,
          22,
          34,
          19,
          26,
          32,
          22,
          25,
          37,
          22,
          28,
          28,
          34,
          21,
          16,
          22,
          28,
          20,
          29,
          33,
          25,
          27,
          23,
          32,
          27,
          28,
          26,
          21,
          35,
          26,
          30,
          32,
          23,
          19,
          21,
          28,
          24,
          20,
          27,
          17,
          18,
          22,
          21,
          24,
          22,
          23,
          19,
          33,
          28,
          19,
          28,
          25,
          24,
          24,
          27,
          18,
          24,
          23,
          24,
          18,
          29,
          22,
          39,
          34,
          26,
          30,
          22,
          28,
          32,
          24,
          23,
          22,
          24,
          25,
          26,
          37,
          28,
          26,
          31,
          26,
          21,
          22,
          19,
          22,
          19,
          22,
          16,
          22,
          28,
          31,
          35,
          19,
          20,
          19,
          17,
          21,
          22,
          25,
          21,
          23,
          24,
          15,
          17,
          27,
          19,
          25,
          31,
          23,
          32,
          24,
          28,
          26,
          17,
          35,
          20,
          24,
          22,
          29,
          31,
          23,
          23,
          32,
          17,
          26,
          28,
          22,
          32,
          21,
          22,
          18,
          17,
          34,
          27,
          29,
          22,
          21,
          40,
          27,
          22,
          19,
          24,
          23,
          20,
          23,
          19,
          24,
          43,
          19,
          32,
          23,
          22,
          28,
          38,
          34,
          31,
          21,
          32,
          20,
          22,
          21,
          23,
          27,
          23,
          28,
          21,
          23,
          23,
          21,
          16,
          22,
          20,
          29,
          27,
          20,
          22,
          21,
          17,
          23,
          43,
          24,
          23,
          24,
          23,
          18,
          22,
          26,
          17,
          22,
          30,
          23,
          31,
          23,
          22,
          20,
          25,
          18,
          25,
          23,
          29,
          23,
          37,
          22,
          22,
          20,
          17,
          19,
          20,
          29,
          25,
          28,
          25,
          25,
          26,
          21,
          18,
          32,
          41,
          23,
          35,
          23,
          23,
          26,
          24,
          22,
          20,
          21,
          27,
          23,
          17,
          27,
          31,
          20,
          30,
          23,
          18,
          25,
          19,
          22,
          17,
          20,
          22,
          19,
          20,
          20,
          21,
          23,
          18,
          19,
          22,
          22,
          20,
          32,
          23,
          33,
          22,
          32,
          31,
          23,
          24,
          21,
          32,
          25,
          21,
          33,
          25,
          21,
          27,
          23,
          25,
          27,
          20,
          20,
          20,
          28,
          21,
          28,
          22,
          20,
          17,
          29,
          27,
          18,
          22,
          21,
          30,
          25,
          19,
          28,
          17,
          25,
          22,
          28,
          29,
          23,
          36,
          23,
          24,
          16,
          28,
          22,
          31,
          23,
          23,
          22,
          23
         ],
         "xaxis": "x",
         "xbins": {
          "end": 46,
          "size": 1,
          "start": 14
         },
         "yaxis": "y"
        },
        {
         "legendgroup": "Idade dos jogadores",
         "marker": {
          "color": "#393E46"
         },
         "mode": "lines",
         "name": "Idade dos jogadores",
         "showlegend": false,
         "type": "scatter",
         "x": [
          14,
          14.064,
          14.128,
          14.192,
          14.256,
          14.32,
          14.384,
          14.448,
          14.512,
          14.576,
          14.64,
          14.704,
          14.768,
          14.832,
          14.896,
          14.96,
          15.024000000000001,
          15.088000000000001,
          15.152,
          15.216,
          15.28,
          15.344,
          15.408,
          15.472,
          15.536,
          15.6,
          15.664,
          15.728,
          15.792,
          15.856,
          15.92,
          15.984,
          16.048000000000002,
          16.112000000000002,
          16.176000000000002,
          16.240000000000002,
          16.304,
          16.368,
          16.432,
          16.496,
          16.56,
          16.624,
          16.688,
          16.752,
          16.816,
          16.88,
          16.944,
          17.008,
          17.072,
          17.136,
          17.2,
          17.264,
          17.328,
          17.392,
          17.456,
          17.52,
          17.584,
          17.648,
          17.712,
          17.776,
          17.84,
          17.904,
          17.968,
          18.032,
          18.096,
          18.16,
          18.224,
          18.288,
          18.352,
          18.416,
          18.48,
          18.544,
          18.608,
          18.672,
          18.736,
          18.8,
          18.864,
          18.928,
          18.992,
          19.056,
          19.12,
          19.184,
          19.248,
          19.312,
          19.376,
          19.44,
          19.503999999999998,
          19.567999999999998,
          19.631999999999998,
          19.695999999999998,
          19.759999999999998,
          19.823999999999998,
          19.887999999999998,
          19.951999999999998,
          20.016,
          20.08,
          20.144,
          20.208,
          20.272,
          20.336,
          20.4,
          20.464,
          20.528,
          20.592,
          20.656,
          20.72,
          20.784,
          20.848,
          20.912,
          20.976,
          21.04,
          21.104,
          21.168,
          21.232,
          21.296,
          21.36,
          21.424,
          21.488,
          21.552,
          21.616,
          21.68,
          21.744,
          21.808,
          21.872,
          21.936,
          22,
          22.064,
          22.128,
          22.192,
          22.256,
          22.32,
          22.384,
          22.448,
          22.512,
          22.576,
          22.64,
          22.704,
          22.768,
          22.832,
          22.896,
          22.96,
          23.024,
          23.088,
          23.152,
          23.216,
          23.28,
          23.344,
          23.408,
          23.472,
          23.536,
          23.6,
          23.664,
          23.728,
          23.792,
          23.856,
          23.92,
          23.984,
          24.048000000000002,
          24.112000000000002,
          24.176000000000002,
          24.240000000000002,
          24.304000000000002,
          24.368000000000002,
          24.432000000000002,
          24.496000000000002,
          24.560000000000002,
          24.624000000000002,
          24.688000000000002,
          24.752000000000002,
          24.816000000000003,
          24.880000000000003,
          24.944000000000003,
          25.008,
          25.072,
          25.136,
          25.2,
          25.264,
          25.328,
          25.392,
          25.456,
          25.52,
          25.584,
          25.648,
          25.712,
          25.776,
          25.84,
          25.904,
          25.968,
          26.032,
          26.096,
          26.16,
          26.224,
          26.288,
          26.352,
          26.416,
          26.48,
          26.544,
          26.608,
          26.672,
          26.736,
          26.8,
          26.864,
          26.928,
          26.992,
          27.055999999999997,
          27.119999999999997,
          27.183999999999997,
          27.247999999999998,
          27.311999999999998,
          27.375999999999998,
          27.439999999999998,
          27.503999999999998,
          27.567999999999998,
          27.631999999999998,
          27.695999999999998,
          27.759999999999998,
          27.823999999999998,
          27.887999999999998,
          27.951999999999998,
          28.016,
          28.08,
          28.144,
          28.208,
          28.272,
          28.336,
          28.4,
          28.464,
          28.528,
          28.592,
          28.656,
          28.72,
          28.784,
          28.848,
          28.912,
          28.976,
          29.04,
          29.104,
          29.168,
          29.232,
          29.296,
          29.36,
          29.424,
          29.488,
          29.552,
          29.616,
          29.68,
          29.744,
          29.808,
          29.872,
          29.936,
          30,
          30.064,
          30.128,
          30.192,
          30.256,
          30.32,
          30.384,
          30.448,
          30.512,
          30.576,
          30.64,
          30.704,
          30.768,
          30.832,
          30.896,
          30.96,
          31.024,
          31.088,
          31.152,
          31.216,
          31.28,
          31.344,
          31.408,
          31.472,
          31.536,
          31.6,
          31.664,
          31.728,
          31.792,
          31.856,
          31.92,
          31.984,
          32.048,
          32.111999999999995,
          32.176,
          32.239999999999995,
          32.304,
          32.367999999999995,
          32.432,
          32.495999999999995,
          32.56,
          32.623999999999995,
          32.688,
          32.751999999999995,
          32.816,
          32.879999999999995,
          32.944,
          33.007999999999996,
          33.072,
          33.135999999999996,
          33.2,
          33.263999999999996,
          33.328,
          33.391999999999996,
          33.456,
          33.519999999999996,
          33.584,
          33.647999999999996,
          33.712,
          33.775999999999996,
          33.84,
          33.903999999999996,
          33.968,
          34.032,
          34.096000000000004,
          34.16,
          34.224000000000004,
          34.288,
          34.352000000000004,
          34.416,
          34.480000000000004,
          34.544,
          34.608000000000004,
          34.672,
          34.736000000000004,
          34.8,
          34.864000000000004,
          34.928,
          34.992000000000004,
          35.056,
          35.120000000000005,
          35.184,
          35.248000000000005,
          35.312,
          35.376000000000005,
          35.44,
          35.504000000000005,
          35.568,
          35.632000000000005,
          35.696,
          35.760000000000005,
          35.824,
          35.888000000000005,
          35.952,
          36.016,
          36.08,
          36.144,
          36.208,
          36.272,
          36.336,
          36.4,
          36.464,
          36.528,
          36.592,
          36.656,
          36.72,
          36.784,
          36.848,
          36.912,
          36.976,
          37.04,
          37.104,
          37.168,
          37.232,
          37.296,
          37.36,
          37.424,
          37.488,
          37.552,
          37.616,
          37.68,
          37.744,
          37.808,
          37.872,
          37.936,
          38,
          38.064,
          38.128,
          38.192,
          38.256,
          38.32,
          38.384,
          38.448,
          38.512,
          38.576,
          38.64,
          38.704,
          38.768,
          38.832,
          38.896,
          38.96,
          39.024,
          39.088,
          39.152,
          39.216,
          39.28,
          39.344,
          39.408,
          39.472,
          39.536,
          39.6,
          39.664,
          39.728,
          39.792,
          39.856,
          39.92,
          39.984,
          40.048,
          40.111999999999995,
          40.176,
          40.239999999999995,
          40.304,
          40.367999999999995,
          40.432,
          40.495999999999995,
          40.56,
          40.623999999999995,
          40.688,
          40.751999999999995,
          40.816,
          40.879999999999995,
          40.944,
          41.007999999999996,
          41.072,
          41.135999999999996,
          41.2,
          41.263999999999996,
          41.328,
          41.391999999999996,
          41.456,
          41.519999999999996,
          41.584,
          41.647999999999996,
          41.712,
          41.775999999999996,
          41.84,
          41.903999999999996,
          41.968,
          42.032,
          42.096000000000004,
          42.16,
          42.224000000000004,
          42.288,
          42.352000000000004,
          42.416,
          42.480000000000004,
          42.544,
          42.608000000000004,
          42.672,
          42.736000000000004,
          42.8,
          42.864000000000004,
          42.928,
          42.992000000000004,
          43.056,
          43.120000000000005,
          43.184,
          43.248000000000005,
          43.312,
          43.376000000000005,
          43.44,
          43.504000000000005,
          43.568,
          43.632000000000005,
          43.696,
          43.760000000000005,
          43.824,
          43.888000000000005,
          43.952,
          44.016,
          44.08,
          44.144,
          44.208,
          44.272,
          44.336,
          44.4,
          44.464,
          44.528,
          44.592,
          44.656,
          44.72,
          44.784,
          44.848,
          44.912,
          44.976,
          45.04,
          45.104,
          45.168,
          45.232,
          45.296,
          45.36,
          45.424,
          45.488,
          45.552,
          45.616,
          45.68,
          45.744,
          45.808,
          45.872,
          45.936
         ],
         "xaxis": "x",
         "y": [
          0.008826819431714877,
          0.009061549072199707,
          0.009301045912238766,
          0.00954535900097902,
          0.009794536359029304,
          0.010048624920593253,
          0.010307670474959387,
          0.010571717607388075,
          0.0108408096394366,
          0.01111498856876535,
          0.0113942950084698,
          0.011678768125984788,
          0.011968445581608938,
          0.01226336346669901,
          0.012563556241585411,
          0.01286905667326177,
          0.01317989577290296,
          0.013496102733267552,
          0.013817704866042193,
          0.014144727539186774,
          0.014477194114340668,
          0.014815125884351849,
          0.015158542010991906,
          0.015507459462921156,
          0.015861892953969503,
          0.01622185488179968,
          0.01658735526702074,
          0.016958401692820622,
          0.01733499924518762,
          0.017717150453791596,
          0.018104855233596503,
          0.01849811082727663,
          0.018896911748509646,
          0.019301249726220094,
          0.019711113649847817,
          0.020126489515715728,
          0.020547360374572197,
          0.020973706280383454,
          0.02140550424045127,
          0.021842728166932043,
          0.022285348829832522,
          0.022733333811558048,
          0.023186647463088437,
          0.023645250861856815,
          0.024109101771405978,
          0.024578154602896456,
          0.025052360378540032,
          0.025531666697031365,
          0.02601601770105007,
          0.026505354046904125,
          0.026999612876385,
          0.02749872779090315,
          0.028002628827972043,
          0.028511242440106617,
          0.029024491476201356,
          0.02954229516545125,
          0.03006456910387715,
          0.03059122524351544,
          0.03112217188432983,
          0.03165731366890127,
          0.03219655157994965,
          0.0327397829407388,
          0.03328690141841406,
          0.03383779703031913,
          0.03439235615333633,
          0.03495046153629193,
          0.03551199231546535,
          0.0360768240332382,
          0.03664482865991624,
          0.03721587461875425,
          0.037789826814210954,
          0.038366546663457436,
          0.038945892131159884,
          0.03952771776755356,
          0.04011187474982186,
          0.04069821092679064,
          0.041286570866944615,
          0.04187679590976874,
          0.04246872422041411,
          0.043062190847684076,
          0.04365702778533233,
          0.04425306403666126,
          0.04485012568240463,
          0.045448035951875125,
          0.046046615297352926,
          0.04664568147168816,
          0.047245049609085356,
          0.04784453230903495,
          0.048443939723351766,
          0.04904307964627776,
          0.04964175760760127,
          0.05023977696874147,
          0.050836939021742765,
          0.05143304309111995,
          0.052027886638491,
          0.052621265369930434,
          0.05321297334597254,
          0.05380280309418977,
          0.05439054572426808,
          0.05497599104549709,
          0.05555892768658958,
          0.05613914321774109,
          0.05671642427483701,
          0.057290556685711196,
          0.0578613255983568,
          0.058428515610986706,
          0.0589919109038382,
          0.059551295372612945,
          0.06010645276344093,
          0.06065716680925413,
          0.0612032213674527,
          0.0617444005587444,
          0.06228048890703522,
          0.06281127148024705,
          0.06333653403193605,
          0.06385606314358327,
          0.06436964636742755,
          0.06487707236970859,
          0.06537813107418686,
          0.06587261380580547,
          0.06636031343435789,
          0.06684102451802444,
          0.06731454344663959,
          0.06778066858455098,
          0.06823920041293134,
          0.06868994167140297,
          0.06913269749883535,
          0.0695672755731757,
          0.06999348625017257,
          0.07041114270085314,
          0.07082006104761505,
          0.07122006049879459,
          0.07161096348157349,
          0.07199259577308827,
          0.0723647866296066,
          0.07272736891363704,
          0.0730801792188397,
          0.07342305799260776,
          0.07375584965619073,
          0.0740784027222334,
          0.07439056990960617,
          0.07469220825540493,
          0.07498317922400138,
          0.07526334881302763,
          0.07553258765618115,
          0.07579077112274026,
          0.07603777941368259,
          0.07627349765430307,
          0.07649781598323105,
          0.07671062963775009,
          0.07691183903532757,
          0.07710134985126556,
          0.07727907309238785,
          0.07744492516668287,
          0.077598827948826,
          0.07774070884150942,
          0.07787050083251226,
          0.07798814254744799,
          0.07809357829813113,
          0.0781867581265098,
          0.07826763784411575,
          0.07833617906698792,
          0.07839234924603138,
          0.07843612169277761,
          0.07846747560051781,
          0.0784863960607857,
          0.07849287407517161,
          0.07848690656245476,
          0.07846849636104566,
          0.07843765222673617,
          0.07839438882575944,
          0.07833872672316779,
          0.07827069236654093,
          0.0781903180650431,
          0.07809764196385198,
          0.07799270801398792,
          0.07787556593757668,
          0.07774627118858439,
          0.07760488490906796,
          0.07745147388098919,
          0.07728611047364599,
          0.07710887258677833,
          0.0769198435894119,
          0.07671911225450627,
          0.07650677268947965,
          0.07628292426268612,
          0.07604767152592576,
          0.07580112413307244,
          0.07554339675490761,
          0.07527460899025307,
          0.07499488527349873,
          0.07470435477862572,
          0.07440315131982816,
          0.07409141324884093,
          0.07376928334908339,
          0.07343690872673254,
          0.07309444069884173,
          0.07274203467862408,
          0.07237985005802235,
          0.07200805008768892,
          0.07162680175450296,
          0.07123627565675249,
          0.07083664587711234,
          0.07042808985354997,
          0.07001078824829274,
          0.06958492481499212,
          0.06915068626422106,
          0.06870826212744191,
          0.06825784461958316,
          0.06779962850036428,
          0.06733381093450781,
          0.06686059135097876,
          0.0663801713013911,
          0.06589275431772142,
          0.06539854576946962,
          0.06489775272040557,
          0.06439058378504096,
          0.06387724898496429,
          0.06335795960517597,
          0.0628329280505601,
          0.062302367702627204,
          0.0617664927766621,
          0.06122551817940833,
          0.06067965936741971,
          0.06012913220620731,
          0.05957415283030838,
          0.059014937504401364,
          0.05845170248558919,
          0.057884663886970285,
          0.0573140375426146,
          0.05674003887405876,
          0.05616288275843231,
          0.055582783398323544,
          0.0549999541934908,
          0.05441460761452176,
          0.05382695507854031,
          0.053237206827056974,
          0.05264557180605586,
          0.05205225754840708,
          0.05145747005869084,
          0.05086141370051499,
          0.050264291086404705,
          0.049666302970338964,
          0.04906764814300486,
          0.0484685233298368,
          0.04786912309190401,
          0.047269639729705513,
          0.046670263189928285,
          0.046071180975219866,
          0.04547257805702315,
          0.044874636791516744,
          0.04427753683870063,
          0.04368145508466261,
          0.04308656556705724,
          0.04249303940382495,
          0.04190104472517492,
          0.04131074660885175,
          0.040722307018701664,
          0.04013588474655041,
          0.03955163535740102,
          0.038969711137956005,
          0.03839026104846466,
          0.03781343067789251,
          0.03723936220240646,
          0.03666819434716546,
          0.03610006235140316,
          0.035535097936785436,
          0.034973429279022555,
          0.03441518098271226,
          0.03386047405938702,
          0.03330942590873542,
          0.03276215030296491,
          0.032218757374269894,
          0.03167935360536647,
          0.031144041823052485,
          0.030612921194748635,
          0.030086087227974106,
          0.029563631772707592,
          0.029045643026582284,
          0.028532205542861202,
          0.028023400241136972,
          0.02751930442069833,
          0.02701999177650355,
          0.026525532417699404,
          0.026035992888621805,
          0.025551436192214866,
          0.02507192181579939,
          0.024597505759126507,
          0.024128240564644018,
          0.023664175349908743,
          0.02320535584207051,
          0.02275182441435898,
          0.022303620124497173,
          0.021860778754971423,
          0.021423332855080322,
          0.020991311784691217,
          0.020564741759625922,
          0.02014364589860354,
          0.01972804427166159,
          0.019317953949983018,
          0.018913389057050194,
          0.018514360821053462,
          0.01812087762847593,
          0.01773294507878219,
          0.017350566040133502,
          0.0169737407060579,
          0.01660246665299872,
          0.016236738898671287,
          0.015876549961152394,
          0.015521889918633826,
          0.015172746469766385,
          0.014829104994527094,
          0.014490948615538218,
          0.014158258259772646,
          0.013831012720576494,
          0.013509188719945735,
          0.013192760970990125,
          0.01288170224052367,
          0.012575983411717624,
          0.012275573546757805,
          0.011980439949445098,
          0.011690548227683834,
          0.011405862355799804,
          0.011126344736635577,
          0.010851956263368115,
          0.010582656380999344,
          0.010318403147467976,
          0.010059153294336445,
          0.009804862287004572,
          0.009555484384407129,
          0.0093109726981503,
          0.009071279251047558,
          0.008836355035013427,
          0.008606150068278992,
          0.008380613451891164,
          0.008159693425462843,
          0.007943337422139608,
          0.0077314921227533565,
          0.007524103509132037,
          0.007321116916539253,
          0.007122477085216317,
          0.006928128211003832,
          0.006738013995018812,
          0.00655207769236765,
          0.006370262159874261,
          0.0061925099028068,
          0.006018763120585928,
          0.005848963751460447,
          0.0056830535161370285,
          0.005520973960352571,
          0.005362666496379024,
          0.0052080724434520696,
          0.0050571330671164245,
          0.004909789617481964,
          0.004765983366386185,
          0.004625655643459871,
          0.004488747871094109,
          0.004355201598308062,
          0.004224958533518121,
          0.004097960576210252,
          0.003974149847518474,
          0.0038534687197135584,
          0.003735859844607011,
          0.003621266180876604,
          0.003509631020320512,
          0.0034008980130481982,
          0.00329501119161709,
          0.0031919149941248923,
          0.0030915542862682975,
          0.002993874382379612,
          0.0028988210654535824,
          0.002806340606177404,
          0.0027163797809776173,
          0.002628885889098184,
          0.002543806768724684,
          0.0024610908121701055,
          0.002380686980138257,
          0.002302544815081271,
          0.002226614453668191,
          0.0021528466383820086,
          0.0020811927282628744,
          0.002011604708815639,
          0.001944035201100092,
          0.0018784374700226293,
          0.0018147654318482794,
          0.0017529736609522575,
          0.0016930173958303787,
          0.0016348525443878532,
          0.0015784356885260647,
          0.0015237240880470679,
          0.0014706756838955926,
          0.0014192491007583685,
          0.0013694036490406421,
          0.0013210993262396968,
          0.0012742968177351884,
          0.0012289574970160396,
          0.0011850434253635413,
          0.0011425173510102372,
          0.0011013427077940145,
          0.0010614836133267065,
          0.0010229048666963222,
          0.0009855719457218693,
          0.0009494510037795223,
          0.0009145088662186696,
          0.0008807130263861615,
          0.0008480316412768318,
          0.0008164335268280876,
          0.0007858881528761432,
          0.0007563656377911344,
          0.0007278367428080829,
          0.0007002728660704383,
          0.0006736460364024251,
          0.0006479289068264127,
          0.0006230947478408187,
          0.0005991174404741109,
          0.000575971469129753,
          0.0005536319142369588,
          0.0005320744447214108,
          0.0005112753103100829,
          0.0004912113336836246,
          0.0004718599024897072,
          0.00045319896123007224,
          0.00043520700303394057,
          0.0004178630613297966,
          0.00040114670142745536,
          0.0003850380120217021,
          0.00036951759662866507,
          0.0003545665649654814,
          0.00034016652428367673,
          0.00032629957066609305,
          0.0003129482802970552,
          0.0003000957007148934,
          0.0002877253420557916,
          0.00027582116829737673,
          0.00026436758851031155,
          0.00025334944812561354,
          0.0002427520202252822,
          0.00023256099686328073,
          0.00022276248042377717,
          0.00021334297502305903,
          0.00020428937796135866,
          0.0001955889712303852,
          0.00018722941308217046,
          0.00017919872966442224,
          0.00017148530672739037,
          0.00016407788140685543,
          0.00015696553408767576,
          0.00015013768035194582,
          0.00014358406301565252,
          0.0001372947442573546,
          0.00013126009784225623,
          0.0001254708014446935,
          0.00011991782907191427,
          0.00011459244359170222,
          0.00010948618936625586,
          0.00010459088499443178,
          0.00009989861616432744,
          0.00009540172861789738,
          0.00009109282122916838,
          0.00008696473919736212,
          0.00008301056735611084,
          0.00007922362359971348,
          0.0000755974524272671,
          0.00007212581860528769,
          0.00006880270094933061,
          0.00006562228622491801,
          0.00006257896316798615,
          0.00005966731662487915,
          0.00005688212181182945,
          0.0000542183386936964,
          0.00005167110648165445,
          0.00004923573824937613,
          0.00004690771566716938,
          0.00004468268385341447,
          0.000042556446342555354,
          0.00004052496016880653,
          0.000038584331064651525,
          0.00003673080877312872,
          0.00003496078247282538,
          0.00003327077631442934,
          0.00003165744506762223,
          0.00003011756987703863,
          0.000028648054125956884,
          0.000027245919406336695,
          0.000025908301593770452,
          0.000024632447025871188,
          0.00002341570878258071,
          0.000022255543066844545,
          0.000021149505684070193,
          0.00002009524861875311,
          0.00001909051670663338,
          0.000018133144400720196,
          0.000017221052629506083,
          0.000016352245745673175,
          0.000015524808563584596,
          0.000014736903483840374,
          0.000013986767703172771,
          0.000013272710507947991,
          0.000012593110649541473,
          0.00001194641379985044
         ],
         "yaxis": "y"
        }
       ],
       "layout": {
        "barmode": "overlay",
        "hovermode": "closest",
        "legend": {
         "traceorder": "reversed"
        },
        "template": {
         "data": {
          "bar": [
           {
            "error_x": {
             "color": "#2a3f5f"
            },
            "error_y": {
             "color": "#2a3f5f"
            },
            "marker": {
             "line": {
              "color": "#E5ECF6",
              "width": 0.5
             },
             "pattern": {
              "fillmode": "overlay",
              "size": 10,
              "solidity": 0.2
             }
            },
            "type": "bar"
           }
          ],
          "barpolar": [
           {
            "marker": {
             "line": {
              "color": "#E5ECF6",
              "width": 0.5
             },
             "pattern": {
              "fillmode": "overlay",
              "size": 10,
              "solidity": 0.2
             }
            },
            "type": "barpolar"
           }
          ],
          "carpet": [
           {
            "aaxis": {
             "endlinecolor": "#2a3f5f",
             "gridcolor": "white",
             "linecolor": "white",
             "minorgridcolor": "white",
             "startlinecolor": "#2a3f5f"
            },
            "baxis": {
             "endlinecolor": "#2a3f5f",
             "gridcolor": "white",
             "linecolor": "white",
             "minorgridcolor": "white",
             "startlinecolor": "#2a3f5f"
            },
            "type": "carpet"
           }
          ],
          "choropleth": [
           {
            "colorbar": {
             "outlinewidth": 0,
             "ticks": ""
            },
            "type": "choropleth"
           }
          ],
          "contour": [
           {
            "colorbar": {
             "outlinewidth": 0,
             "ticks": ""
            },
            "colorscale": [
             [
              0,
              "#0d0887"
             ],
             [
              0.1111111111111111,
              "#46039f"
             ],
             [
              0.2222222222222222,
              "#7201a8"
             ],
             [
              0.3333333333333333,
              "#9c179e"
             ],
             [
              0.4444444444444444,
              "#bd3786"
             ],
             [
              0.5555555555555556,
              "#d8576b"
             ],
             [
              0.6666666666666666,
              "#ed7953"
             ],
             [
              0.7777777777777778,
              "#fb9f3a"
             ],
             [
              0.8888888888888888,
              "#fdca26"
             ],
             [
              1,
              "#f0f921"
             ]
            ],
            "type": "contour"
           }
          ],
          "contourcarpet": [
           {
            "colorbar": {
             "outlinewidth": 0,
             "ticks": ""
            },
            "type": "contourcarpet"
           }
          ],
          "heatmap": [
           {
            "colorbar": {
             "outlinewidth": 0,
             "ticks": ""
            },
            "colorscale": [
             [
              0,
              "#0d0887"
             ],
             [
              0.1111111111111111,
              "#46039f"
             ],
             [
              0.2222222222222222,
              "#7201a8"
             ],
             [
              0.3333333333333333,
              "#9c179e"
             ],
             [
              0.4444444444444444,
              "#bd3786"
             ],
             [
              0.5555555555555556,
              "#d8576b"
             ],
             [
              0.6666666666666666,
              "#ed7953"
             ],
             [
              0.7777777777777778,
              "#fb9f3a"
             ],
             [
              0.8888888888888888,
              "#fdca26"
             ],
             [
              1,
              "#f0f921"
             ]
            ],
            "type": "heatmap"
           }
          ],
          "heatmapgl": [
           {
            "colorbar": {
             "outlinewidth": 0,
             "ticks": ""
            },
            "colorscale": [
             [
              0,
              "#0d0887"
             ],
             [
              0.1111111111111111,
              "#46039f"
             ],
             [
              0.2222222222222222,
              "#7201a8"
             ],
             [
              0.3333333333333333,
              "#9c179e"
             ],
             [
              0.4444444444444444,
              "#bd3786"
             ],
             [
              0.5555555555555556,
              "#d8576b"
             ],
             [
              0.6666666666666666,
              "#ed7953"
             ],
             [
              0.7777777777777778,
              "#fb9f3a"
             ],
             [
              0.8888888888888888,
              "#fdca26"
             ],
             [
              1,
              "#f0f921"
             ]
            ],
            "type": "heatmapgl"
           }
          ],
          "histogram": [
           {
            "marker": {
             "pattern": {
              "fillmode": "overlay",
              "size": 10,
              "solidity": 0.2
             }
            },
            "type": "histogram"
           }
          ],
          "histogram2d": [
           {
            "colorbar": {
             "outlinewidth": 0,
             "ticks": ""
            },
            "colorscale": [
             [
              0,
              "#0d0887"
             ],
             [
              0.1111111111111111,
              "#46039f"
             ],
             [
              0.2222222222222222,
              "#7201a8"
             ],
             [
              0.3333333333333333,
              "#9c179e"
             ],
             [
              0.4444444444444444,
              "#bd3786"
             ],
             [
              0.5555555555555556,
              "#d8576b"
             ],
             [
              0.6666666666666666,
              "#ed7953"
             ],
             [
              0.7777777777777778,
              "#fb9f3a"
             ],
             [
              0.8888888888888888,
              "#fdca26"
             ],
             [
              1,
              "#f0f921"
             ]
            ],
            "type": "histogram2d"
           }
          ],
          "histogram2dcontour": [
           {
            "colorbar": {
             "outlinewidth": 0,
             "ticks": ""
            },
            "colorscale": [
             [
              0,
              "#0d0887"
             ],
             [
              0.1111111111111111,
              "#46039f"
             ],
             [
              0.2222222222222222,
              "#7201a8"
             ],
             [
              0.3333333333333333,
              "#9c179e"
             ],
             [
              0.4444444444444444,
              "#bd3786"
             ],
             [
              0.5555555555555556,
              "#d8576b"
             ],
             [
              0.6666666666666666,
              "#ed7953"
             ],
             [
              0.7777777777777778,
              "#fb9f3a"
             ],
             [
              0.8888888888888888,
              "#fdca26"
             ],
             [
              1,
              "#f0f921"
             ]
            ],
            "type": "histogram2dcontour"
           }
          ],
          "mesh3d": [
           {
            "colorbar": {
             "outlinewidth": 0,
             "ticks": ""
            },
            "type": "mesh3d"
           }
          ],
          "parcoords": [
           {
            "line": {
             "colorbar": {
              "outlinewidth": 0,
              "ticks": ""
             }
            },
            "type": "parcoords"
           }
          ],
          "pie": [
           {
            "automargin": true,
            "type": "pie"
           }
          ],
          "scatter": [
           {
            "fillpattern": {
             "fillmode": "overlay",
             "size": 10,
             "solidity": 0.2
            },
            "type": "scatter"
           }
          ],
          "scatter3d": [
           {
            "line": {
             "colorbar": {
              "outlinewidth": 0,
              "ticks": ""
             }
            },
            "marker": {
             "colorbar": {
              "outlinewidth": 0,
              "ticks": ""
             }
            },
            "type": "scatter3d"
           }
          ],
          "scattercarpet": [
           {
            "marker": {
             "colorbar": {
              "outlinewidth": 0,
              "ticks": ""
             }
            },
            "type": "scattercarpet"
           }
          ],
          "scattergeo": [
           {
            "marker": {
             "colorbar": {
              "outlinewidth": 0,
              "ticks": ""
             }
            },
            "type": "scattergeo"
           }
          ],
          "scattergl": [
           {
            "marker": {
             "colorbar": {
              "outlinewidth": 0,
              "ticks": ""
             }
            },
            "type": "scattergl"
           }
          ],
          "scattermapbox": [
           {
            "marker": {
             "colorbar": {
              "outlinewidth": 0,
              "ticks": ""
             }
            },
            "type": "scattermapbox"
           }
          ],
          "scatterpolar": [
           {
            "marker": {
             "colorbar": {
              "outlinewidth": 0,
              "ticks": ""
             }
            },
            "type": "scatterpolar"
           }
          ],
          "scatterpolargl": [
           {
            "marker": {
             "colorbar": {
              "outlinewidth": 0,
              "ticks": ""
             }
            },
            "type": "scatterpolargl"
           }
          ],
          "scatterternary": [
           {
            "marker": {
             "colorbar": {
              "outlinewidth": 0,
              "ticks": ""
             }
            },
            "type": "scatterternary"
           }
          ],
          "surface": [
           {
            "colorbar": {
             "outlinewidth": 0,
             "ticks": ""
            },
            "colorscale": [
             [
              0,
              "#0d0887"
             ],
             [
              0.1111111111111111,
              "#46039f"
             ],
             [
              0.2222222222222222,
              "#7201a8"
             ],
             [
              0.3333333333333333,
              "#9c179e"
             ],
             [
              0.4444444444444444,
              "#bd3786"
             ],
             [
              0.5555555555555556,
              "#d8576b"
             ],
             [
              0.6666666666666666,
              "#ed7953"
             ],
             [
              0.7777777777777778,
              "#fb9f3a"
             ],
             [
              0.8888888888888888,
              "#fdca26"
             ],
             [
              1,
              "#f0f921"
             ]
            ],
            "type": "surface"
           }
          ],
          "table": [
           {
            "cells": {
             "fill": {
              "color": "#EBF0F8"
             },
             "line": {
              "color": "white"
             }
            },
            "header": {
             "fill": {
              "color": "#C8D4E3"
             },
             "line": {
              "color": "white"
             }
            },
            "type": "table"
           }
          ]
         },
         "layout": {
          "annotationdefaults": {
           "arrowcolor": "#2a3f5f",
           "arrowhead": 0,
           "arrowwidth": 1
          },
          "autotypenumbers": "strict",
          "coloraxis": {
           "colorbar": {
            "outlinewidth": 0,
            "ticks": ""
           }
          },
          "colorscale": {
           "diverging": [
            [
             0,
             "#8e0152"
            ],
            [
             0.1,
             "#c51b7d"
            ],
            [
             0.2,
             "#de77ae"
            ],
            [
             0.3,
             "#f1b6da"
            ],
            [
             0.4,
             "#fde0ef"
            ],
            [
             0.5,
             "#f7f7f7"
            ],
            [
             0.6,
             "#e6f5d0"
            ],
            [
             0.7,
             "#b8e186"
            ],
            [
             0.8,
             "#7fbc41"
            ],
            [
             0.9,
             "#4d9221"
            ],
            [
             1,
             "#276419"
            ]
           ],
           "sequential": [
            [
             0,
             "#0d0887"
            ],
            [
             0.1111111111111111,
             "#46039f"
            ],
            [
             0.2222222222222222,
             "#7201a8"
            ],
            [
             0.3333333333333333,
             "#9c179e"
            ],
            [
             0.4444444444444444,
             "#bd3786"
            ],
            [
             0.5555555555555556,
             "#d8576b"
            ],
            [
             0.6666666666666666,
             "#ed7953"
            ],
            [
             0.7777777777777778,
             "#fb9f3a"
            ],
            [
             0.8888888888888888,
             "#fdca26"
            ],
            [
             1,
             "#f0f921"
            ]
           ],
           "sequentialminus": [
            [
             0,
             "#0d0887"
            ],
            [
             0.1111111111111111,
             "#46039f"
            ],
            [
             0.2222222222222222,
             "#7201a8"
            ],
            [
             0.3333333333333333,
             "#9c179e"
            ],
            [
             0.4444444444444444,
             "#bd3786"
            ],
            [
             0.5555555555555556,
             "#d8576b"
            ],
            [
             0.6666666666666666,
             "#ed7953"
            ],
            [
             0.7777777777777778,
             "#fb9f3a"
            ],
            [
             0.8888888888888888,
             "#fdca26"
            ],
            [
             1,
             "#f0f921"
            ]
           ]
          },
          "colorway": [
           "#636efa",
           "#EF553B",
           "#00cc96",
           "#ab63fa",
           "#FFA15A",
           "#19d3f3",
           "#FF6692",
           "#B6E880",
           "#FF97FF",
           "#FECB52"
          ],
          "font": {
           "color": "#2a3f5f"
          },
          "geo": {
           "bgcolor": "white",
           "lakecolor": "white",
           "landcolor": "#E5ECF6",
           "showlakes": true,
           "showland": true,
           "subunitcolor": "white"
          },
          "hoverlabel": {
           "align": "left"
          },
          "hovermode": "closest",
          "mapbox": {
           "style": "light"
          },
          "paper_bgcolor": "white",
          "plot_bgcolor": "#E5ECF6",
          "polar": {
           "angularaxis": {
            "gridcolor": "white",
            "linecolor": "white",
            "ticks": ""
           },
           "bgcolor": "#E5ECF6",
           "radialaxis": {
            "gridcolor": "white",
            "linecolor": "white",
            "ticks": ""
           }
          },
          "scene": {
           "xaxis": {
            "backgroundcolor": "#E5ECF6",
            "gridcolor": "white",
            "gridwidth": 2,
            "linecolor": "white",
            "showbackground": true,
            "ticks": "",
            "zerolinecolor": "white"
           },
           "yaxis": {
            "backgroundcolor": "#E5ECF6",
            "gridcolor": "white",
            "gridwidth": 2,
            "linecolor": "white",
            "showbackground": true,
            "ticks": "",
            "zerolinecolor": "white"
           },
           "zaxis": {
            "backgroundcolor": "#E5ECF6",
            "gridcolor": "white",
            "gridwidth": 2,
            "linecolor": "white",
            "showbackground": true,
            "ticks": "",
            "zerolinecolor": "white"
           }
          },
          "shapedefaults": {
           "line": {
            "color": "#2a3f5f"
           }
          },
          "ternary": {
           "aaxis": {
            "gridcolor": "white",
            "linecolor": "white",
            "ticks": ""
           },
           "baxis": {
            "gridcolor": "white",
            "linecolor": "white",
            "ticks": ""
           },
           "bgcolor": "#E5ECF6",
           "caxis": {
            "gridcolor": "white",
            "linecolor": "white",
            "ticks": ""
           }
          },
          "title": {
           "x": 0.05
          },
          "xaxis": {
           "automargin": true,
           "gridcolor": "white",
           "linecolor": "white",
           "ticks": "",
           "title": {
            "standoff": 15
           },
           "zerolinecolor": "white",
           "zerolinewidth": 2
          },
          "yaxis": {
           "automargin": true,
           "gridcolor": "white",
           "linecolor": "white",
           "ticks": "",
           "title": {
            "standoff": 15
           },
           "zerolinecolor": "white",
           "zerolinewidth": 2
          }
         }
        },
        "title": {
         "text": "Distribuição de idade dos jogadores da plataforma Gamers Club"
        },
        "width": 800,
        "xaxis": {
         "anchor": "y2",
         "domain": [
          0,
          1
         ],
         "zeroline": false
        },
        "yaxis": {
         "anchor": "free",
         "domain": [
          0,
          1
         ],
         "position": 0
        }
       }
      }
     },
     "metadata": {},
     "output_type": "display_data"
    }
   ],
   "source": [
    "# Histogram of player age\n",
    "# Distribution curve over histogram\n",
    "# Preparing data\n",
    "x = np.array(players['age'])\n",
    "# Remove NaN values\n",
    "x = x[~np.isnan(x)]\n",
    "# Remove x bigger than 47\n",
    "x = x[x < 47]\n",
    "# Limit n bins to 20\n",
    "fig = ff.create_distplot([x], ['Idade dos jogadores'], bin_size=1, show_rug=False, histnorm='probability', curve_type='normal')\n",
    "# fig width = 400px\n",
    "fig.update_layout(width=800)\n",
    "# Graph title = \"Distribuição de idade dos jogadores da plataforma Gamers Club\"\n",
    "fig.update_layout(title='Distribuição de idade dos jogadores da plataforma Gamers Club')\n",
    "# Set bar colors to cyan\n",
    "fig.update_traces(marker_color='#393E46')\n",
    "# Set curve color to red\n",
    "fig.update_traces(selector=dict(type='histogram'), marker_color='orange')\n",
    "fig.show()"
   ]
  },
  {
   "attachments": {},
   "cell_type": "markdown",
   "metadata": {},
   "source": [
    "**Nota: barras do histograma limitadas à 20. Isso causou a remoção dos outliers: jogadores mais velhos que 45 anos. Haviam apenas 8.**"
   ]
  },
  {
   "cell_type": "code",
   "execution_count": 16,
   "metadata": {},
   "outputs": [
    {
     "data": {
      "text/plain": [
       "162076    12.0\n",
       "22986      5.0\n",
       "65498      4.0\n",
       "70875      4.0\n",
       "18990      3.0\n",
       "27468      3.0\n",
       "49793      3.0\n",
       "47274      3.0\n",
       "161430     3.0\n",
       "38089      3.0\n",
       "Name: qtTk, dtype: float64"
      ]
     },
     "execution_count": 16,
     "metadata": {},
     "output_type": "execute_result"
    }
   ],
   "source": [
    "lobby_players['qtTk'].sort_values(ascending=False).head(10)"
   ]
  },
  {
   "attachments": {},
   "cell_type": "markdown",
   "metadata": {},
   "source": [
    "## Parte 2: resto das coisas"
   ]
  },
  {
   "cell_type": "code",
   "execution_count": 17,
   "metadata": {},
   "outputs": [
    {
     "data": {
      "image/png": "[encoded data removed]",
      "text/plain": [
       "<Figure size 800x550 with 1 Axes>"
      ]
     },
     "metadata": {},
     "output_type": "display_data"
    }
   ],
   "source": [
    "# Assuming your dataframe is called 'df'\n",
    "sns.boxplot(x=lobby_players['vlLevel'])\n",
    "\n",
    "# Add title and labels\n",
    "plt.title('Boxplot of the players level')\n",
    "#plt.xlabel('vlLevel')\n",
    "plt.ylabel('Value')\n",
    "\n",
    "# Show the plot\n",
    "plt.show()\n"
   ]
  },
  {
   "cell_type": "code",
   "execution_count": 18,
   "metadata": {},
   "outputs": [
    {
     "data": {
      "image/png": "[encoded data removed]",
      "text/plain": [
       "<Figure size 800x550 with 1 Axes>"
      ]
     },
     "metadata": {},
     "output_type": "display_data"
    }
   ],
   "source": [
    "sns.histplot(data=lobby_players, x='vlLevel', kde=True, hue = 'flWinner')\n",
    "\n",
    "#Add title and labels\n",
    "plt.title('Histogram of the players level')\n",
    "plt.xlabel('vlLevel')\n",
    "plt.ylabel('Frequency')\n",
    "\n",
    "#Show the plot\n",
    "plt.show()"
   ]
  },
  {
   "cell_type": "code",
   "execution_count": 19,
   "metadata": {},
   "outputs": [],
   "source": [
    "#sample = lobby_players.sample(5000)\n",
    "\n",
    "#sns.pairplot(sample)"
   ]
  }
 ],
 "metadata": {
  "kernelspec": {
   "display_name": "base",
   "language": "python",
   "name": "python3"
  },
  "language_info": {
   "codemirror_mode": {
    "name": "ipython",
    "version": 3
   },
   "file_extension": ".py",
   "mimetype": "text/x-python",
   "name": "python",
   "nbconvert_exporter": "python",
   "pygments_lexer": "ipython3",
   "version": "3.10.10"
  },
  "orig_nbformat": 4
 },
 "nbformat": 4,
 "nbformat_minor": 2
}
